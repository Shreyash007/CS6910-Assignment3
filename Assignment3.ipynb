{
  "cells": [
    {
      "cell_type": "markdown",
      "metadata": {
        "id": "view-in-github",
        "colab_type": "text"
      },
      "source": [
        "<a href=\"https://colab.research.google.com/github/Shreyash007/CS6910-Assignment3/blob/main/Assignment3.ipynb\" target=\"_parent\"><img src=\"https://colab.research.google.com/assets/colab-badge.svg\" alt=\"Open In Colab\"/></a>"
      ]
    },
    {
      "cell_type": "code",
      "execution_count": 1,
      "metadata": {
        "colab": {
          "base_uri": "https://localhost:8080/"
        },
        "id": "Dah3sIHW7I8z",
        "outputId": "fde90822-983d-403a-c249-dd6f320fd83b"
      },
      "outputs": [
        {
          "output_type": "stream",
          "name": "stdout",
          "text": [
            "--2023-05-21 12:52:13--  https://drive.google.com/file/d/1uRKU4as2NlS9i8sdLRS1e326vQRdhvfw/view?usp=sharing\n",
            "Resolving drive.google.com (drive.google.com)... 74.125.130.138, 74.125.130.100, 74.125.130.113, ...\n",
            "Connecting to drive.google.com (drive.google.com)|74.125.130.138|:443... connected.\n",
            "HTTP request sent, awaiting response... 200 OK\n",
            "Length: unspecified [text/html]\n",
            "Saving to: ‘view?usp=sharing’\n",
            "\n",
            "view?usp=sharing        [ <=>                ]  73.93K  --.-KB/s    in 0.01s   \n",
            "\n",
            "2023-05-21 12:52:14 (6.42 MB/s) - ‘view?usp=sharing’ saved [75702]\n",
            "\n"
          ]
        }
      ],
      "source": [
        "!yes | wget \"https://drive.google.com/file/d/1uRKU4as2NlS9i8sdLRS1e326vQRdhvfw/view?usp=sharing\""
      ]
    },
    {
      "cell_type": "code",
      "execution_count": 2,
      "metadata": {
        "colab": {
          "base_uri": "https://localhost:8080/"
        },
        "id": "VrKhtskRfqcx",
        "outputId": "187ff478-0947-45aa-92dd-c898c0f27fdd"
      },
      "outputs": [
        {
          "output_type": "stream",
          "name": "stdout",
          "text": [
            "Sun May 21 12:52:15 2023       \n",
            "+-----------------------------------------------------------------------------+\n",
            "| NVIDIA-SMI 525.85.12    Driver Version: 525.85.12    CUDA Version: 12.0     |\n",
            "|-------------------------------+----------------------+----------------------+\n",
            "| GPU  Name        Persistence-M| Bus-Id        Disp.A | Volatile Uncorr. ECC |\n",
            "| Fan  Temp  Perf  Pwr:Usage/Cap|         Memory-Usage | GPU-Util  Compute M. |\n",
            "|                               |                      |               MIG M. |\n",
            "|===============================+======================+======================|\n",
            "|   0  Tesla T4            Off  | 00000000:00:04.0 Off |                    0 |\n",
            "| N/A   41C    P8    12W /  70W |      0MiB / 15360MiB |      0%      Default |\n",
            "|                               |                      |                  N/A |\n",
            "+-------------------------------+----------------------+----------------------+\n",
            "                                                                               \n",
            "+-----------------------------------------------------------------------------+\n",
            "| Processes:                                                                  |\n",
            "|  GPU   GI   CI        PID   Type   Process name                  GPU Memory |\n",
            "|        ID   ID                                                   Usage      |\n",
            "|=============================================================================|\n",
            "|  No running processes found                                                 |\n",
            "+-----------------------------------------------------------------------------+\n"
          ]
        }
      ],
      "source": [
        "!nvidia-smi"
      ]
    },
    {
      "cell_type": "code",
      "execution_count": 3,
      "metadata": {
        "colab": {
          "base_uri": "https://localhost:8080/"
        },
        "id": "Fl3oO7Gd7Yi7",
        "outputId": "168a1e6c-a21f-42ee-e706-4358a15c0454"
      },
      "outputs": [
        {
          "output_type": "stream",
          "name": "stdout",
          "text": [
            "Mounted at /content/drive\n"
          ]
        }
      ],
      "source": [
        "from google.colab import drive\n",
        "import pandas as pd\n",
        "\n",
        "drive.mount('/content/drive')"
      ]
    },
    {
      "cell_type": "markdown",
      "source": [
        "# LOADING DATA FROM CSV FILES"
      ],
      "metadata": {
        "id": "5NDoNJFeN5TC"
      }
    },
    {
      "cell_type": "code",
      "execution_count": 4,
      "metadata": {
        "id": "8DUylqRTCSHJ"
      },
      "outputs": [],
      "source": [
        "def load_data(path):\n",
        "    with open(path) as fil:\n",
        "        data = pd.read_csv(fil,sep=',',header=None,names=[\"en\",\"ma\",\"\"],skip_blank_lines=True,index_col=None)\n",
        "    data = data[data['en'].notna()]\n",
        "    data = data[data['ma'].notna()]\n",
        "    data = data[['en','ma']]\n",
        "    return data"
      ]
    },
    {
      "cell_type": "code",
      "execution_count": 5,
      "metadata": {
        "colab": {
          "base_uri": "https://localhost:8080/"
        },
        "id": "drRm1kLlCdXy",
        "outputId": "16795259-8e51-4739-c72b-34b756e5b359"
      },
      "outputs": [
        {
          "output_type": "stream",
          "name": "stdout",
          "text": [
            "              en         ma\n",
            "0        heetler      हिटलर\n",
            "1         kshama      क्षमा\n",
            "2         jinkta     जिंकता\n",
            "3        kaushik      कौशिक\n",
            "4      jaadoogar     जादूगर\n",
            "...          ...        ...\n",
            "4091     devicha     देवीचा\n",
            "4092      beebee       बेबी\n",
            "4093    sukshama    सुक्ष्म\n",
            "4094  julymadhye  जुलैमध्ये\n",
            "4095      robins    रॉबिन्स\n",
            "\n",
            "[4096 rows x 2 columns]\n",
            "['heetler', 'kshama', 'jinkta', 'kaushik', 'jaadoogar', 'chaalavanyaachaa', 'samaajkaaryaat', 'thandine', 'maalmtaadharkaanmdhey', 'tukdoji', 'shivsainikasathi', 'subojitne', 'poshanasathi', 'hotee', 'ushmaa', 'tondawar', 'mele', 'annapolis', 'bombay', 'aavadtya', 'adhyaksheey', 'shetkaryaanchyaabaabat', 'barai', 'sangneamulay', 'sankate', 'mets', 'mulam', 'tinada', 'antarvastrapaasun', 'durgech', 'mulachaa', 'harananche', 'kashtache', 'talhta', 'eeseen', 'dharmshikshanaache', 'shheffield', 'loid', 'rugnanvar', 'anuvadasathee', 'babhadgav', 'karanehee', 'sampalyaane', 'ekalaa', 'chakreewadalacha', 'vibhagiya', 'doghaannihi', 'shikshanvishayak', 'kshamteche', 'sura', 'bital', 'yadeetoon', 'adhyapan', 'audhyogikeekaran', 'columbus', 'adhikchya', 'purushottam', 'jaadhavaannee', 'shikshanapaddhatee', 'parikshaakendraavr', 'kurtakoti', 'shrivas', 'gandhinagar', 'kantratdaranmdhay', 'hiropanati', 'asave', 'sahahee', 'bhasin', 'ghenaaryaa', 'halavalee', 'aaichi', 'vahatukichi', 'asavi', 'maharashtraabaddalachaa', 'gudepu', 'vadhvila', 'pakeystani', 'englandne', 'surendranagar', 'missoula', 'balageet', 'mahavitaranane', 'sengar', 'greecemadhalee', 'lane', 'borivalee', 'zero', 'rohan', 'yethe', 'nabhi', 'zunja', 'beebi', 'linc', 'tide', 'vaachane', 'vightnaapayshaa', 'paleeche', 'awayawanchi', 'vasundhara', 'beena', 'baubbi', 'mahimeantargat', 'kshtrap', 'beard', 'karepataar', 'turoongat', 'mukkam', 'maval', 'jivani', 'pathavi', 'shivapratishthaanachee', 'vij', 'paryavekshak', 'narayan', 'achook', 'satkarm', 'los', 'yoonuus', 'jaaniva', 'jijabainna', 'nakshalwaad', 'svachchataagruhe', 'rudhinmadhe', 'kapurchya', 'dalaateel', 'chaibasa', 'stutya', 'aamlapittaache', 'basow', 'hitalarachya', 'kaltanee', 'paishansaathi', 'warshabharaachyaa', 'tilanjali', 'pulajawal', 'dinakramaamule', 'palale', 'undarson', 'vibhagache', 'khandobach', 'utpaadanaanmadhye', 'mahaasattaa', 'meetarmadhye', 'utsavateel', 'rajesh', 'katadeecha', 'aathawalyaasaarakhaa', 'pachayla', 'paishaasaathee', 'dusaryachee', 'jo', 'vibhagaavar', 'sangneamule', 'pathbadavar', 'suchana', 'mohimedaramyan', 'matee', 'udya', 'nachvat', 'dakaghar', 'otoon', 'miqee', 'prayoganantar', 'pathbalavar', 'zankaarlel', 'patan', 'satkar', 'paklee', 'controls', 'quick', 'sambandhanvishyeechea', 'dawood', 'moore', 'rajanvirodhat', 'reach', 'rilif', 'baabhlichi', 'yanchyamadhye', 'graham', 'sunavale', 'rajasthanatoon', 'fiid', 'pasha', 'vahtukeechee', 'kharval', 'satarave', 'aaropeemvirudha', 'chinchwad', 'dandvate', 'lawyer', 'chhata', 'bishnupur', 'raajaanwirodhaat', 'pramukhant', 'traqing', 'jamirmadhye', 'sopaareananter', 'barbaad', 'rokhala', 'pitali', 'aajamitis', 'kripa', 'miikee', 'shetkareancheababat', 'khasabag', 'paddhticha', 'calhoun', 'dhwaniche', 'sanskaracha', 'ghatasthapana', 'bhagwantache', 'bhooprushtaakhaali', 'shivasainikaanviruddha', 'suranchi', 'maahaamargachee', 'rakhadalaa', 'vebsaitsvirodhaat', 'shaw', 'tamalvadit', 'sambandhachya', 'falandaajeechee', 'navnavin', 'aajmitis', 'suraksheche', 'barobarinech', 'taratareet', 'rugnaalayaasandarbhaat', 'tapmanavar', 'kaarvaaechee', 'ayoowa', 'bhushan', 'wajlyaapaasoon', 'sinha', 'gulmarg', 'potnivadnukeesatheechee', 'baltimore', 'aadi', 'behere', 'molina', 'shail', 'agra', 'basawava', 'silvasa', 'andhkarmay', 'trenton', 'aarakshanaavar', 'janawaranchi', 'manjoor', 'enzyme', 'prakrnanaahi', 'majbuteekaran', 'mosley', 'chini', 'solanki', 'masemarivar', 'vaparata', 'prasuti', 'mandiravishayeechea', 'milion', 'mulansathi', 'naukar', 'busgaadyaanmadhye', 'yanchyapeksha', 'ranichya', 'changalach', 'putta', 'taatkal', 'thamabai', 'thecharsobat', 'halat', 'beshuddhpanaamule', 'lekhateel', 'roonii', 'kalar', 'prayogatil', 'poole', 'aashevar', 'joq', 'bahineechyaa', 'ashahee', 'pudukkottai', 'prashanansaathee', 'raykar', 'bhookampane', 'jabalpur', 'aagekooch', 'upyogi', 'madar', 'pathavnyas', 'ayoova', 'groundvrch', 'reghaanchya', 'bronkaytis', 'balakanchee', 'boardache', 'vaganook', 'bahinichya', 'aasaram', 'mohimecha', 'chukli', 'agdi', 'hiropanti', 'chembond', 'magdum', 'suvarnayog', 'aarakhade', 'lavanyasathee', 'paddhatee', 'tukadilaa', 'chadhaayalaa', 'er', 'sanad', 'sheareemadhye', 'aaikadun', 'prashnaanmule', 'matadaaraalaa', 'rebipoor', 'bassthanakawar', 'pinaareanvirodhat', 'vebasaaeetsanaahee', 'shetitoon', 'renakoot', 'ghadavate', 'lohatney', 'pratisthancha', 'kashtachi', 'michael', 'asalelee', 'sansthene', 'frisco', 'pranahi', 'sabhatyag', 'pramanech', 'bhadakale', 'dart', 'andarasana', 'tollnaka', 'tewari', 'baavalaan', 'apuryaa', 'gaalaavar', 'haayalaait', 'taliban', 'skorpio', 'madagaskara', 'rapids', 'tantradnyane', 'zharkhand', 'havalnnache', 'kartoy', 'euclid', 'rugnaavar', 'paso', 'patriket', 'vinita', 'tut', 'lakshanancha', 'reshepaleekadoon', 'hisar', 'foundationchya', 'akolekaransathi', 'tyanech', 'merta', 'swaricha', 'upv', 'prachin', 'englandmadheel', 'raashtrapatinna', 'mooth', 'sobteene', 'vyaap', 'sukalee', 'konfarasasaathee', 'itaraannaahi', 'potnivadnukaanmadhe', 'hetler', 'troy', 'paakishtan', 'veej', 'vyavasthela', 'jaltana', 'khilkhile', 'daptarche', 'sivasagar', 'jaagrukta', 'bhaginee', 'treesi', 'himalayachya', 'chalalay', 'ahemadabadla', 'lanpaasachea', 'yaanchyaasamorachyaa', 'dombivaleechyaa', 'mangan', 'janawarachya', 'karavili', 'barker', 'leach', 'chakrivadalacha', 'cook', 'kamatil', 'vibhagashee', 'chitrapatsrushti', 'tharavile', 'vyavasthapanasathi', 'toophu', 'kline', 'navanaveen', 'amroha', 'must', 'beetal', 'ghasaralee', 'maandkey', 'murteekarankadun', 'javanankadunahee', 'dfrlche', 'shikshanaabaddalachyaa', 'neil', 'male', 'aatmdrushteeche', 'samaarik', 'dalalanna', 'moresby', 'sardaranni', 'parna', 'budhanche', 'prashnabaabat', 'kollam', 'premalpana', 'jaaminaasaathee', 'yaprakarchya', 'savara', 'tithehi', 'ovalanee', 'swareecha', 'yenyasandarbhaatahee', 'paristhitichi', 'dental', 'karvaadh', 'dhulai', 'koparyaat', 'durgavansh', 'shaytkreamul', 'atlaantikmdhe', 'sankatancha', 'asadhy', 'janmtat', 'porwal', 'vikaaskame', 'rogers', 'sadarachee', 'karakhandar', 'laksha', 'sanee', 'parvachya', 'dalbii', 'dangey', 'asalo', 'yasee', 'paathavate', 'prasarmadhyamachaa', 'praveshacha', 'mhanalet', 'shivarayanchi', 'svarat', 'lim', 'mirabai', 'vance', 'deevatyanna', 'rugnavar', 'karaale', 'khobanee', 'sonawane', 'rasaamadhe', 'akshamya', 'pakistanmadheel', 'akzo', 'paddhateencha', 'devatance', 'ballaad', 'laaju', 'pyacket', 'mohimechya', 'belse', 'bapat', 'brahmapur', 'dasgupta', 'olsen', 'pradeshatch', 'khulavinyaasaatheechyaa', 'tantragyanatil', 'nivadnuki', 'alto', 'dhave', 'manushyavadhachach', 'raupyapadak', 'kaamaateel', 'nitin', 'nirnyaanusara', 'infobeans', 'gangtok', 'vibhagancha', 'yanchyakadoon', 'maulyavaan', 'basateel', 'syracuse', 'hookate', 'taamilnadoot', 'maitrini', 'hichyakade', 'shaaraja', 'tatkalik', 'finniesh', 'hackensack', 'metals', 'durlakshile', 'inayat', 'prithvila', 'pakeestanii', 'atishay', 'sheytkareancheabarobr', 'ulatpakshee', 'tanga', 'amer', 'suvarnamay', 'karur', 'loan', 'deshavyaapak', 'precision', 'mahawar', 'shodhoo', 'bilaspur', 'sansrgaanchea', 'parrish', 'ingram', 'padnyachya', 'arunkumar', 'afghanistan', 'tippaneanaa', 'kenneth', 'amlapittache', 'lokeshanmadhil', 'jhudapat', 'kholichya', 'naateamdhay', 'rajput', 'bhaavook', 'mhananaryanpaiki', 'kaamarakond', 'sheteetoon', 'horse', 'mahaamargapryntcha', 'dooshne', 'gharajaval', 'rekordingcha', 'yethehi', 'endaus', 'svaatantryaavirodhaat', 'tukadeecha', 'nilagay', 'wilkerson', 'nagoji', 'baracq', 'dajracha', 'packeet', 'dadanni', 'amrapoorkar', 'mandadi', 'utarave', 'carr', 'aapaapsat', 'chipalunkar', 'marayachee', 'bhitimule', 'paryantache', 'adathala', 'waagaayalaa', 'topli', 'prayogachya', 'tayde', 'ladakh', 'ganika', 'daah', 'yethahee', 'jha', 'padvivaaleala', 'asnareansathihi', 'olandala', 'andaajahee', 'kadapa', 'shrirampur', 'purvajanche', 'widya', 'simit', 'pradirgh', 'mulavar', 'uthane', 'pakistanee', 'athaletiks', 'uchalaayla', 'jodagoline', 'year', 'sanshodhakanche', 'dhaneshaat', 'pratinidheemandlachyaa', 'bhookampanantar', 'itarancha', 'varyane', 'jaganyachi', 'tukdine', 'bhaveenimgaav', 'pathbhed', 'aagle', 'akolekaraansaathee', 'paryavaranaatalyaa', 'parvanginech', 'adjastment', 'pranteey', 'rangalee', 'institute', 'hichi', 'aanandajee', 'sheshaanicha', 'aventura', 'reenkot', 'phacebook', 'yeton', 'term', 'padnyaat', 'vahtukichi', 'manipur', 'braahman', 'ani', 'etawah', 'maria', 'sohlyaavishayeechee', 'asnaareanmdhey', 'wijaapoorves', 'antarvastraapaasun', 'lagaavale', 'yantranaannihee', 'kashyap', 'sheekshanaatil', 'quraishi', 'pavla', 'kasavanchee', 'espinoza', 'sheffiield', 'isk', 'vibhagakade', 'dakhavile', 'baadhak', 'ranichi', 'nirnayanusaara', 'wyavasthesarkha', 'vaarasadaaraasaathee', 'sanvedan', 'mahasatta', 'bhogiley', 'balaghat', 'andhakaramay', 'rashtanpryant', 'jok', 'baithakiteel', 'aditya', 'vidnyaanaanmadhye', 'khalu', 'waadhawinyaabaabatachaa', 'andarson', 'kaydyas', 'axis', 'kootumbampaikee', 'ashikshitaachaa', 'laagalaay', 'karimnagar', 'hrusheekesh', 'idmonton', 'khanaval', 'adi', 'aishwary', 'pathveet', 'brownsville', 'patipatneenna', 'dehri', 'shetkaryanche', 'shoes', 'ghrushneshvar', 'paugandavastheteel', 'velaprasangi', 'rahta', 'vasishtha', 'amreli', 'tatdichi', 'pratishthaana', 'sheell', 'hoowe', 'lambnivar', 'taren', 'shivsainikaasathee', 'bharavila', 'mosami', 'misalatat', 'georgetown', 'banlan', 'doghejan', 'beverages', 'tustin', 'sthanikankadoon', 'chadhavat', 'sodvnaareyhi', 'khalla', 'vyaktincheakde', 'pakiistanii', 'jhaadaghar', 'prayoganchi', 'vegalee', 'varshanchi', 'ahemdabadchya', 'sansarganchea', 'falandajichi', 'dhaamdhoom', 'penshandharkane', 'guntvnukdarannahee', 'erie', 'instrumentne', 'maagnyachi', 'jhunj', 'ballia', 'barnstable', 'engraj', 'sanhitanatargat', 'sambandhaanvishyichea', 'tantragyanachi', 'chaleesche', 'moody', 'waachun', 'endoneshan', 'upayogansathee', 'machine', 'montes', 'badya', 'shivagauri', 'durgkhand', 'rajeynvirodhat', 'mulanpaiki', 'vijayapura', 'kalhai', 'baawalaan', 'badashahane', 'beedmadhye', 'balakancha', 'rajyananadaykheel', 'eeshanyela', 'sudradh', 'sasarche', 'railway', 'sweeng', 'foodworks', 'soto', 'yapurvihee', 'jastan', 'bhaarateeyaanchyaa', 'gurfatlyaamule', 'chand', 'aambavamadheel', 'nivadnukanparyantach', 'gothawinyaasandarbhaateel', 'machine', 'ustodani', 'rugnaanvar', 'tiberius', 'scorpio', 'zopadpatti', 'kundaleet', 'chouras', 'fulpakhraala', 'ishk', 'prithvichya', 'saynsache', 'deshmukh', 'paadvi', 'jhudapi', 'dhawanar', 'munnabhai', 'mahaaraashtra', 'mohimedarmyan', 'jaljal', 'thekedaranna', 'parismadheel', 'maujeykadun', 'chij', 'hurry', 'palatine', 'taanksal', 'thevanyasathee', 'prakaranpaiki', 'saglikadich', 'chortyavar', 'mukkami', 'tupevadi', 'dhawnaar', 'atyawastha', 'daagadujeenwar', 'dantaale', 'chakreevadalaachaa', 'disnaar', 'jodgoline', 'asnareanmdhay', 'yaprakaray', 'thaakarenche', 'nereparaanbalee', 'divalidekhil', 'sabhanmadhe', 'bodh', 'lucie', 'chitrikarana', 'petronet', 'enterprise', 'rashhiyana', 'mallyaasaarakhyaansaathee', 'bhaavahi', 'arthur', 'prakaranchee', 'midland', 'pathvoo', 'shetkareannachaa', 'prasarmadhyamacha', 'wheeling', 'varshanteel', 'cera', 'tolnakaa', 'illnoise', 'englandkadun', 'itaraannaahee', 'antarveditil', 'ugr', 'metermadhye', 'wanapaal', 'punjab', 'taamilnadut', 'tibeeriyas', 'hattiesburg', 'yaapurveehee', 'edchee', 'colorado', 'tadaa', 'mahamaargapryntcha', 'vetanavaadh', 'ghatkaa', 'teeshun', 'cheaanantar', 'litinglaa', 'jharkhanda', 'lagavale', 'uchalaaveet', 'budbudyanbarobar', 'akhkhyaa', 'aavriteet', 'umedvaransandarbhatil', 'parvaat', 'engines', 'sphotakaandwarey', 'shetamalachee', 'aamuchi', 'satvaparikshaa', 'aaropeenvishayeechee', 'majalyavar', 'index', 'shodhalyaasaarakhaa', 'pathvun', 'aaramsheer', 'aajoobajoochya', 'shel', 'rampur', 'sarkaarvirodhi', 'sohalyasatheechaa', 'unta', 'kethmandu', 'doda', 'shetkreasarkhi', 'khaalaavat', 'hindusthaninvr', 'poleesannee', 'prashnaababat', 'shveeft', 'sayansmadhye', 'dhurala', 'thewanyacha', 'veebhagli', 'torres', 'naipuneasaathi', 'dearborn', 'jhinhaaee', 'rangehaat', 'urdoocha', 'aakrutya', 'prantanchi', 'tinley', 'gondr', 'potache', 'muneennee', 'shivaseneteel', 'crawford', 'akola', 'baghitala', 'kayadebhang', 'shetkaryannee', 'falandajanchya', 'upnam', 'chennai', 'pikansandarbhaat', 'astitvachi', 'bandhani', 'aentibayotikeschi', 'vijaywada', 'paat', 'tyaanchyaabarobarachyaa', 'shishr', 'atlantic', 'matakaa', 'kesara', 'senasaarakhyaa', 'polichi', 'infraprojects', 'dakhavilelya', 'apurva', 'pavadersarkhi', 'otuna', 'pratisthanchi', 'sansthekadoon', 'purvekade', 'godfrey', 'linde', 'purvniyojit', 'padtalniabhavi', 'lilipaykshahee', 'rakhecha', 'equipment', 'waykos', 'madagaawaat', 'chopra', 'prakarasathi', 'wabag', 'tasha', 'baithkitil', 'finnies', 'prachaarasabhaa', 'bobbii', 'paalee', 'paddhatinchi', 'newtonchya', 'papermadhe', 'rokhale', 'tyaamaagchee', 'mandirachi', 'antarvastrapasun', 'ratnagiri', 'adrushy', 'dongararanganni', 'hyaachpramaane', 'yagyik', 'paripak', 'kutoombateel', 'vibhagali', 'yaprakare', 'iova', 'bandhanee', 'nirnayasathi', 'paasoonach', 'venoo', 'jamat', 'pundey', 'teancheakadundekhil', 'atywasth', 'glycols', 'nigraha', 'rajyamadhil', 'fandat', 'reno', 'bhaagavinyaasaathee', 'airtel', 'basto', 'shetakaryaanmulecha', 'jodagolicha', 'dhornanchi', 'vibhagashi', 'shivray', 'vaparavar', 'madina', 'kottayam', 'jaanevaareemadhe', 'karyalayala', 'vellor', 'dwivedi', 'adachan', 'kumar', 'sarangpur', 'kantratdaaranmdhay', 'asnareanvirodhata', 'sansthlaavaril', 'atyaachaaraachyaa', 'shrivastava', 'hindusthaaninvr', 'melaavaa', 'tolnaakaa', 'asaveet', 'moteeram', 'bhaashnacha', 'gatatoon', 'ajaaminpatra', 'yaprakaarche', 'namaskar', 'vichaardharechey', 'allsec', 'chandel', 'tankerne', 'pahuneannee', 'aagau', 'yadav', 'igatpuri', 'noble', 'mangalvedheapaasoon', 'vahatukit', 'ushmank', 'canton', 'maartandrav', 'tapamanavar', 'fundachya', 'scottsdale', 'mahapran', 'steshanmadhe', 'gurakhee', 'seamec', 'kendraaparyantachea', 'mattikatrey', 'ingraj', 'hei', 'phulpakharanchya', 'kharchala', 'shivarayancha', 'notbandeechyaa', 'jard', 'chitradurga', 'vivaahaakherij', 'devasthananchya', 'kaydyat', 'sutargally', 'igoor', 'horton', 'birudan', 'mulaanmadhalaa', 'ophen', 'sheytkreasaarkhee', 'guna', 'dvesh', 'buchanan', 'prakatala', 'prikshakendravr', 'praveshdwarapoorvi', 'biina', 'hiropanatee', 'kumbhamelyaansaathee', 'pophalee', 'atishahaaneancha', 'sael', 'relations', 'sarvekshanatoon', 'nirnyanmadhye', 'pachayala', 'indoneshhiyan', 'veebhagla', 'sanshodhakanchya', 'rufasane', 'paahuneani', 'belagaawakaraanmadhye', 'gelelya', 'sansthemadhye', 'raabavinyaasaathi', 'baachegaav', 'nasatm', 'saran', 'wishvaamitrachyach', 'seed', 'banboona', 'sansthechya', 'gulabachi', 'khatyanchee', 'aayaland', 'darmashikshanache', 'buddhana', 'khadyapadarthat', 'pope', 'kshetraapoortey', 'yanchyapramanech', 'utsavatil', 'wyaapaarudimaat', 'vijhoon', 'kasotya', 'penter', 'salamiveer', 'beedar', 'taleane', 'tikato', 'vyaaplelya', 'lawson', 'samagreecha', 'raaydrsmdhil', 'paqet', 'bandhanan', 'rashtrarpan', 'topali', 'oaks', 'mandadi', 'saaravaasaarav', 'ghatsphotabarobarch', 'aaikadoon', 'naagwade', 'khoop', 'lakshun', 'suvarnamai', 'tadaphadaar', 'lira', 'barwani', 'mithila', 'aaramshir', 'suman', 'utpadananmadhye', 'paanaandvaare', 'duchakeevaril', 'busvar', 'matha', 'surat', 'pratinidhitva', 'soop', 'nischal', 'kayamach', 'tarjni', 'nivasachan', 'britainmadhil', 'gupta', 'gamavat', 'ugawan', 'prajkta', 'shetkareanchaa', 'sadya', 'jodnyamule', 'astanantar', 'bhogawati', 'vyavsthechya', 'moresbiie', 'phar', 'reliance', 'eelan', 'parsonal', 'agadeech', 'baghitalyavar', 'kaaryaavar', 'afghanistanmadhil', 'sangrahalayachi', 'pradesh', 'babbi', 'vruddhaashramaatoon', 'gaalaawar', 'jainaanche', 'aavruttee', 'raincoat', 'wendt', 'kasegaon', 'nangee', 'baqsar', 'musroom', 'mungya', 'zoolu', 'sahkarya', 'grover', 'randolph', 'worth', 'tapalpetichi', 'sadeanpramaaneych', 'prakash', 'payathyache', 'muth', 'godaabaaee', 'control', 'chalisache', 'shreninmadhe', 'bolanyachya', 'janavarachya', 'padtalun', 'shetkaryanchee', 'chouhan', 'krupa', 'revharand', 'waaghineesandarbhaat', 'krushhna', 'ghrushneshwar', 'anubhavavavaa', 'fields', 'devsthanchi', 'stationery', 'karatoy', 'liberty', 'doghanchihi', 'rushshia', 'nagarjuna', 'baljabree', 'upyogasathi', 'siddhantawar', 'tippaneannaa', 'weehar', 'bokser', 'vaparat', 'usake', 'koreane', 'toorichya', 'rashhiya', 'tukadoji', 'hichyavar', 'baamaha', 'zydus', 'raajyapaalaankade', 'rahiwashanni', 'nesco', 'lavnyachya', 'provo', 'asaram', 'icchukaancheaa', 'khalavaleli', 'mendu', 'husharine', 'savalicha', 'vaishishte', 'karmachya', 'konkontya', 'viralat', 'prasath', 'mathur', 'krash', 'putraanmadhye', 'sherebaajee', 'pyaket', 'aanlela', 'jharkhandachya', 'sundar', 'purfeect', 'religare', 'raahaanar', 'khachet', 'lagavadicha', 'anand', 'sanghatak', 'bighadamule', 'kapurthala', 'dattdigambaras', 'men', 'lekhaanchee', 'mulakhatee', 'banawinyaasandarbhaateel', 'norris', 'nivadnookeesobatach', 'handi', 'mataka', 'atirekyaannaa', 'rastyasathee', 'naanaabhat', 'sumter', 'pusa', 'cooper', 'maashaansaatheehee', 'lekhamala', 'dhaulakhandi', 'mithaimadhe', 'zehra', 'dilyawirodhat', 'punyaasaarakhyaa', 'vibhagiy', 'lavayala', 'cheanantar', 'prakriyecha', 'parbhani', 'tail', 'bhayavah', 'ganeshasobat', 'indeeks', 'magomag', 'moreesby', 'deoghar', 'jaliyanvala', 'avayawanchya', 'kartabgarine', 'bharteechyaa', 'badshahane', 'pensionbaabatachee', 'karnik', 'basmatee', 'marsh', 'vastoonnee', 'ajameenpatra', 'susanskarit', 'upyogacha', 'ekateech', 'swain', 'mahinyaanparyant', 'vindhya', 'bhatia', 'peshawyaanbarobaracha', 'pujale', 'tableet', 'kenyatta', 'aajarat', 'padataloon', 'chikta', 'riiliiph', 'karu', 'shirlyane', 'yanchyabaddal', 'sabhasadanni', 'pali', 'vikale', 'utne', 'vikalp', 'indianapolis', 'guntavnukdarankade', 'jaincha', 'conditioning', 'pakiistani', 'echinareansathee', 'jawanankadoonahee', 'murtee', 'thrvineavirodhata', 'jolii', 'tarkik', 'darwaadheechyaa', 'sheboygan', 'rajyabhishekachya', 'punrvasanaakarta', 'prayog', 'kroorpana', 'nirasalee', 'tapia', 'dubhaajak', 'saarawaasaaraw', 'jinkane', 'bordachee', 'stationary', 'pakeet', 'mhanatat', 'gokarnmadhe', 'mukhyamantryapasoon', 'malee', 'adhikshak', 'aajarala', 'paddhateepeksha', 'nagarikansathi', 'kaanee', 'yaavelet', 'chaturvedi', 'mit', 'gundaabarobar', 'vastupasun', 'barmer', 'varshannantar', 'jamineetach', 'maidanateel', 'handee', 'basaa', 'huffman', 'christensen', 'perry', 'kasbyamadhye', 'badgaa', 'utare', 'sanghay', 'redding', 'tanksal', 'navkar', 'padleapramaaneych', 'japharasaarakhe', 'vishayavar', 'svarupatahi', 'lilipeykshahee', 'dharmiyanchi', 'rushhian', 'faridabad', 'meza', 'savli', 'naseer', 'mulaachan', 'steshanmadhye', 'potatil', 'sanketsthalawar', 'dakghar', 'brown', 'pahooyaat', 'varma', 'rujhar', 'budhannee', 'saharachya', 'saj', 'pathwane', 'ubhech', 'dashrath', 'rainkoet', 'saujanya', 'gelyaachaa', 'mahilaanvirodhee', 'baandhakaamaasambandheechaa', 'vinlelya', 'snow', 'peshavepad', 'kiranotsargi', 'maujeykadoon', 'spaem', 'fasteners', 'paddhatimule', 'machikade', 'baub', 'jhalhkat', 'afaganistanchya', 'lincs', 'mahalka', 'mangalyan', 'pittsburg', 'madagasqara', 'teravya', 'handaseet', 'takaraayegaa', 'palmer', 'chkaaknarea', 'julu', 'shenoy', 'chakkajam', 'sinayksheytramdhe', 'sudaan', 'social', 'tondaavar', 'lavnareanvirodhat', 'chaloo', 'jinkanaar', 'vakilas', 'mehunya', 'dasra', 'septembar', 'holand', 'naagojee', 'chaalisache', 'bristol', 'yavelelasuddha', 'paqisthan', 'sodawale', 'sterlite', 'sabhasadanna', 'elan', 'sanskaaracha', 'shikavanyaasaatheedekheel', 'hoti', 'vholvamadhye', 'euless', 'prayogateel', 'kaagadapatraanchyaa', 'timken', 'houseche', 'vyavsthaybdlchea', 'lima', 'lagato', 'solapur', 'gulabachee', 'atlantikmdhay', 'magasvargiya', 'bahudha', 'chahaat', 'vaarasaannaa', 'chinchaysha', 'kathakali', 'lamb', 'raashtreeyakrut', 'chukata', 'gundabarobar', 'gruhkhateasarkhea', 'adhiniyamachya', 'sped', 'dhorananchi', 'vivahakherij', 'katri', 'hugli', 'parabhavanatar', 'myanmarchya', 'jhabuaa', 'sambhal', 'adhyapanachee', 'roognalayanmadhyehee', 'somanshaastri', 'sarvasaamaanyaanna', 'garde', 'kramaankaavareel', 'audyogikaran', 'dusaryach', 'jaltatwala', 'kramankavareel', 'britannia', 'tapaman', 'dohi', 'tadakafadakee', 'rakshanachi', 'rosales', 'prasadachee', 'konpharasasaathee', 'neal', 'shalimar', 'ajita', 'spoarn', 'dangalipramaane', 'phalnichya', 'twitar', 'milavalelyaa', 'ranbhumivar', 'caunseylingchea', 'miikii', 'ivaate', 'tankarane', 'saantwan', 'deleon', 'adii', 'vikanyaachi', 'vyavasthetil', 'raajubhaekde', 'khalavat', 'potakade', 'paadalyaa', 'puraanmatvadee', 'tankyaas', 'khalashanni', 'zunheboto', 'paakeeshtan', 'vachal', 'jagn', 'karanmadhe', 'vaataanaa', 'rajnandgaon', 'saamanyaavar', 'moreesbi', 'javanankadunahi', 'mikee', 'yanchyanantar', 'britanache', 'shrirang', 'loqal', 'laavanaaryaanvirodhaat', 'karaikal', 'tulnatmak', 'maulyavan', 'dhoranavar', 'rock', 'grahakannatar', 'mashtarsh', 'nimantran', 'baramula', 'heeralda', 'banseelal', 'swatahchich', 'divtyaanna', 'vijayavada', 'adavale', 'saharsa', 'budhanni', 'payathyashi', 'trikut', 'malmal', 'bhijavoon', 'reese', 'novemberla', 'tantragyanavar', 'sunny', 'thikaanaanvar', 'videolaa', 'medizensar', 'falgal', 'vargamitra', 'oberoyvar', 'pathvi', 'shirkurma', 'nidhinchaahi', 'heidelbergceat', 'mahaamargapryntch', 'devasthanchya', 'upchaaraadarmyaan', 'davangere', 'austin', 'mudtit', 'adhikaaryaane', 'rostov', 'sanshodhakansathee', 'chellani', 'kasheli', 'calumet', 'bhaubeej', 'talhne', 'pawaranchyaa', 'sandilya', 'aroona', 'september', 'fluorine', 'khelaneaa', 'thandaawaa', 'nivadnookisobatcha', 'winaleya', 'naweenach', 'khote', 'tekchandani', 'prashch', 'raanwihir', 'moreesbiee', 'upaayayojanaansandarbhaateel', 'rasiyaa', 'tukadila', 'maargannidekhil', 'varshabharapoorvee', 'king', 'maidanat', 'shalanteel', 'pohachawanyaasaathee', 'badak', 'bhaktaansaathichea', 'paeraegoniyaachea', 'ishq', 'prithvicha', 'pasco', 'topalee', 'bhurdanda', 'adhikareanavjee', 'prakrnaanahi', 'shaalaanteel', 'niwadnuki', 'balgoon', 'bauddhanmadhye', 'adhyay', 'bossmadhyecha', 'hooe', 'taixi', 'alpophaar', 'patine', 'kshetrapoorte', 'khanijanchya', 'balgun', 'pakhra', 'shikshanatil', 'rashtravirodhaat', 'sahebee', 'thandaavaa', 'chaturmasaat', 'vikayala', 'chaurasiya', 'sthayibhaav', 'ji', 'san', 'nivdine', 'bhadkawel', 'rumamadhye', 'vadyanchya', 'varishtha', 'waaparlyaane', 'maasaymaariver', 'mukherjee', 'paranjape', 'hillsboro', 'kheladoonmadhyedekheel', 'prabodhanabrobrch', 'najaretun', 'nakosa', 'gheyneadrushtiney', 'paqeystani', 'alpasankhyaakaanvirodhee', 'handset', 'umedawaaraantarfe', 'gamavali', 'kaarypranalibrobarch', 'swaraakritee', 'wockhardt', 'aandolanaadaramyaan', 'tyachyanmadhye', 'pinaareacha', 'himalayachi', 'tresi', 'jefrei', 'sase', 'bolanyatun', 'kolkata', 'jack', 'patipatninnaa', 'shulatan', 'wegach', 'toleechyaa', 'tokacha', 'suzlon', 'raksha', 'gathave', 'dusaryaanmadhyehee', 'rahivashanchi', 'lakhaparyant', 'mizoram', 'jaina', 'devasthane', 'mishra', 'chaqra', 'pravranagar', 'vrukshlaavneachea', 'shetakaryaanchyaabarobar', 'baravya', 'ioova', 'pantavane', 'vrukshlavneachea', 'maharashtriy', 'powers', 'ladhalya', 'pathadee', 'pavlavar', 'tyanchyapaasoonach', 'sabtaaytal', 'dobriyalchee', 'pravan', 'thousand', 'gehlot', 'sudana', 'serrano', 'suryodayachi', 'chitraanmule', 'estraache', 'ehik', 'bhaktaansathichea', 'vartmanpatra', 'tapamanapeksha', 'shokeen', 'yasarkheanchea', 'setarthawetane', 'rakshabandhan', 'bhogeeley', 'adhikaaraanmadhyehee', 'lokalane', 'guntawanookadaaraansamor', 'sirt', 'gwalior', 'khatlyaachyaa', 'varshansathi', 'josheekakannee', 'kshaytrapoortey', 'vihar', 'mhananaareancha', 'zaalyanantar', 'shikshanache', 'nahan', 'dattadigambaraas', 'trayee', 'doghaanchihi', 'duncanville', 'trackchya', 'bakser', 'janavaranchya', 'myanamara', 'coon', 'tujhee', 'shoreline', 'angarkee', 'banki', 'buddhancha', 'bpal', 'jijas', 'samaajwyawasthemule', 'nanduree', 'daas', 'adhyapanachi', 'maldivchya', 'vartmanpatratun', 'jauhari', 'pujalee', 'zinhai', 'sankatachya', 'kinaryavareel', 'pakistanmadhye', 'madhya', 'smjneatch', 'shimla', 'raangolyaa', 'tookadiche', 'vatve', 'badagaa', 'godabai', 'atyaavastha', 'dolby', 'aandolanakartyaanni', 'maatoshreesaarkhya', 'khambeer', 'marathit', 'kaatree', 'abhiyaan', 'mitchell', 'karyakartyannee', 'darshavoon', 'dipresd', 'growth', 'elecon', 'lam', 'cotton', 'rahilya', 'bulingche', 'swakshridekhil', 'varshabharaapoorvee', 'newark', 'indeqs', 'aaropeenvishayeechi', 'reesideent', 'kaveel', 'shodhu', 'profeshanchi', 'keshwani', 'vicharata', 'sheppard', 'sheerpunje', 'yanchyakadoonahi', 'pasaravat', 'jakhadane', 'mandalaanmadhye', 'guntvnookeesandarbhaat', 'cheenchvad', 'nashtah', 'haars', 'aajaraat', 'kinareapramane', 'vijayvada', 'janavaransathi', 'saamagreechaa', 'prasaarmadhyamacha', 'baleshwarache', 'gandhimathi', 'bhukampache', 'mukti', 'nimmyahoon', 'raya', 'mhantale', 'bhuinj', 'doshinche', 'talavarun', 'baaenna', 'karyalayateel', 'kreg', 'suryodayapasun', 'ranganath', 'paapee', 'dabali', 'aichhik', 'nashta', 'bankura', 'turbine', 'mulaavar', 'sujan', 'chanda', 'pradhanyaane', 'pahooyat', 'raymond', 'balaghatachya', 'spartanburg', 'rashtrapateennaa', 'karooyaa', 'bhavanateel', 'baburav', 'acids', 'doghanneehaa', 'shakhadhikaryaavirudha', 'aagaren', 'dalateel', 'khandelwal', 'kimmtichee', 'moreey', 'maldiv', 'mhadane', 'pasarvnaareanvr', 'bhijvoon', 'amrapurkar', 'aamlpittache', 'gharachyaannee', 'ulagadoon', 'lokkalechya', 'hinton', 'dales', 'cheepalunkar', 'tantragyanache', 'shrikrushnachya', 'leandro', 'fernandez', 'pradeshaatach', 'agarawal', 'pari', 'khobne', 'pharmaceuticals', 'blue', 'zelabaad', 'padatan', 'camere', 'pophali', 'arthvyavahaaranchea', 'dnyaniyane', 'cheanantr', 'taruneene', 'vaaprawar', 'shootout', 'dwarpal', 'maharashtrasathi', 'nakyavar', 'vyavastheyvirodhaata', 'janiva', 'jaganyashee', 'yeynareachea', 'bhetisathi', 'shhilanga', 'kelly', 'parihar', 'azamgarh', 'talwar', 'prantaala', 'bhetaney', 'guntawnukeebaabatachee', 'pakistanatil', 'shatpavali', 'vaiteel', 'ayowa', 'vizun', 'soee', 'vadhvneasathhee', 'bhivandeet', 'ingrajache', 'basatil', 'tinplate', 'andershon', 'margarita', 'kachereechya', 'khatlyateel', 'adhikaareanavji', 'sambandhanchee', 'pfaudler', 'asalee', 'yunus', 'deental', 'josheekakaannee', 'morhi', 'bhaktibhaav', 'atyavasth', 'bandhavee', 'unmaad', 'naheesa', 'samachar', 'bhookanp', 'bavne', 'shraddhanjali', 'ashvasane', 'janavaras', 'bethlehem', 'shastrakriyechya', 'asif', 'shingh', 'vishayavarachee', 'tolnakyavar', 'chittaurgarh', 'vyayamprakar', 'kalava', 'parfekt', 'soajanya', 'dushman', 'apharnachaa', 'rosa', 'mahinyaannantar', 'dules', 'dharmacharanaachyaa', 'prayogasadhee', 'ubhayatanni', 'paratane', 'garajetun', 'yaprakaarchay', 'karawit', 'jodanyaamule', 'mayur', 'hammond', 'chaurasia', 'sanshodhakanni', 'laavnareanvirodhaata', 'vataanaa', 'andhra', 'tapta', 'roanoke', 'donaldson', 'jaagich', 'bhaajapavirodhee', 'asnaareansathihee', 'chikatuun', 'jolee', 'sahkaryane', 'pohnyasathee', 'prakaranaanmadhyehee', 'moorkh', 'gruharaajyamantree', 'jhabooa', 'jijaz', 'sopaskar', 'sindhudurgnagree', 'ranbhoomivar', 'graahkanchee', 'vegaleech', 'reading', 'kharchahi', 'yayati', 'nagalee', 'banda', 'svaatantryaasaatheechyaa', 'madala', 'faro', 'fakira', 'make', 'mlecchane', 'vyvasthapanatil', 'bobhata', 'laavalyaanantar', 'keyndraparyntachea', 'asanyaaitakan', 'shhirt', 'juvaathee', 'maratheet', 'rajasthanatun', 'yaprakarche', 'sauraurje', 'maharudra', 'sagleavaroon', 'isens', 'moorcha', 'dakhvile', 'prakriyeshi', 'anuyayi', 'kharedeevar', 'samnvayaatahi', 'lekhache', 'vichardhareche', 'narayanraawaans', 'sarpdanshachaa', 'shraddhaanjali', 'puruchya', 'engrajanna', 'vhasineshan', 'aslalaya', 'shudgha', 'ajaramadhye', 'varishthankade', 'vita', 'shaharapramane', 'itarsi', 'aavarena', 'urdu', 'prakriyet', 'jasticha', 'burhanpur', 'elizabeth', 'chikati', 'saahityadekhil', 'upyogansaathi', 'devasthan', 'ilan', 'marana', 'phek', 'mandiri', 'yenaareancheaa', 'paarlmentaachaa', 'theplaa', 'nemak', 'pulaajaval', 'instityoot', 'kutuhal', 'kalekalene', 'meetas', 'gopala', 'devsthanchee', 'usatodanee', 'satyamev', 'maaster', 'himadri', 'vengurla', 'truckwar', 'khandanisaathee', 'dalamaleet', 'vernon', 'deshankadunahi', 'patel', 'graahakaannatar', 'adhikaareanavjee', 'latet', 'udhaatakpada', 'nectar', 'bhookampapravan', 'chatuhurigi', 'palit', 'vidheyakaanbaddal', 'khuratlee', 'mitrapkshankdoonhee', 'suvarnakamal', 'dandaadhikaari', 'soneacheach', 'prakaratoon', 'protestant', 'baanboonaa', 'tiip', 'holland', 'balaka', 'been', 'basate', 'sarhadd', 'maartandraw', 'julaipaasoon', 'joe', 'somany', 'utsavat', 'vyvasthapanane', 'ravi', 'britainchya', 'tubes', 'balmiki', 'aajobanchi', 'krashh', 'aikaawe', 'majuranvar', 'jalor', 'saasubaaee', 'hukale', 'bankannaa', 'reverend', 'brahmanala', 'akron', 'asaavi', 'marathitale', 'chaukara', 'unus', 'punatamba', 'runii', 'thewanyaasandarbhaatahee', 'punarbharan', 'kroorapana', 'mahpalikechee', 'russell', 'grove', 'pahaanyas', 'karanaaryaanvar', 'lihaava', 'sikarwar', 'pathbalawar', 'pohchvneakrita', 'essence', 'cheyenne', 'rabvane', 'dutta', 'vishanoochya', 'vijaywadyakadeel', 'polisanni', 'acevedo', 'anuyaayi', 'shriravidnyanacha', 'moorkhapanaa', 'cementation', 'shatkbhrapoorvipryant', 'arseenala', 'shivarampant', 'greer', 'shikavanee', 'vyavstheyvirodhat', 'israel', 'pahalvaan', 'alok', 'naashta', 'oswal', 'hary', 'dhanik', 'ahamad', 'duchakeewarun', 'prayojkatv', 'heechee', 'nagararachanaa', 'vayat', 'niymannaa', 'dushane', 'thraavaalaa', 'karyalayavar', 'mukhyamantreepadasathich', 'whitaker', 'alpophar', 'topya', 'prashasanat', 'dharananmadhe', 'avakala', 'fitzgerald', 'prashikshakaaviruddha', 'jamne', 'kalakrutiladaykhil', 'sambhandhatoon', 'saket', 'zinhaaee', 'matecha', 'athletics', 'holeewoodamadhoon', 'has', 'ali', 'konakonatyaa', 'pohochawinaryaa', 'janamanasavar', 'brentwood', 'naikanchyaa', 'w', 'sonara', 'saalunki', 'nivadtat', 'yeja', 'bashela', 'karate', 'varshannatar', 'sherdil', 'meyhunea', 'janaavrachya', 'somanshashtree', 'mhpalikechi', 'kadavee', 'tashha', 'vyavasthesarkhaa', 'bhilai', 'garachya', 'mahamad', 'nashik', 'vyavstheybdlchea', 'mojakech', 'balaadhaya', 'aaglaaweglaa', 'vastoochya', 'vishayavarachi', 'ghatsthapna', 'ghungaroo', 'shetakaryaannee', 'ovharveli', 'sasanka', 'todd', 'ankoor', 'sabhasadanche', 'ulatasulat', 'janmachehee', 'niteeshkumar', 'raashtraasandarbhaat', 'margannidekheel', 'banaln', 'rashtriya', 'pavala', 'rahata', 'phida', 'vihari', 'qathmandu', 'churmureachea', 'sasnsthalawaril', 'phairo', 'knoxville', 'pheteh', 'dheerai', 'dhvajadandaakade', 'liinks', 'vadilaankhereej', 'valchandnagar', 'wijaywada', 'swatachich', 'dublin', 'thiruvananthapuram', 'blud', 'residentt', 'chikhalphek', 'pratinidheemandalachya', 'paradeshateel', 'kruteanantrhee', 'ghasatat', 'gaurav', 'juuluu', 'gamavle', 'tantradnyanamagachaa', 'prayogasaathi', 'paishansathee', 'fraechyjee', 'mayboleekrankdey', 'pawar', 'vyavstheet', 'shaytkreasathi', 'dehri', 'alpasankhyakanche', 'vhiyatnam', 'trisandhyan', 'thandeene', 'mahayuteechya', 'hiropantee', 'bhetichya', 'churmureacheaa', 'nondvineasathihi', 'bhagalpur', 'finnish', 'alimpika', 'kideenchee', 'prantatun', 'vadyanch', 'taate', 'sooap', 'dheeraai', 'prayogananter', 'bader', 'parshwabhumivar', 'vidyarthineela', 'kaatavanakade', 'shrirvidnyanachaa', 'prashasanavar', 'walawanyaat', 'vyakteenchyaahee', 'taadametalaachyaa', 'etij', 'cheelam', 'hamirpur', 'garat', 'potat', 'vrundaavanaamadhye', 'shhillong', 'pradnyasaarkhea', 'personal', 'maidanacha', 'sanghaashi', 'shrivastav', 'agadi', 'mathews', 'aalavoon', 'agrahari', 'dakhawnaaree', 'hari', 'dahashatawaadyaasaarakhe', 'tvitar', 'ashaahee', 'yachikevareel', 'raahat', 'alyimpic', 'bass', 'vishanoomule', 'paryaawaranawaadee', 'miliyon', 'hasavafasavi', 'canon', 'farmer', 'goodyear', 'vakoon', 'kalatani', 'aatashabaaji', 'samarika', 'highwaywar', 'alembic', 'wadhawan', 'khatyacha', 'sofavar', 'padleapramanech', 'jose', 'tootyaane', 'carson', 'pindadan', 'aniyamitateprakarani', 'highland', 'jethe', 'zopadapatteesaarakhyaa', 'gravita', 'pushkar', 'chahaata', 'malhararavannee', 'maruti', 'milavinarreanchea', 'shanghe', 'hllyaanmadhyehee', 'mangdagauree', 'paathpishveet', 'upgrahachi', 'wheelar', 'jaunpur', 'bitala', 'vaatpaacha', 'mulukh', 'lavaadaane', 'shadoochya', 'pleasant', 'godee', 'casey', 'vilas', 'aathavaneemule', 'yanpasoon', 'prithviche', 'arvada', 'kuantum', 'tari', 'dodson', 'devila', 'napoleyanchya', 'dalbee', 'pimpalasalaa', 'bhijli', 'pakisthanat', 'kalika', 'berwyn', 'dhadapadat', 'virangula', 'swareet', 'tresii', 'taraambal', 'kuladeep', 'badami', 'sel', 'arthakarnalach', 'laachaar', 'howe', 'saravlelo', 'vikaskame', 'milliyon', 'sherebaji', 'taapasaneevareel', 'kalapasoon', 'tipa', 'muni', 'sain', 'devsthanachya', 'corp', 'swarakrutee', 'thevaayachan', 'parv', 'finnieshh', 'chaalalaay', 'sultan', 'gadivarun', 'bholapoor', 'erode', 'anam', 'thackeraynche', 'fuziyo', 'belsare', 'kamanda', 'suratla', 'ashahi', 'kaydya', 'raza', 'sarakarmadheel', 'edmantan', 'nivadine', 'kaaravaaeesaathi', 'murchha', 'lavh', 'khambhat', 'praveshasathi', 'guntvnukinmdhey', 'shetkaryanchyababat', 'dungarpur', 'sigmond', 'mleycchaney', 'baker', 'cheeni', 'andaman', 'karnaareanvirudha', 'bansilal', 'kvadroj', 'gotipua', 'kaaryasanskrutibadl', 'design', 'menduchya', 'vaparane', 'aaharat', 'nastn', 'vidnyanat', 'pavnkhindichee', 'sahaskatha', 'astitv', 'aajaaraannee', 'bhaashnachaa', 'daridraychya', 'mandaladhikar', 'mulakhatihi', 'shetmalachi', 'aatmadrushteeche', 'devasthanchi', 'nirnayahi', 'mhaembhtaanni', 'wellington', 'koteenwar', 'pranaaleenmadhyehee', 'swaraj', 'barawicha', 'sanrakshanaavarchee', 'mahesana', 'sving', 'haausful', 'patrahee', 'poorwatayaaree', 'kaani', 'reeqa', 'basagaadyaanmadhye', 'aseen', 'ishwariy', 'kalyaparyant', 'rashtrpurushanche', 'svifta', 'pharmaceuticals', 'premalpanaa', 'bhaavikanni', 'conner', 'mudateechyaa', 'nehmipeksha', 'kadar', 'ralegav', 'fulpakharala', 'terii', 'aarogyawyawasthewarachaa', 'shooltan', 'pantpradhanpadasathi', 'chaapemaree', 'yaadeetoon', 'sanghateet', 'vadhoochya', 'odisha', 'phinnishh', 'chadhavne', 'vartamanpatrat', 'challay', 'kasoteechyaa', 'sutache', 'khile', 'dwesh', 'shvipa', 'asija', 'tenmurni', 'krupaprasadane', 'kaalveanmdhay', 'bharlyanantarsuddha', 'sarvangaane', 'sarpanch', 'khelaayachaa', 'rajnath', 'iyonosfiyar', 'bhaavhi', 'bhanage', 'kathmandu', 'olympic', 'entartic', 'phiida', 'varshv', 'hawalannache', 'aapapaadachea', 'belgium', 'dalavee', 'sidaamo', 'chamba', 'macias', 'belgiumchya', 'bananaar', 'catering', 'namdaranchea', 'amanat', 'taja', 'harmoonium', 'sen', 'dalhimbacha', 'kanchhal', 'maasemarichya', 'detana', 'concrete', 'welding', 'cranston', 'taatadeenn', 'greenfield', 'vikretaa', 'lynch', 'kotipeksha', 'thomas', 'prudential', 'taarkhechya', 'zopdpatteanmule', 'hausachya', 'bolanyaavar', 'lakshananmadhye', 'bhaktansaathichea', 'vaahanachaalakaansaathee', 'boise', 'tasa', 'dakhvilela', 'burch', 'rikt', 'radico', 'mhanaalet', 'bimal', 'aurangaabaadmadhye', 'daramyan', 'bhaybhit', 'chicago', 'velaanantar', 'sodavale', 'blood', 'meexican', 'afghanistanmadhye', 'umeshh', 'claire', 'carlo', 'darja', 'ghadatan', 'gothawilelya', 'himatsingka', 'gears', 'baghane', 'rasayan', 'hadditoon', 'punyaasandarbhaat', 'tulanatmak', 'beti', 'sasharta', 'samiti', 'vyavasaayik', 'sansar', 'bhojpur', 'flynn', 'vishayavarchi', 'pataleanech', 'tantradnyanacha', 'kok', 'dhamane', 'rasikaanchee', 'chandeechya', 'wade', 'bancoat', 'chitranmule', 'paanaandwaare', 'zaabooa', 'tasadi', 'ovalani', 'poostala', 'olakheechya', 'faastrak', 'portugijanni', 'rooney', 'rangavalelya', 'deyshbhakttisathee', 'tadnyanche', 'hay', 'mukhyamantripadasathich', 'karavilee', 'kasniya', 'pathvit', 'zopadpattyanmadhye', 'apola', 'dhwajdandakade', 'vruttavahinishi', 'land', 'bharalyaanantar', 'daman', 'painter', 'anjanaaveera', 'brake', 'banavinyaasandarbhaateel', 'retnaamadhye', 'balaa', 'ashraf', 'icchukaanchea', 'yaadrushtine', 'garbhadhaaranedarmyaan', 'kachryaachyaa', 'miliyan', 'yeancheapudhey', 'tabakadi', 'baravichaa', 'samadhivarchya', 'bhokre', 'pitalee', 'baavlaan', 'asavet', 'dareedryachya', 'puducherry', 'kopreanmadhe', 'saangalikaraankade', 'junction', 'lanpasachea', 'vaajlyaapaasoon', 'sadhneteel', 'sanstheshi', 'nondaneesarkhi', 'kaantchea', 'pratyaarpanasathichya', 'summerville', 'raabvaney', 'upyogat', 'grahanchee', 'marathon', 'veeladgche', 'vastuchya', 'saayklotasav', 'pennar', 'imran', 'mcclain', 'daphan', 'vaishishteanpramaney', 'kathin', 'skipper', 'fulpakharanchya', 'vicharato', 'chortyaavar', 'dadra', 'adaneenchea', 'svikrut', 'avayavanche', 'echinareansathi', 'subex', 'shatkbharapoorviprynt', 'adapter', 'jeevansatvaanchyaa', 'nusatich', 'chakree', 'tirunelveli', 'kidinche', 'kurhad', 'kullu', 'prabodhankar', 'potamadhe', 'sarup', 'kirk', 'waam', 'awayawayukta', 'jagaragallu', 'groupche', 'dekalb', 'rugnalayanmadhyehi', 'kayada', 'avruttit', 'mastarsa', 'nivadnukaanparyantch', 'kosh', 'amaan', 'chalanaa', 'ghatnaahee', 'nakshidar', 'chakrat', 'shekhar', 'pashha', 'dharalyane', 'bangalpaathopath', 'sruti', 'roopaye', 'favaranee', 'jyeshthha', 'shipping', 'tvitter', 'bhukamppravan', 'sohalyaanpramaane', 'upagrahache', 'pratinidheemandlaachyaa', 'chaupateewar', 'fullerton', 'industries', 'shabri', 'dallas', 'koteenvar', 'safsafai', 'shivamandiraanmadhe', 'chehreamule', 'prashashan', 'nerolac', 'ochoa', 'joo', 'julaipaasun', 'aalavoona', 'jugaracha', 'ruuney', 'dusrn', 'dusreanmdhehi', 'rudravatar', 'honeywell', 'ghatsphotabarobarach', 'nagana', 'ortiz', 'dharnavaril', 'painteer', 'vadhuchya', 'wijhawanyaasaathee', 'loyar', 'patter', 'chaturthat', 'paradip', 'karmasangrah', 'maratheetale', 'milvinaareanchea', 'rusian', 'jaaliyanvala', 'vikaasvirodhaat', 'utaare', 'vanoushadhi', 'umedvaaransandarbhaateel', 'peentar', 'pratyaarpanasatheechya', 'madden', 'bheteet', 'utane', 'babhadgaon', 'shahjahanpur', 'britanamadheel', 'meterchya', 'pundir', 'tharvineapryantachea', 'javalkar', 'paramparik', 'mandiraavishayeechea', 'sambandh', 'pratishthan', 'tuzee', 'bhavanicha', 'machichya', 'pratinidheemandalaachyaa', 'kveenslandcha', 'pakisthanmadhil', 'vartamanpatrateel', 'sanrakshanamantryaankadoon', 'pahaanyasathi', 'homhavan', 'payathyapasun', 'sampavoon', 'padake', 'vyakhya', 'uttarakashi', 'telkat', 'rajan', 'vadhvneasatahihe', 'portugesejancha', 'paristhiteechee', 'karypranalibarobarch', 'soodan', 'tewari', 'khelanyaachyaa', 'negi', 'baamah', 'sarvekshanaatoon', 'badshhachya', 'jacinto', 'varshaabhaaraachyaa', 'buddhanchya', 'kayadyanche', 'dusanyane', 'tapman', 'basaawaa', 'padn', 'rekordingacha', 'shirt', 'zok', 'shrikrishnachya', 'taloo', 'shivrampant', 'vishayichi', 'vicharvantanmadhyehi', 'dhavnar', 'bsnl', 'avayavayukta', 'paahuneanee', 'badodekar', 'tilaanjali', 'dhamakeehee', 'kharkhoor', 'salas', 'aawritichay', 'prapancha', 'lancaster', 'puntamba', 'shreeganeshaa', 'vishvaamdhay', 'boardane', 'aanal', 'ahluwalia', 'bhuj', 'aajamavinyaasaathee', 'boksar', 'kaarawaaeesaathi', 'hendricks', 'seepteembeer', 'mahasphot', 'rohiley', 'maurya', 'sarakaarach', 'leenqs', 'burke', 'laambneevar', 'gasha', 'uttariya', 'yachikevaril', 'vaktavyaavar', 'alpavadhit', 'sequent', 'tyaane', 'pawarannaa', 'raadhikaawareel', 'vastu', 'shetakaryaanchehee', 'jeytteemuley', 'andaajahi', 'takavta', 'maaganyaansaathee', 'rashtriy', 'corea', 'tasabhar', 'fargyusan', 'navejune', 'nagarasewakaanchaa', 'uttarahee', 'praveshdwaraapurvi', 'fayetteville', 'asam', 'sunavala', 'styrolution', 'urbana', 'harvala', 'kharchaala', 'oomesh', 'tewadhyaahee', 'thewanyane', 'watapaachaa', 'tevadhyaahee', 'lay', 'majjav', 'rebeepoor', 'tarry', 'crosby', 'garajepeksha', 'briggs', 'rohtak', 'darshavoo', 'chandine', 'naneghat', 'aathavalyaanchyaa', 'sahaahee', 'samagricha', 'terriie', 'sakhal', 'vizavanyasathee', 'amarapurkar', 'durustisathi', 'ashaya', 'karandikar', 'ranbhoomeevar', 'maastar', 'hury', 'mandirant', 'khunee', 'tofuu', 'sheekshanaat', 'yeynareanchea', 'kimmteechi', 'zolly', 'malaya', 'virodhakaanchee', 'narayanravans', 'pardeshatil', 'icchinaaryaa', 'berojgaranmdhe', 'sutteemadhye', 'phateeh', 'aajaransathi', 'papee', 'pranaaleechyaa', 'ghotaalyaaprakaranee', 'qaisar', 'todnyachee', 'pratishthanche', 'keshari', 'chakri', 'prashikshakaaviriddh', 'porterville', 'parabav', 'sheekshanaabarobarach', 'takete', 'bhadrakaali', 'dombivaleechya', 'yenareachea', 'deepmal', 'aambejogaiche', 'johari', 'gentry', 'haidaralishee', 'kaadhanaareansaathi', 'suttimadhye', 'divaalideykhila', 'sohalyaavishayeechee', 'barry', 'ekmatra', 'tyana', 'midvinaari', 'tibeerius', 'vikramachee', 'shelton', 'mehunea', 'kumbhamelyahoon', 'samatolala', 'swanson', 'yojanaanchaa', 'potamaddhe', 'toong', 'nagpur', 'nirnayanantar', 'gvalher', 'bhivandit', 'shaakhaadhikaryavirudha', 'miqi', 'arteemis', 'khulun', 'kram', 'satarka', 'bhedabhav', 'qhiladi', 'ughadnyaasaathee', 'raajkaranaamadhyedekheel', 'pakisthani', 'jhaalyanantar', 'devatwa', 'ghat', 'burma', 'siel', 'mahaagneasathi', 'aentibaayotikeschi', 'utpaadanaanmadhyehee', 'padat', 'securities', 'baainnee', 'bhandara', 'samasyecha', 'vareelpramane', 'mukootban', 'mulaant', 'aartemis', 'basela', 'master', 'rajouri', 'aavruttiche', 'baanboona', 'aeronautics', 'aavruttit', 'rajapalayam', 'milian', 'damoh', 'pakistan', 'tendulkar', 'kendrakade', 'dusanyacha', 'chalna', 'naikannee', 'kotinvar', 'pasrvnaareanvr', 'berlin', 'sutteechya', 'jhalyanantar', 'devasthanachya', 'umedavaaraantarfe', 'munii', 'badshahachya', 'aushadhanchya', 'avyavanche', 'supply', 'vaaparnyaasandarbhaateel', 'indapur', 'wells', 'sagleavroona', 'narayanaravans', 'ulagadun', 'teeyreesa', 'sheekshecha', 'kohima', 'kathamandu', 'godaabaai', 'mela', 'kaatvatkanaa', 'gharaaneshahee', 'bokaro', 'kasavanchya', 'maujekadoon', 'nacl', 'azit', 'saqeta', 'devichi', 'savanga', 'icchinareasathee', 'dalby', 'harmoniyamvar', 'paddhateechee', 'gardichi', 'centennial', 'shakanarya', 'baharampur', 'lokaparampara', 'tabaleet', 'panna', 'vishanuchya', 'aintartiq', 'budge', 'rashtravadimadhye', 'haokip', 'dalimbacha', 'tamilnadut', 'pravruttimule', 'guntavnukdaar', 'morei', 'cypress', 'rishiraj', 'koriya', 'paratfish', 'dalmia', 'decembermadhye', 'vaadaavastee', 'aroonkumar', 'dhamadhoom', 'sayabara', 'lagvadichi', 'yaas', 'satrave', 'visar', 'laal', 'uchalaavit', 'adhikaarakshetraanche', 'gool', 'pilibhit', 'newvaibhavanagar', 'gurupournimeparyant', 'ashikshit', 'jaaneapasoonchee', 'premalapna', 'olakhaa', 'adhikaaryaanchee', 'kavad', 'tevadham', 'ladhe', 'vyakhyana', 'bhookanpannatar', 'yantraneynhi', 'englandchya', 'yantranannihee', 'pakistanateel', 'sansthadhyakshaaneech', 'rizvi', 'tenbhurni', 'kalimpong', 'kirby', 'chakavaa', 'paathpishaveet', 'tokache', 'second', 'jijaabaainnaa', 'chauki', 'khuna', 'shahaleachey', 'earlainchee', 'dharanavareel', 'neemuch', 'groth', 'kothe', 'shweep', 'diileep', 'pradnyasarkhea', 'harvey', 'vargas', 'juvaathi', 'daaveapraman', 'andersan', 'vaparatun', 'rushbha', 'finnishh', 'porbandar', 'betee', 'cooch', 'dhoolicha', 'bindal', 'mel', 'dootavas', 'ghatlelya', 'ajarala', 'gunhyapramane', 'dhindhwal', 'yuteene', 'panditajee', 'kanak', 'gaphurlaa', 'taatdichi', 'shiromane', 'grihamanchaane', 'samitimaarphat', 'gamticha', 'ghatalela', 'pramookh', 'pepsikochi', 'kaisar', 'davahee', 'cheshtaa', 'natyancha', 'peck', 'mansfield', 'tleaney', 'nokarya', 'exchange', 'bhalla', 'smith', 'chitrapatasrushtiwar', 'padnarya', 'awayaw', 'bhidalyaanantar', 'jyok', 'rajyabhar', 'hatawinyaasaatheechee', 'ghatala', 'rawlani', 'nighel', 'nasat', 'sadeanpramanech', 'ajiit', 'binghamton', 'palkannee', 'potneevadnookisathichii', 'gele', 'kaydyanchee', 'jatey', 'yaadrushteene', 'mahaayuteechyaa', 'shukla', 'chadhale', 'endous', 'bhattacharya', 'vibhagahi', 'thambanyaachee', 'zudapat', 'vorld', 'priyadarshini', 'disknekt', 'bhukya', 'badoor', 'rashia', 'gadakhali', 'kosabad', 'lokaavirodhaat', 'ballal', 'paaqistan', 'lala', 'gulchadi', 'foster', 'zaalet', 'swaamijinsarkhea', 'sanghaiye', 'terrie', 'nirdeshkanchi', 'siddiqui', 'shoaib', 'klabachehee', 'pramukhaanmadhye', 'oshivraa', 'taiiksii', 'infraconstruction', 'chakravyuh', 'madison', 'mandake', 'gates', 'shhell', 'kimmteechee', 'shetkreanmulech', 'gudgav', 'aajaranmaddhe', 'york', 'yanchyapasun', 'denver', 'miravanukis', 'hyanchyatil', 'hindu', 'aahaarakade', 'pasadena', 'townsend', 'shootingchyaaweleechaa', 'loksabhet', 'mhananaar', 'virodhamage', 'paathvileache', 'pohnyasathi', 'jodgolichya', 'britainche', 'pompano', 'watts', 'siddhantachi', 'matdanaasaathee', 'mcmahon', 'vibhagachi', 'torrance', 'suvarnmay', 'pravargaatoon', 'badhaaee', 'pittsburgh', 'kaychkmdhay', 'rowe', 'taatadeenan', 'pasa', 'garud', 'kharedidaranmadhe', 'yucaipa', 'mesa', 'yuunuus', 'met', 'paarshwabhoomiwar', 'washington', 'lakhimpur', 'blad', 'kayadya', 'sanyogane', 'sanghvi', 'pakistanchya', 'virodhakanchya', 'vedna', 'shangheye', 'roseville', 'aashwasane', 'rugnaawar', 'rashtrapatinna', 'pratyekaasaathee', 'heatlar', 'aaropeeche', 'taiksii', 'ubhayatannee', 'dharmshatrache', 'infibeam', 'padanyaachee', 'khandnicha', 'management', 'ganesha', 'moresbie', 'khoopach', 'asunsuddha', 'shrikrishanane', 'stheet', 'nokaryaa', 'websaitsvirodhat', 'wachun', 'harwalaa', 'varshabharaapaasoon', 'gadeevarun', 'paryaavaranavaadi', 'chary', 'chitrapatasrushti', 'nakhoosh', 'jainchaa', 'fida', 'phirkeepatoo', 'ovhartek', 'chowdhury', 'teerry', 'yanchyakadun', 'chicopee', 'budhkar', 'sanshodhakanna', 'telelinks', 'shetkaryanahi', 'nitamb', 'davachi', 'verdes', 'atsrai', 'susvabhavee', 'warnawaadyaannee', 'karnaareanvirodhathi', 'mumbaimadhyech', 'mcpherson', 'ekseesee', 'mainpuri', 'patna', 'euro', 'mangdyaan', 'bhadrakali', 'electronics', 'yayaati', 'greecemadhye', 'shit', 'ghruneshwar', 'chitraphit', 'mehnati', 'shaanghaya', 'jyeshth', 'mhann', 'asthayi', 'yojanenusaar', 'vista', 'kumarchya', 'bhidalyanantar', 'jeffri', 'rica', 'apavyay', 'sarasavalee', 'shrishaanthi', 'hatgadeavron', 'sadhanet', 'trainmadhoon', 'gtpl', 'jeyttimulay', 'mandirancha', 'basmati', 'shivasenetil', 'jaraqhanda', 'shanghai', 'nagarche', 'yansandharbhatil', 'naksheedaar', 'parqara', 'darwaja', 'prashasanane', 'fauntnachea', 'ishvareey', 'layton', 'peepars', 'antrvedeeteel', 'siddi', 'sopareananter', 'abhootparv', 'raahnareankdoon', 'pawadersarkhi', 'rufsane', 'sansthlavaril', 'fauntnaachea', 'sciencemadhye', 'karli', 'brigade', 'sajavaa', 'praantacha', 'sadeanpramaneycha', 'gardeechee', 'friendswood', 'wind', 'aambejogaaeche', 'viveki', 'aslel', 'poleechi', 'dushkalachee', 'lavnyaavar', 'sheytkreanmulech', 'baachegaw', 'rashhiyaa', 'bhootakalateel', 'balakachee', 'mckay', 'clark', 'ubhaaralele', 'kaishara', 'thambteel', 'reed', 'ranthambor', 'parikashan', 'sherebajee', 'khambir', 'dvarapal', 'sakriya', 'bunrsh', 'upayogacha', 'lokavirodhat', 'santaansarkhea', 'kaydyane', 'jodpyaane', 'aluminium', 'mahoney', 'nivadanukeevar', 'visakhapatnam', 'niyojanabhvnaat', 'masemarichey', 'uttariy', 'stheet', 'taqsi', 'chandu', 'utpaadanaankade', 'prakriyeshee', 'lokanunay', 'cables', 'paalkanni', 'feero', 'tiwari', 'santosheenchee', 'shwift', 'sattet', 'nmdc', 'holt', 'ghasasathihi', 'parker', 'akshyamya', 'gray', 'bobi', 'malhararav', 'lohatne', 'darshavla', 'indos', 'radegaav', 'dalimba', 'bhingri', 'prashasnavar', 'gulchhadi', 'kaadhun', 'buswar', 'shrikrishanachya', 'basato', 'hyanneech', 'oshiwraa', 'bolaka', 'falaniche', 'kasavavnchya', 'loksnkheamdhe', 'kerr', 'darjache', 'paygo', 'paramparanchi', 'ulagadale', 'viknyachya', 'zapaatayaane', 'drushyandekheel', 'ravind', 'marchyuree', 'rajkarnee', 'kunaawar', 'tabalet', 'pakistanmadhil', 'chandrapur', 'sadhnet', 'shetakaryaasaathee', 'nehami', 'mahapurush', 'costa', 'guntawanookadaaraanmadhoon', 'silva', 'mohor', 'rangavalele', 'padbhar', 'phinish', 'nagarikansathee', 'adhyapanachya', 'tadaphadar', 'budaun', 'narayanarawans', 'heechi', 'israni', 'aster', 'karyakartyanche', 'duchaakivareel', 'khelayacha', 'kautook', 'ioonian', 'salaavt', 'fakeera', 'atyavastha', 'saraikela', 'cambridge', 'dharananmadhye', 'khaalavat', 'johnson', 'darmyan', 'nikaalaakade', 'sharyateet', 'bhooprushtaakhali', 'shetakaryaanchyaakadoon', 'vartamanpatratoon', 'bharavite', 'alpavadhitach', 'rasal', 'tania', 'falniche', 'mays', 'karyalayaat', 'heralda', 'antartic', 'netemandali', 'siwan', 'bhetiwar', 'atishaya', 'karyalayane', 'svarakrutee', 'aamlapittache', 'novemberchya', 'shakhadhikaryavirudha', 'castro', 'pinaareanvirodhaat', 'undershon', 'yojatat', 'massey', 'paddhatis', 'adhikaryansobat', 'affle', 'palang', 'khadyapadarthanirmitee', 'sasidharan', 'ekjhikmyutivh', 'gruhkhateasaarkhea', 'maalaalaa', 'baksar', 'alimpiqa', 'uppal', 'anabhishikt', 'varshanhoon', 'deshatach', 'indosh', 'hitalarala', 'foam', 'kayadyas', 'seffield', 'gondar', 'haora', 'putalyachee', 'jaaliyanwala', 'mangalagauree', 'shetakaryaannaa', 'nakshalwad', 'rakhiv', 'rujnyapasun', 'lang', 'milatoy', 'dhunee', 'tharvilelya', 'jak', 'icchuk', 'koraput', 'flint', 'kamarhati', 'maava', 'thewanyache', 'prakaransathi', 'shanjhaya', 'krisna', 'jalwidyut', 'kayamachi', 'rashtradharm', 'gamatisheer', 'tyaavishayee', 'trucqs', 'rugnawaahikaa', 'tukadeela', 'teancheaparayantchea', 'anuyaayancha', 'pofdi', 'jhinhai', 'talamajalyaawaracha', 'tagdee', 'shephild', 'iron', 'bakaree', 'parivarasah', 'chitrapatsrushtivar', 'shastrakriyenantar', 'pahanyasathee', 'nivdtat', 'sampavale', 'prantantoon', 'prakriyepasoon', 'mukkamee', 'sangalikarankade', 'vargmool', 'ghanmeetar', 'cherrapunji', 'vibhagane', 'pratisthan', 'taylorsville', 'parabhavane', 'afghanistancha', 'prakar', 'juvathee', 'panandware', 'ulhaanagaraateel', 'holeevoodamadhoon', 'bashee', 'sephild', 'gul', 'vikricha', 'dharanaatahee', 'heroon', 'maagneechyaa', 'mashharum', 'maargika', 'mukhyamantryanpasun', 'jinkoo', 'churmureacha', 'aintartik', 'salazar', 'vijetepadaachyaa', 'vibhagala', 'persanal', 'runey', 'suffolk', 'dumka', 'jyada', 'khun', 'kane', 'shetkreavarch', 'kukreja', 'rallis', 'path', 'pinareacha', 'sahebanchya', 'findlay', 'chatakaa', 'kinaryavaril', 'shrilankeviruddhchyaa', 'ekbal', 'karyalayachi', 'jaagaanpaikee', 'hotee', 'hivalyatil', 'pennington', 'maalta', 'hasavafasavee', 'sambandhanchi', 'neelgay', 'khaalawat', 'patyakar', 'cheenar', 'sansthetoon', 'awayawanna', 'jaipur', 'puraanmatavaadee', 'ranchi', 'motha', 'kabadkasht', 'huhtamaki', 'vaakachaure', 'baithakeeteel', 'dipmal', 'prayogaala', 'bheteechya', 'vyakttincheakdey', 'vastraharan', 'mother', 'morennee', 'prayogaanti', 'turichya', 'chilkhat', 'kontahi', 'yanantargat', 'kaumudee', 'maharastra', 'khatyanchi', 'crupa', 'matheran', 'alexandria', 'oomes', 'barshi', 'spanish', 'shetkreamula', 'jharkhand', 'yanchyat', 'atakav', 'bastil', 'maazeech', 'bhaskar', 'purvneababtchi', 'bramhanat', 'mooresbi', 'munnadenchyaa', 'bachegaav', 'sambandhatoon', 'dilyaachee', 'vishwaamitraachyaach', 'saujanyane', 'tandon', 'madathee', 'fischer', 'karkheleekar', 'nivadnukanpryantach', 'tag', 'pakshaghat', 'redwood', 'baamboona', 'yethey', 'yadivashee', 'susajj', 'kanegav', 'samiteepudhe', 'dakhavilelaya', 'falbhaji', 'machila', 'pratishtanachea', 'vaparasathi', 'dehadan', 'karvilee', 'khalli', 'mitrapkshankdoonhi', 'takte', 'naagavade', 'astitvachee', 'boardchya', 'manassas', 'chidchid', 'hushareene', 'pasarawat', 'rasikaanchi', 'nasnarya', 'meediyavar', 'sahasachiv', 'taarambal', 'anasold', 'sing', 'rassa', 'haley', 'barauni', 'kar', 'fatakavalya', 'anathalay', 'sakat', 'pahij', 'dantale', 'postal', 'sabhaatyaag', 'rajasthan', 'hosur', 'vaish', 'kaana', 'olyimpic', 'shikshela', 'gulab', 'smaranshaktinee', 'bhadauriya', 'karmachaaryaanchee', 'littleton', 'maalmataadharkaanmdhay', 'potashee', 'shikshanabaddalchya', 'bowling', 'praveshdwaraapurvee', 'pahalwan', 'champiyanwar', 'vikreepaasoon', 'yeiparyant', 'susvabhavi', 'srivastava', 'grahanche', 'zharqhand', 'hrudyadhamaneanpaikee', 'swaksharidekheel', 'tajavij', 'kunkeshvar', 'tantragyanacha', 'gulchhdee', 'sanchaya', 'monte', 'zyok', 'viknyachi', 'auto', 'tethale', 'angai', 'pentar', 'karli', 'katta', 'twarit', 'poladapekshahi', 'creeg', 'masemari', 'rahan', 'vilay', 'aathawalaa', 'yaanchyaavirodhaateel', 'kulabyachya', 'ankeny', 'olympia', 'eknath', 'moorey', 'shaklyane', 'panipurivala', 'bramhananche', 'madhln', 'sayklotasav', 'maddox', 'beesilas', 'devikaaranin', 'dhoranamule', 'chitraptgruhaatoon', 'hawthorne', 'havapradushanacha', 'ajit', 'naatevaaeekaanchee', 'ramkrishna', 'hatleanantarach', 'ubhaytanni', 'jaganyapeksha', 'fond', 'khaaravalelee', 'badar', 'tappyabaabat', 'tupacha', 'thik', 'tookadine', 'kaaranahi', 'renaqot', 'milo', 'zaalu', 'thevnyache', 'aviation', 'boqser', 'pranay', 'mitrmandalee', 'jhudapaat', 'bhingaree', 'rikamya', 'montebello', 'bhanushali', 'parq', 'prashasnala', 'vyaaplelyaa', 'praveshdwarapurvi', 'gudgao', 'bhograj', 'rafael', 'yanchyakade', 'chakwaa', 'aaplyasarkhyanmadhye', 'dubhatee', 'weeks', 'mountain', 'aadim', 'shevatchan', 'niteeshakumaar', 'baajookadeel', 'menduteel', 'mahaaraastra', 'karkhele', 'poorvich', 'matadaanaasaathee', 'devikaaraaninn', 'buildcon', 'padavidharaanchea', 'raashtreey', 'daramyanache', 'swift', 'mahiteesandarbhat', 'naanduri', 'kalavanyaat', 'mandalaadhikaar', 'maj', 'brahman', 'hratik', 'raayaavalaa', 'kinaareapramane', 'centro', 'hast', 'souza', 'hariche', 'dilyachee', 'haridwar', 'shikavani', 'sashart', 'rahilyamuday', 'naikanni', 'puranbharan', 'rasikanchee', 'kaarvaaichi', 'dandavate', 'halland', 'rabaree', 'cheshta', 'godrej', 'anawe', 'khargone', 'bhaktibhav', 'rajubhaekde', 'gatavarsheechyaa', 'parichcheda', 'sheytkreamula', 'focus', 'suresh', 'bimata', 'bharvila', 'carroll', 'matdanasathee', 'utsavache', 'veeranguda', 'kerala', 'fetaalalaa', 'melton', 'satpuda', 'novi', 'nayanramya', 'vedana', 'dubhati', 'nitrite', 'kshamatemule', 'mahanagar', 'janeapaasoonchi', 'kashmir', 'bebii', 'lavhadee', 'haloowar', 'naamdaranchea', 'sarawagi', 'kalalele', 'lara', 'laksh', 'takkyanni', 'borachee', 'urducha', 'praveshahee', 'valvemadhye', 'chalu', 'anderson', 'gamtishir', 'falanicha', 'jast', 'buddhanni', 'pitamah', 'shatpavli', 'hatavlyanantar', 'nondvineasaatheehee', 'floyd', 'thaambalelaa', 'aavritichay', 'vaishpayan', 'dhulaaee', 'underson', 'tapamanat', 'kurhaad', 'mukhyamantreepadasatheech', 'dhornancha', 'nigam', 'panditji', 'topalya', 'sakuree', 'balangir', 'svaareanchea', 'estes', 'afreen', 'vyavasthapanachya', 'kansai', 'dirangai', 'naagvade', 'chitrapatasrushtitil', 'majbutikaran', 'jeyttimule', 'soneacheacha', 'charleston', 'vaaparlyane', 'unnaticha', 'prakriyela', 'rasikanchi', 'shashthesh', 'misadtaat', 'sweapht', 'shikshanavyavasthet', 'parfeect', 'shakeer', 'yanchyasathee', 'kholeechyaa', 'atkins', 'varachevar', 'dukhoo', 'ispat', 'kalra', 'bavane', 'majuranna', 'milk', 'carey', 'kalamaanvaye', 'banalela', 'rasiyana', 'chelsea', 'lashkarache', 'young', 'vidnyanamadheel', 'sarahadda', 'chakravartee', 'badhai', 'abja', 'dhagyavar', 'siddhantat', 'chhindwara', 'havapradooshanacha', 'afaganistancha', 'shasakannee', 'bhijvun', 'darshavinari', 'bhadkali', 'durghatneteel', 'pathvlee', 'teresa', 'greece', 'naveenach', 'niyateene', 'chaubey', 'rokhathok', 'vainshapayan', 'limbale', 'padatalniabhavi', 'basmatii', 'asthimajjet', 'menduche', 'vakr', 'medina', 'baashkalpne', 'kharchahee', 'apol', 'aashta', 'chakravarti', 'karnareanvirodhaathi', 'palakkad', 'vitanchya', 'devicha', 'beebee', 'sukshama', 'julymadhye', 'robins']\n",
            "['हिटलर', 'क्षमा', 'जिंकता', 'कौशिक', 'जादूगर', 'चालवण्याचा', 'समाजकार्यात', 'थंडीने', 'मालमत्ताधारकांमध्ये', 'तुकडोजी', 'शिवसैनिकासाठी', 'सुबोजितने', 'पोषणासाठी', 'होती़', 'उश्मा', 'तोंडावर', 'मेले', 'अन्नापोलीस', 'बॉम्बे', 'आवडत्या', 'अध्यक्षीय', 'शेतकऱ्यांच्याबाबत', 'बराई', 'सांगण्यामुळे', 'संकटे', 'मेट्स', 'मुलं', 'तीनदा', 'अंतर्वस्त्रापासून', 'दुर्गेचं', 'मुळचा', 'हरणांचे', 'कष्टाचे', 'टाळता', 'एसेन', 'धर्मशिक्षणाचे', 'शेफील्ड', 'लॉइड', 'रुग्णांवर', 'अनुवादासाठी', 'बाभळगाव', 'करणेही', 'संपल्याने', 'एकला', 'चक्रीवादळाचा', 'विभागीय', 'दोघांनीही', 'शिक्षणविषयक', 'क्षमतेचे', 'सुरा', 'बीटल', 'यादीतून', 'अध्यापन', 'औद्योगिकरण', 'कोलंबस', 'अधिकच्या', 'पुरुषोत्तम', 'जाधवांनी', 'शिक्षणपद्धती', 'परीक्षाकेंद्रावर', 'कुर्तकोटी', 'श्रीवस', 'गांधीनगर', 'कंत्राटदारांमध्ये', 'हिरोपनती', 'असावे', 'सहाही', 'भसीन', 'घेणार्या', 'हलवली', 'आईची', 'वाहतुकीची', 'असावी', 'महाराष्ट्राबद्दलचा', 'गुडेपु', 'वाढविला', 'पाकिस्तानी', 'इंग्लंडने', 'सुरेंद्रनगर', 'मिसौला', 'बालगीत', 'महावितरणने', 'सेंगर', 'ग्रिसमधली', 'लेन', 'बोरिवली', 'झीरो', 'रोहन', 'येथे', 'नभी', 'झुंज', 'बेबी', 'लिंक', 'टाईड', 'वाचणे', 'विघटनापेक्षा', 'पाळीचे', 'अवयवांची', 'वसुंधरा', 'बिना', 'बॉबी', 'मोहिमेअंतर्गत', 'क्षत्रप', 'बिअर्ड', 'करेपटार', 'तुरूंगात', 'मुक्काम', 'मवाळ', 'जीवनी', 'पाठवी', 'शिवप्रतिष्ठानची', 'वीज', 'पर्यवेक्षक', 'नारायण', 'अचुक', 'सत्कर्म', 'लॉस', 'युनूस', 'जाणीवा', 'जिजाबाईंना', 'नक्षलवाद', 'स्वच्छतागृहे', 'रूढींमध्ये', 'कपूरच्या', 'दलातील', 'चैबासा', 'स्तुत्य', 'आम्लपित्ताचे', 'बसोव', 'हिटलरच्या', 'कलाटणी', 'पैशांसाठी', 'वर्षभराच्या', 'तिलांजली', 'पुलाजवळ', 'दिनक्रमामुळे', 'पळाले', 'अँडरसन', 'विभागाचे', 'खंडोबाचं', 'उत्पादनांमध्ये', 'महासत्ता', 'मीटरमध्ये', 'उत्सवातील', 'राजेश', 'कातडीचा', 'आठवल्यासारखा', 'पचायला', 'पैशासाठी', 'दुसऱ्याची', 'जो', 'विभागावर', 'सांगण्यामुळे', 'पाठबळावर', 'सुचना', 'मोहिमेदरम्यान', 'मेट', 'उद्या', 'नाचवत', 'डाकघर', 'ओतून', 'मिकी', 'प्रयोगानंतर', 'पाठबळावर', 'झंकारलेलं', 'पाटण', 'सत्कार', 'पाकळी', 'कन्ट्रोल्स', 'क्विक', 'संबंधांविषयीच्या', 'दाऊद', 'मोरे', 'राजांविरोधात', 'रीच', 'रिलीफ', 'बाभळीची', 'यांच्यामध्ये', 'ग्रॅहम', 'सुनावले', 'राजस्थानातून', 'फीड', 'पाशा', 'वाहतुकीची', 'खरवळ', 'सतरावे', 'आरोपीमविरुद्ध', 'चिंचवड', 'दंडवते', 'लॉयर', 'छटा', 'विष्णुपुर', 'राजांविरोधात', 'प्रमुखांत', 'ट्रॅकिंग', 'जमीरमध्ये', 'सोपाऱ्यानंतर', 'बरबाद', 'रोखला', 'पितळी', 'आजमितीस', 'कृपा', 'मिकी', 'शेतकऱ्यांच्याबाबत', 'खासबाग', 'पद्धतीचा', 'कॅलहौन', 'ध्वनीचे', 'संस्काराचा', 'घटस्थापना', 'भगवंताचे', 'भूपृष्ठाखाली', 'शिवसैनिकांविरुद्ध', 'सुरांची', 'महामार्गाची', 'रखडला', 'वेबसाइट्सविरोधात', 'शॉ', 'तामलवाडीत', 'संबंधाच्या', 'फलंदाजीची', 'नवनवीन', 'आजमितीस', 'सुरक्षेचे', 'बरोबरीनेच', 'तरतरीत', 'रुग्णालयासंदर्भात', 'तापमानावर', 'कारवाईची', 'आयोवा', 'भूषण', 'वाजल्यापासून', 'सिन्हा', 'गुलमर्ग', 'पोटनिवडणुकीसाठीची', 'बाल्टिमोर', 'आदी', 'बेहरे', 'मॉलिना', 'शेल', 'अग्र', 'बसवावा', 'सिल्व्हासा', 'अंधकारमय', 'ट्रेंटन', 'आरक्षणावर', 'जनावरांची', 'मंजुर', 'एंझाईम', 'प्रकरणांनाही', 'मजबुतीकरण', 'मॉस्ले', 'चिनी', 'सोळंकी', 'मासेमारीवर', 'वापरता', 'प्रसूति', 'मंदिराविषयीच्या', 'मिलियन', 'मुलांसाठी', 'नोकर', 'बसगाड्यांमध्ये', 'यांच्यापेक्षा', 'राणीच्या', 'चांगलाच', 'पुट्टा', 'तात्काळ', 'ठमाबाई', 'थॅचरसोबत', 'हलत', 'बेशुद्धपणामुळे', 'लेखातील', 'रूनी', 'कलर', 'प्रयोगातील', 'पूल', 'आशेवर', 'जॉक', 'बहिणीच्या', 'अशाही', 'पुदुकोट्टाई', 'प्रश्नांसाठी', 'रायकर', 'भूकंपाने', 'जबलपूर', 'आगेकूच', 'उपयोगी', 'मदर', 'पाठवण्यास', 'आयोवा', 'ग्राऊंडवरचं', 'रेघांच्या', 'ब्राँकायटिस', 'बालकांची', 'बोर्डाचे', 'वागणूक', 'बहिणीच्या', 'आसाराम', 'मोहिमेचा', 'चुकली', 'अगदी', 'हिरोपनती', 'चेंबॉण्ड', 'मगदूम', 'सुवर्णयुग', 'आराखडे', 'लावण्यासाठी', 'पध्दती', 'तुकडीला', 'चढायला', 'इयर', 'सनद', 'शेअरीमध्ये', 'आईकडून', 'प्रश्नांमुळे', 'मतदाराला', 'रॅबीपूर', 'बसस्थानकावर', 'पिणाऱ्यांविरोधात', 'वेबसाईट्सनाही', 'शेतीतून', 'रेनकोट', 'घडवते', 'लोहाटने', 'प्रतिष्ठानचा', 'कष्टाची', 'मिशेल', 'असलेली', 'संस्थेने', 'फ्रिस्को', 'प्राणही', 'सभात्याग', 'प्रमाणेच', 'भडकले', 'डर्ट', 'अँडरसन', 'टोलनाका', 'तिवारी', 'बावलान', 'अपुर्या', 'गालावर', 'हायलाइट', 'तालिबान', 'स्कॉर्पिओ', 'मादागास्कर', 'रॅपिड्स', 'तंत्रज्ञाने', 'झारखंड', 'हावळण्णाचे', 'करतोय', 'युक्लिड', 'रुग्णावर', 'पासो', 'पत्रिकेत', 'विनीता', 'तत्', 'लक्षणांचा', 'रेषेपलीकडून', 'हैसर', 'फाऊंडेशनच्या', 'अकोलेकरांसाठी', 'त्यानेच', 'मेरटा', 'स्वारीचा', 'यूपीव्ही', 'प्राचिन', 'इंग्लंडमधील', 'राष्ट्रपतींना', 'मूठ', 'सोबतीने', 'व्याप', 'सुकली', 'कॉन्फरससाठी', 'इतरांनाही', 'पोटनिवडणुकांमधे', 'हिटलर', 'ट्रॉय', 'पाकिस्तान', 'वीज', 'व्यवस्थेला', 'जळताना', 'खिळखिळे', 'दप्तरचे', 'सिवासागर', 'जागरुकता', 'भगिनी', 'ट्रेसी', 'हिमालयाच्या', 'चाललाय', 'अहमदाबादला', 'लंपासच्या', 'यांच्यासमोरच्या', 'डोंबिवलीच्या', 'मंगण', 'जनावराच्या', 'करविली', 'बेकर', 'लिच', 'चक्रीवादळाचा', 'कुक', 'कामातील', 'विभागाशी', 'चित्रपटसृष्टी', 'ठरविले', 'व्यवस्थापनासाठी', 'टोफू', 'क्लाइन', 'नवनवीन', 'अमरोहा', 'मस्ट', 'बीटल', 'घसरली', 'मांडके', 'मूर्तिकारांकडून', 'जवानांकडूनही', 'डीएफआरएलचे', 'शिक्षणाबद्दलच्या', 'नेईल', 'मेल', 'आत्मदृष्टीचे', 'सामारिक', 'दलालांना', 'मोरेस्बी', 'सरदारांनी', 'पर्ण', 'बुद्धांचे', 'प्रश्नाबाबत', 'कोलम', 'प्रेमळपणा', 'जामिनासाठी', 'याप्रकारच्या', 'सावर', 'तिथेही', 'ओवाळणी', 'स्वारीचा', 'येण्यासंदर्भातही', 'परिस्थितीची', 'डेंटल', 'करवाढ', 'धुलाई', 'कोपऱ्यात', 'दुर्गावंश', 'शेतकऱ्यामुळं', 'अटलांटिकमध्ये', 'संकटांचा', 'असाध्य', 'जमतात', 'पोरवाल', 'विकासकामे', 'रॉजर', 'सदरची', 'कारखानदार', 'लक्ष', 'सनी', 'पर्वाचे', 'डॉल्बी', 'दंगे', 'असलो', 'यासी', 'पाठवते', 'प्रसारमाध्यमाचा', 'प्रवेशाचा', 'म्हणालेत', 'शिवरायांची', 'स्वरात', 'लिम', 'मीराबाई', 'वान्स', 'दिवट्यांना', 'रुग्णावर', 'कराळे', 'खोबणी', 'सोनवणे', 'रसामध्ये', 'अक्षम्य', 'पाकिस्तानमधील', 'एक्झॉ', 'पध्दतींचा', 'देवतांचे', 'बल्लाड', 'लाजु', 'पॅकेट', 'मोहिमेच्या', 'बेलसे', 'बापट', 'ब्रह्मापूर', 'दासगुप्ता', 'ओलसन', 'प्रदेशातच', 'खुलविण्यासाठीच्या', 'तंत्रज्ञानातील', 'निवडणुकी', 'अल्टो', 'द्यावे', 'मनुष्यवधाचाच', 'रौप्यपदक', 'कामातील', 'नितीन', 'निर्णयानुसार', 'इन्फोबिन्स', 'गॅंगटॉक', 'विभागांचा', 'यांच्याकडून', 'मौल्यवान', 'बसतील', 'सायराक्यूज', 'हूकते', 'तामिळनाडूत', 'मैत्रिणी', 'हिच्याकडे', 'शारजा', 'तत्कालिक', 'फिन्निश', 'हॅकेनसॅक', 'मेटल्स', 'दुर्लक्षिले', 'इनायत', 'पृथ्वीला', 'पाकिस्तानी', 'अतिशय', 'शेतकऱयांच्याबरोबर', 'उलटपक्षी', 'तंगा', 'अमेर', 'सुवर्णमय', 'करूर', 'लोण', 'देशव्यापक', 'प्रेसिझन', 'महावर', 'शोधू', 'विलासपूर', 'संसर्गांच्या', 'पॅरिश', 'इंग्रॅम', 'पाडण्याच्या', 'अरुणकुमार', 'अफगाणिस्तान', 'टिप्पण्यांना', 'केनेथ', 'आम्लपित्ताचे', 'लोकेशनमधील', 'झुडपात', 'खोलीच्या', 'नाटय़ामध्ये', 'राजपूत', 'भावूक', 'म्हणणाऱ्यांपैकी', 'कामरकोंड', 'शेतीतून', 'र्हास', 'महामार्गापर्यंतचा', 'दूषणे', 'घराजवळ', 'रेकॉर्डींगचा', 'येथेही', 'इंडस', 'स्वातंत्र्याविरोधात', 'तुकडीचा', 'नीलगाय', 'विल्करसन', 'नागोजी', 'बराक', 'दर्जाचा', 'पॅकेट', 'दादांनी', 'अमरापूरकर', 'मंदाडी', 'उतरावे', 'कार', 'आपआपसात', 'चिपळूणकर', 'मारायची', 'भीतीमुळे', 'पर्यंतचे', 'अडथळा', 'वागायला', 'टोपली', 'प्रयोगाच्या', 'तायडे', 'लडाख', 'गणिका', 'दाह', 'येथेही', 'झा', 'पदवीवाल्याला', 'असणाऱ्यांसाठीही', 'ओलांडला', 'अंदाजही', 'कडप्पा', 'श्रीरामपूर', 'पूर्वजांचे', 'विद्या', 'सीमित', 'प्रदीर्घ', 'मुलावर', 'उठणे', 'पाकिस्तानी', 'ऍथलेटिक्स', 'उचलायला', 'जोडगोळीने', 'इयर', 'संशोधकांचे', 'धनेषात', 'प्रतिनिधीमंडळाच्या', 'भूकंपानंतर', 'इतरांचा', 'वाऱ्याने', 'जगण्याची', 'तुकडीने', 'भावीनिमगाव', 'पाठभेद', 'आगळे', 'अकोलेकरांसाठी', 'पर्यावरणातल्या', 'परवानगीनेच', 'अडजस्टमेन्ट', 'प्रांतीय', 'रंगली', 'इन्स्टिटयूट', 'हीची', 'आनंदजी', 'शिशानीचा', 'अव्हेंच्युअर', 'रेनकोट', 'फेसबुक', 'येतों', 'टेर्म', 'पाडण्यात', 'वाहतुकीची', 'मणिपूर', 'ब्राह्मण', 'आणि', 'इटावा', 'मारिया', 'सोहळ्याविषयीची', 'असणाऱ्यांमध्ये', 'विजापूरवेस', 'अंतर्वस्त्रापासून', 'लगावले', 'यंत्रणांनीही', 'कश्यप', 'शिक्षणातील', 'कुरेशी', 'पावला', 'कासवांची', 'एस्पिनोझा', 'शेफील्ड', 'इश्क', 'विभागाकडे', 'दाखविले', 'बाधक', 'राणीची', 'निर्णयानुसार', 'व्यवस्थेसारखा', 'वारसदारासाठी', 'संवेदन', 'महासत्ता', 'भोगिले', 'बालेघाट', 'अंधकारमय', 'राष्ट्रांपर्यंत', 'जॉक', 'बैठकीतील', 'आदित्य', 'विज्ञानांमध्ये', 'खलु', 'वाढविण्याबाबतचा', 'अँडरसन', 'कायद्यास', 'एक्सिस', 'कुटुंबांपैकी', 'अशिक्षिताचा', 'लागलाय', 'करीमनगर', 'हृषिकेश', 'एडमंटन', 'खानावळ', 'आदी', 'ऐश्वर्य', 'पाठवीत', 'ब्राउन्सविले', 'पतिपत्नींना', 'डेहरी', 'शेतकर्यांचे', 'शूज', 'घृष्णेश्वर', 'पौगंडावस्थेतील', 'वेळप्रसंगी', 'राहता', 'वसिष्ठ', 'अमरेली', 'तातडीची', 'प्रतिष्ठाना', 'शेल', 'हो', 'लांबणीवर', 'तारेनं', 'शिवसैनिकासाठी', 'भरविला', 'मोसमी', 'मिसळतात', 'जॉर्जटाऊन', 'बनलं', 'दोघेजण', 'बेव्हरेजेस', 'तुत्सिन', 'स्थानिकांकडून', 'चढवत', 'सोडवणारेही', 'खाल्ला', 'व्यक्तींच्याकडे', 'पाकिस्तानी', 'झाडघर', 'प्रयोगांची', 'वेगळी', 'वर्षांची', 'अहमदाबादच्या', 'संसर्गांच्या', 'फलंदाजीची', 'धामधूम', 'पेन्शनधारकाने', 'गुंतवणुकदारांनाही', 'एरी', 'इन्स्ट्रुमेन्टने', 'मागण्याची', 'झुंज', 'बलिया', 'बार्नस्टेबल', 'इंग्रज', 'संहितांतर्गत', 'संबंधांविषयीच्या', 'तंत्रज्ञानाची', 'चाळीसचे', 'मुडी', 'वाचुन', 'इंडोनेशियन', 'उपयोगांसाठी', 'मशीन', 'मॉन्टेस', 'बड्या', 'शिवगौरी', 'दुर्गखंड', 'राजेंविरोधात', 'मुलांपैकी', 'विजयपुरा', 'कल्हई', 'बावलान', 'बादशहाने', 'बीडमध्ये', 'बालकांचा', 'राज्यांनादेखील', 'ईशान्येला', 'सुदृढ', 'सासरचे', 'रेल्वे', 'स्विंग', 'फूडवर्क्स', 'सोटो', 'यापूर्वीही', 'जस्तं', 'भारतीयांच्या', 'गुरफटल्यामुळे', 'चंद', 'आंबवमधील', 'निवडणुकांपर्यंतच', 'गोठविण्यासंदर्भातील', 'मशिन', 'ऊसतोडणी', 'रुग्णांवर', 'तिबेरियस', 'स्कॉर्पिओ', 'झोपडपट्टी', 'कुंडलीत', 'चौरस', 'फुलपाखराला', 'इश्क', 'पृथ्वीच्या', 'सायन्सचे', 'देशमुख', 'पाडवी', 'झुडपी', 'धावणार', 'मुन्नाभाई', 'महाराष्ट्र', 'मोहिमेदरम्यान', 'जळजळ', 'ठेकेदारांना', 'पॅरिसमधील', 'मौजेकडून', 'चीज', 'हरी', 'पॅलाताईन', 'टांकसाळ', 'ठेवण्यासाठी', 'प्रकारांपैकी', 'सगळीकडीच', 'चोरट्यावर', 'मुक्कामी', 'तुपेवाडी', 'धावणार', 'अत्यवस्थ', 'डागडुजींवर', 'दांताळे', 'चक्रीवादळाचा', 'दिसणार', 'जोडगोळीने', 'असणाऱ्यांमध्ये', 'याप्रकारे', 'ठाकरेंचे', 'नेरेपरांबली', 'दिवाळीदेखील', 'सभांमध्ये', 'बोध', 'लुसी', 'चित्रिकरण', 'पेट्रोनेट', 'एंटरप्राईझ', 'रशियन', 'मल्ल्यासारख्यांसाठी', 'भावहि', 'आर्थर', 'प्रकारांची', 'मिडलँड', 'पाठवू', 'शेतकऱ्यांनाचा', 'प्रसारमाध्यमाचा', 'व्हिलिंग', 'वर्षांतील', 'केरा', 'टोलनाका', 'इलनॉइज', 'इंग्लंडकडून', 'इतरांनाही', 'अंतर्वेदीतील', 'उग्र', 'मीटरमध्ये', 'वनपाल', 'पंजाब', 'तामिळनाडूत', 'तिबेरियस', 'हॅटीसबर्ग', 'यापूर्वीही', 'ईडीची', 'कोलोरॅडो', 'तडा', 'महामार्गापर्यंतचा', 'वेतनवाढ', 'घटका', 'तीसहून', 'च्यानंतर', 'लिटिंगला', 'झारखंड', 'लगावले', 'उचलावीत', 'बुडबुड्यांबरोबर', 'अख्ख्या', 'आवृत्तीत', 'उमेदवारांसंदर्भातील', 'पर्वात', 'इंजिन्स', 'स्फोटकांद्वारे', 'शेतमालाची', 'आमुची', 'सत्वपरिक्षा', 'आरोपींविषयीची', 'मजल्यावर', 'इंडेक्स', 'शोधल्यासारखा', 'पाठवून', 'आरामशीर', 'आजूबाजूच्या', 'शेल', 'रामपूर', 'सरकारविरोधी', 'सोहळ्यासाठीचा', 'उंट', 'काठमांडू', 'डोडा', 'शेतकऱ्यासारखी', 'खालावत', 'हिंदुस्थानींवर', 'पोलीसांनी', 'प्रश्नाबाबत', 'स्विफ्ट', 'सायन्समध्ये', 'धुरळा', 'ठेवण्याचा', 'विभागली', 'टॉरेस', 'नैपुण्यासाठी', 'डिअरबोर्न', 'झिन्हाई', 'रंगेहात', 'उर्दूचा', 'आकृत्या', 'प्रांतांची', 'टिनलेय', 'गोंडर', 'पोटाचे', 'मुनींनी', 'शिवसेनेतील', 'क्रॉफर्ड', 'अकोला', 'बघितला', 'कायदेभंग', 'शेतकऱ्यांनी', 'फलंदाजांच्या', 'उपनाम', 'चेन्नई', 'पिकांसंदर्भात', 'अस्तित्वाची', 'बांधणी', 'अँटिबायोटिक्सची', 'विजयवाडा', 'पात', 'त्यांच्याबरोबरच्या', 'शिश्न', 'अटलांटिक', 'मटका', 'कैसर', 'सेनसारख्या', 'पोळीची', 'इन्फ्राप्रोजेक्ट्स', 'दाखविलेल्या', 'अपूर्वा', 'पावडरसारखी', 'ओतून', 'प्रतिष्ठानची', 'संस्थेकडून', 'पूर्वेकडे', 'गॉडफ्रे', 'लिंडे', 'पूर्वनियोजित', 'पडताळणीअभावी', 'लिलीपेक्षाही', 'राखेचा', 'इक्विपमेंट', 'वेकोस', 'मडगावात', 'चोप्रा', 'प्रकारासाठी', 'वाबग', 'ताशा', 'बैठकीतील', 'फिन्निश', 'प्रचारसभा', 'बॉबी', 'पाळी', 'पद्धतींची', 'न्यूटनच्या', 'पेपरमध्ये', 'रोखले', 'त्यामागची', 'मंदिराची', 'अंतर्वस्त्रापासून', 'रत्नागिरी', 'अदृश्य', 'डोंगररांगांनी', 'ह्याचप्रमाणें', 'याज्ञिक', 'परिपाक', 'कुटूंबातील', 'विभागली', 'याप्रकारे', 'आयोवा', 'बांधणी', 'निर्णयासाठी', 'पासूनच', 'वेणू', 'जमत', 'पुंदे', 'त्यांच्याकडूनदेखील', 'अत्यवस्थ', 'ग्लायकोल', 'निग्रह', 'राज्यामधील', 'फंडात', 'रेनो', 'भागविण्यासाठी', 'एअरटेल', 'बसतो', 'शेतकऱ्यांमुळेच', 'जोडगोळीचा', 'धोरणांची', 'विभागाशी', 'शिवराय', 'वापरावर', 'मदिना', 'कोट्टायम', 'जानेवारीमधे', 'कार्यालयाला', 'वेल्लोर', 'द्विवेदी', 'अडचण', 'कुमार', 'सारंगपूर', 'कंत्राटदारांमध्ये', 'असणाऱयांविरोधात', 'संस्थळावरील', 'अत्याचाराच्या', 'श्रीवास्तव', 'हिंदुस्थानींवर', 'मेळावा', 'टोलनाका', 'असावीत', 'मोतीराम', 'भाषणाचा', 'गटातून', 'अजामीनपात्र', 'याप्रकारचे', 'नमस्कार', 'विचारधारेचे', 'ऑलसेक', 'चंदेल', 'टँकरने', 'पाहुण्यांनी', 'आगाऊ', 'यादव', 'इगतपुरी', 'नोबेल', 'मंगळवेढ्यापासून', 'वाहतुकीत', 'उष्मांक', 'कॅन्टन', 'मार्तंडराव', 'तापमानावर', 'फंडाच्या', 'स्कॉट्सडेल', 'महाप्राण', 'स्टेशनमध्ये', 'गुराखी', 'सीमॅक', 'केंद्रापर्यंतच्या', 'माट्टिकात्रे', 'इंग्रज', 'हे', 'फुलपाखरांच्या', 'खर्चाला', 'शिवरायांचा', 'नोटबंदीच्या', 'जर्द', 'चित्रदुर्ग', 'विवाहाखेरीज', 'देवस्थानांच्या', 'कायद्यात', 'सुतारगल्ली', 'इगोर', 'हॉर्टन', 'बिरूदं', 'मुलांमधला', 'ओफेन', 'शेतकऱ्यासारखी', 'गुना', 'द्वेश', 'बुकानन', 'प्रकटला', 'परीक्षाकेंद्रावर', 'प्रवेशद्वारापूर्वी', 'बिना', 'हिरोपनती', 'कुंभमेळ्यांसाठी', 'पोफळी', 'अतिशहाण्यांचा', 'सॅल', 'रिलेशन्स', 'सर्वेक्षणातून', 'निर्णयांमध्ये', 'पचायला', 'इंडोनेशियन', 'विभागला', 'संशोधकांच्या', 'रुफसने', 'पाहुण्यांनी', 'बेळगावकरांमध्ये', 'गेलेल्या', 'संस्थेमध्ये', 'राबविण्यासाठी', 'बाचेगाव', 'नसतं', 'सारण', 'विश्वामित्राच्याच', 'सिड', 'बांबूना', 'संस्थेच्या', 'गुलाबाची', 'खात्यांची', 'आयलंड', 'धर्मशिक्षणाचे', 'बुद्धांना', 'खाद्यपदार्थात', 'पोप', 'क्षेत्रापूरते', 'यांच्याप्रमाणेच', 'उत्सवातील', 'व्यापारउदिमात', 'विझून', 'कसोट्या', 'पेंटर', 'सलामीवीर', 'बेडर', 'तळ्याने', 'टिकतो', 'व्यापलेल्या', 'लॉसन', 'सामग्रीचा', 'रायडर्समधील', 'पॅकेट', 'बंधनं', 'राष्ट्रार्पण', 'टोपली', 'ओक्स', 'मंदादी', 'सारवासारव', 'घटस्फोटाबरोबरच', 'आईकडून', 'नागवडे', 'खूप', 'लक्षून', 'सुवर्णमय', 'तडफदार', 'लिरा', 'बरवानी', 'मिथिला', 'आरामशीर', 'सुमण', 'उत्पादनांमध्ये', 'पानांद्वारे', 'दुचाकीवरील', 'बसवर', 'माथा', 'सुरत', 'प्रतिनिधीत्व', 'सोप', 'निश्चल', 'कायमच', 'तर्जनी', 'निवासाचं', 'ब्रिटनमधील', 'गुप्ता', 'गमावत', 'उगवण', 'प्राजक्ता', 'शेतकऱयांचा', 'साड्या', 'जोडण्यामुळे', 'अस्तानंतर', 'भोगावती', 'व्यवस्थेच्या', 'मोरेस्बी', 'फार', 'रिलायन्स', 'ईलॅन', 'पर्सनल', 'अगदीच', 'बघितल्यावर', 'कार्यावर', 'अफगाणिस्तानमधील', 'संग्रहालयाची', 'प्रदेश', 'बॉबी', 'वृध्दाश्रमातून', 'गालावर', 'जैनांचे', 'आवृत्ती', 'रेनकोट', 'वेंडट', 'कासेगाव', 'नांगी', 'बॉक्सर', 'मशरूम', 'मुंग्या', 'झुलू', 'सहकार्य', 'ग्रोव्हर', 'रँडॉल्फ', 'वर्थ', 'टपालपेटीची', 'साड्यांप्रमाणेच', 'प्रकाश', 'पायथ्याचे', 'मूठ', 'गोदाबाई', 'कंट्रोल', 'चाळीसचे', 'श्रेणींमध्ये', 'बोलण्याच्या', 'जनावराच्या', 'पडताळून', 'शेतकऱ्यांची', 'चौहान', 'कृपा', 'रेव्हरंड', 'वाघिणीसंदर्भात', 'कृष्णा', 'घृष्णेश्वर', 'अनुभववावा', 'फिल्ड्स', 'देवस्थानची', 'स्टेशनरी', 'करतोय', 'लिबर्टी', 'दोघांचीही', 'रशिया', 'नागार्जुन', 'बळजबरी', 'उपयोगांसाठी', 'सिद्धांतावर', 'टिप्पण्यांना', 'विहार', 'बॉक्सर', 'वापरात', 'उसके', 'कोरियाने', 'तुरीच्या', 'रशिया', 'तुकडोजी', 'हिच्यावर', 'बामह', 'झ्यूड्स', 'राज्यपालांकडे', 'रहिवाशांनी', 'नेस्को', 'लावण्याच्या', 'प्रोवो', 'आसाराम', 'इच्छुकांच्या', 'खालावलेली', 'मेंदू', 'हुशारीने', 'सावलीचा', 'वैशिष्टय़े', 'कर्माच्या', 'कोणकोणत्या', 'विरळत', 'प्रसाथ', 'माथूर', 'क्रॅश', 'पुत्रांमध्ये', 'शेरेबाजी', 'पॅकेट', 'आणलेला', 'झारखंडच्या', 'सुंदर', 'परफेक्ट', 'रिलायजर', 'राहाणार', 'खाचेत', 'लागवडीचा', 'आनंद', 'संघटक', 'बिघाडामुळे', 'कपूरथळा', 'दत्तदिगंबरास', 'मेण', 'लेखांची', 'मुलाखती', 'बनविण्यासंदर्भातील', 'नॉरिस', 'निवडणूकीसोबतच', 'हंडी', 'मटका', 'अतिरेक्यांना', 'रस्त्यासाठी', 'नानाभट', 'समटर', 'पुसा', 'कूपर', 'माशांसाठीही', 'लेखमाला', 'धौलखंडी', 'मिठाईमध्ये', 'झेहरा', 'दिल्याविरोधात', 'पुण्यासारख्या', 'विभागीय', 'लावायला', 'च्यानंतर', 'प्रक्रियेचा', 'परभणी', 'टेल', 'भयावह', 'गणेशासोबत', 'इंडेक्स', 'मागोमाग', 'मोरेस्बी', 'देवघर', 'जालियनवाला', 'अवयवांच्या', 'कर्तबगारीने', 'भरतीच्या', 'बादशहाने', 'पेन्शनबाबतची', 'कर्णिक', 'बासमती', 'मार्श', 'वस्तूंनी', 'अजामीनपात्र', 'सुसंस्कारित', 'उपयोगाचा', 'एकटीच', 'स्वाइन', 'महिन्यांपर्यंत', 'विंध्या', 'भाटिया', 'पेशव्यांबरोबरच', 'पुजले', 'टॅबलेट', 'केन्याटा', 'आजारात', 'पडताळून', 'चिकटा', 'रिलीफ', 'करु', 'शिरल्याने', 'यांच्याबद्दल', 'सभासदांनी', 'पाली', 'विकले', 'उटणे', 'विकल्प', 'इंडियनपोलीस', 'गुंतवणूकदारांकडे', 'जैनचा', 'कंडिशनिंग', 'पाकिस्तानी', 'इच्छिणाऱयांसाठी', 'जवानांकडूनही', 'मुर्ती', 'ठरविण्याविरोधात', 'जोली', 'तार्किक', 'दरवाढीच्या', 'शेबॉयगन', 'राज्याभिषेकाच्या', 'पुनर्वसनाकरता', 'प्रयोग', 'क्रूरपणा', 'निरसली', 'तपिया', 'दुभाजक', 'सारवासारव', 'जिंकणे', 'बोर्डाची', 'स्टेशनरी', 'पॅकेट', 'म्हणतात', 'गोकर्णमध्ये', 'मुख्यमंत्र्यापासून', 'मेल', 'अधीक्षक', 'आजाराला', 'पद्धतीपेक्षा', 'नागरिकांसाठी', 'कानी', 'यावेळेत', 'चतुर्वेदी', 'मित', 'गुंडाबरोबर', 'वस्तूपासून', 'बर्मर', 'वर्षांनंतर', 'जमिनीतच', 'मैदानातील', 'हंडी', 'बसा', 'हफमॅन', 'क्रिस्टनसेन', 'पेरी', 'कसब्यामध्ये', 'बडगा', 'उतारे', 'शांघाय', 'रिडींग', 'टांकसाळ', 'नावकर', 'पडल्याप्रमाणेच', 'जफरसारखे', 'विषयावर', 'स्वरूपातही', 'लिलीपेक्षाही', 'धर्मियांची', 'रशियन', 'फरिदाबाद', 'मेझा', 'सावली', 'नसीर', 'मुलाचं', 'स्टेशनमध्ये', 'पोटातील', 'संकेतस्थळावर', 'डाकघर', 'ब्राऊन', 'पाहूयात', 'वर्मा', 'रुझार', 'बुद्धांनी', 'सहाराच्या', 'साज', 'पाठवणे', 'उभेच', 'दशरथ', 'रेनकोट', 'सौजन्य', 'गेल्याचा', 'महिलांविरोधी', 'बांधकामासंबंधीचा', 'विणलेल्या', 'स्नो', 'पेशवेपद', 'किरणोत्सर्गी', 'मौजेकडून', 'स्पॅम', 'फास्टनर्स', 'पद्धतीमुळे', 'माचीकडे', 'बॉब', 'झळकत', 'अफगाणिस्तानच्या', 'लिंक्स', 'महालका', 'मंगळयान', 'पिट्सबर्ग', 'मादागास्कर', 'तेराव्या', 'हँडसेट', 'टकरायेगा', 'पामर', 'चकाकणाऱया', 'झुलू', 'शेनॉय', 'चक्काजाम', 'सिनेक्षेत्रामध्ये', 'सुदान', 'सोशल', 'तोंडावर', 'लावणाऱ्यांविरोधात', 'चालूं', 'जिंकणार', 'वकिलास', 'मेहुण्या', 'दसरा', 'सप्टेंबर', 'हॉलंड', 'नागोजी', 'चाळीसचे', 'ब्रिस्टॉल', 'यावेळेलासुद्धा', 'पाकिस्तान', 'सोडवले', 'स्टरलाईट', 'सभासदांना', 'ईलॅन', 'संस्काराचा', 'शिकवण्यासाठीदेखील', 'होती़', 'व्हॉल्वमध्ये', 'इयुलेस', 'प्रयोगातील', 'कागदपत्रांच्या', 'टिमकेन', 'हाऊसचे', 'व्यवस्थेबद्दलच्या', 'लिमा', 'लागतो', 'सोलापूर', 'गुलाबाची', 'अटलांटिकमध्ये', 'मागासवर्गीय', 'बहुधा', 'चहात', 'वारसांना', 'चिंचेसह', 'कथकली', 'लॅम्ब', 'राष्ट्रीयकृत', 'चुकता', 'गुंडाबरोबर', 'गृहखात्यासारख्या', 'अधिनियमाच्या', 'स्पीड', 'धोरणांची', 'विवाहाखेरीज', 'कात्री', 'हगली', 'पराभवानंतर', 'म्यानमारच्या', 'झाबुआ', 'संभल', 'अध्यापनाची', 'रुग्णालयांमध्येही', 'सोमणशास्त्री', 'सर्वसामान्यांना', 'गर्दे', 'क्रमांकावरील', 'औद्योगिकरण', 'दुसऱ्याच', 'जलतत्वाला', 'क्रमांकावरील', 'ब्रिटानिया', 'तापमान', 'डोही', 'तडकाफडकी', 'रक्षणाची', 'रुसेल्स', 'प्रसादाची', 'कॉन्फरससाठी', 'निल', 'शालिमार', 'अजित', 'स्पॉर्न', 'दंगलीप्रमाणे', 'फाळणीच्या', 'ट्विटर', 'मिळवलेल्या', 'रणभूमीवर', 'काउन्सेलिंगच्या', 'मिकी', 'इवाते', 'टँकरने', 'सांत्वन', 'डेलीयन', 'आदी', 'विकण्याची', 'व्यवस्थेतील', 'राजुभाईकडे', 'खालावत', 'पोटाकडे', 'पाडल्या', 'पुराणमतवादी', 'तनख्यास', 'खलाशांनी', 'झुनहेबोटो', 'पाकिस्तान', 'वाचाल', 'जगणं', 'कारांमध्ये', 'वाटाणा', 'राजनांदगाव', 'सामन्यावर', 'मोरेस्बी', 'जवानांकडूनही', 'मिकी', 'यांच्यानंतर', 'ब्रिटनचे', 'श्रीरंग', 'लोकल', 'लावणाऱ्यांविरोधात', 'कराईकल', 'तुलनात्मक', 'मौल्यवान', 'धोरणावर', 'रॉक', 'ग्राहकांनातर', 'मास्टर्स', 'निमंत्रण', 'बारामुला', 'हेराल्ड', 'बन्सीलाल', 'स्वतःचीच', 'दिवट्यांना', 'विजयवाडा', 'अडवले', 'सहर्सा', 'बुद्धांनी', 'पायथ्याशी', 'त्रिकूट', 'मळमळ', 'भिजवून', 'रीस', 'नोव्हेंबरला', 'तंत्रज्ञानावर', 'सनी', 'ठिकाणांवर', 'व्हिडिओला', 'मेडीझेंसर', 'फळगळ', 'वर्गमित्र', 'ऑबेरॉयवर', 'पाठवी', 'शिरकुरमा', 'निधींचाही', 'हेडलबर्गसिट', 'महामार्गापर्यंतचा', 'देवस्थानच्या', 'उपचारादरम्यान', 'देवांगेरे', 'ऑस्टिन', 'मुदतीत', 'अधिकार्याने', 'रोस्तोव', 'संशोधकांसाठी', 'चेल्लानी', 'कशेळी', 'कॅल्युमेट', 'भाऊबीज', 'टाळणे', 'पवारांच्या', 'संदिल्य', 'अरुणा', 'सप्टेंबर', 'फ्लोरिन', 'खेळण्या', 'थंडावा', 'निवडणूकीसोबतच', 'विणलेल्या', 'नवीनच', 'खोटे', 'टेकचंदानी', 'प्रश्नच', 'रानविहिर', 'मोरेस्बी', 'उपाययोजनांसंदर्भातील', 'रशिया', 'तुकडीला', 'मार्गांनीदेखील', 'वर्षभरापूर्वी', 'किंग', 'मैदानात', 'शाळांतील', 'पोहचवण्यासाठी', 'बदक', 'भक्तांसाठीच्या', 'पॅरॅगोनियाच्या', 'इश्क', 'पृथ्वीचा', 'पास्को', 'टोपली', 'भुर्दंड', 'अधिकाऱयांऐवजी', 'प्रकरणांनाही', 'शाळांतील', 'निवडणुकी', 'बाळगून', 'बौध्दांमध्ये', 'अध्याय', 'बॉसमध्येच', 'हो', 'टॅक्सी', 'अल्पोपहार', 'पतीने', 'क्षेत्रापूरते', 'खनिजांच्या', 'बाळगून', 'पाखरा', 'शिक्षणातील', 'राष्ट्राविरोधात', 'साहेबी', 'थंडावा', 'चातुर्मासात', 'विकायला', 'चौरासिया', 'स्थायीभाव', 'झी', 'सॅन', 'निवडीने', 'भडकवेल', 'रुममध्ये', 'वाद्यांच्या', 'वरिष्ठ', 'वापरल्याने', 'मासेमारीवर', 'मुखर्जी', 'परांजपे', 'हिल्सबोरो', 'खेळाडूंमध्येदेखील', 'प्रबोधनाबरोबरच', 'नजरेतून', 'नकोसा', 'घेण्यादृष्टीने', 'पाकिस्तानी', 'अल्पसंख्याकांविरोधी', 'हँडसेट', 'उमेदवारांतर्फे', 'गमावली', 'कार्यप्रणालीबरोबरच', 'स्वराकृती', 'वॉकहार्ट', 'आंदोलनादरम्यान', 'त्याच्यांमध्ये', 'पिणाऱ्याचा', 'हिमालयाची', 'ट्रेसी', 'जेफ्री', 'ससे', 'बोलण्यातून', 'कोलकत्ता', 'जॉक', 'पतिपत्नींना', 'सुलतान', 'वेगच', 'टोळीच्या', 'टोकाचा', 'सझलोन', 'रक्षा', 'गाठावे', 'दुसऱ्यांमध्येही', 'रहिवाशांची', 'लाखापर्यंत', 'मिझोराम', 'जैन', 'देवस्थाने', 'मिश्रा', 'चक्र', 'प्रवरानगर', 'वृक्षलावण्याच्या', 'शेतकऱयांच्याबरोबर', 'बाराव्या', 'आयोवा', 'पानतावणे', 'वृक्षलावण्याच्या', 'महाराष्ट्रीय', 'पॉवर्स', 'लढल्या', 'पाथडी', 'पावलावर', 'त्यांच्यापासूनच', 'सबटायटलं', 'डोब्रियालची', 'प्रवण', 'थाउजंड', 'गेहलोत', 'सुदान', 'सेरानो', 'सूर्योदयाची', 'चित्रांमुळे', 'इस्त्राचे', 'ऐहिक', 'भक्तांसाठीच्या', 'वर्तमानपत्र', 'तापमानापेक्षा', 'शोकिन', 'यासारख्यांच्या', 'सेटर्थवेटने', 'रक्षाबंधन', 'भोगिले', 'अधिकारांमध्येही', 'लोकलने', 'गुंतवणूकदारांसमोर', 'शर्ट', 'ग्वाल्हेर', 'खटल्याच्या', 'वर्षांसाठी', 'जोशीकाकांनी', 'क्षेत्रापूरते', 'विहार', 'म्हणणाऱ्यांचा', 'झाल्यानंतर', 'शिक्षणाचे', 'नहान', 'दत्तदिगंबरास', 'त्रयी', 'दोघांचीही', 'डंकनव्हील', 'ट्रकच्या', 'बॉक्सर', 'जनावरांच्या', 'म्यानमार', 'कुन', 'तुझी', 'शॉरलाईन', 'अंगारकी', 'बांकी', 'बुद्धांचा', 'बप्ल', 'जिजझ', 'समाजव्यवस्थेमुळे', 'नांदुरी', 'दास', 'अध्यापनाची', 'मालदीवच्या', 'वर्तमानपत्रातून', 'जोहरी', 'पुजली', 'झिन्हाई', 'संकटाच्या', 'किनाऱ्यावरील', 'पाकिस्तानमध्ये', 'मध्य', 'समजण्यातच', 'शिमला', 'रांगोळ्या', 'तुकडीचे', 'वाटवे', 'बडगा', 'गोदाबाई', 'अत्यवस्थ', 'डॉल्बी', 'आंदोलनकर्त्यांनी', 'मातोश्रीसारख्या', 'खंबीर', 'मराठीत', 'कात्री', 'अभियान', 'मिशेल', 'कार्यकर्त्यांनी', 'दर्शवून', 'डिप्रेस्ड', 'ग्रोथ', 'इलकॉन', 'लॅम', 'कॉटन', 'राहिल्या', 'बुलिंगचे', 'स्वाक्षरीदेखील', 'वर्षभरापूर्वी', 'नेवर्क', 'इंडेक्स', 'आरोपींविषयीची', 'रेसिडेंट', 'कावीळ', 'शोधू', 'प्रोफेशनची', 'केशवानी', 'विचारता', 'शेपर्ड', 'शिरपुंजे', 'यांच्याकडूनही', 'पसरवत', 'जखडणे', 'मंडळांमध्ये', 'गुंतवणूकीसंदर्भात', 'चिंचवड', 'नष्टः', 'र्हास', 'आजारात', 'किनार्यांप्रमाणे', 'विजयवाडा', 'जनावरांसाठी', 'सामग्रीचा', 'प्रसारमाध्यमाचा', 'बाळेश्वराचे', 'गांधीमाठी', 'भूकंपाचे', 'मुक्ति', 'निम्म्याहून', 'रया', 'म्हंटले', 'भुईंज', 'दोषींचे', 'तळावरून', 'बाईंनी', 'कार्यालयातील', 'क्रेग', 'सूर्योदयापासून', 'रंगनाथ', 'पापी', 'दाबली', 'ऐच्छिक', 'नाश्ता', 'बांकुरा', 'टर्बाईन', 'मुलावर', 'सुजन', 'चंद', 'प्राधान्याने', 'पाहूयात', 'रेमंड', 'बालाघाटाच्या', 'स्पार्टनबर्ग', 'राष्ट्रपतींना', 'करुया', 'भवनातील', 'बाबुराव', 'ऍसिडस्', 'दोघांनीही', 'शाखाधिकार्याविरुद्ध', 'आगरें', 'दलातील', 'खंडेलवाल', 'किंमतीची', 'मोरे', 'मालदीव', 'म्हाडाने', 'पसरवणाऱयांवर', 'भिजवून', 'अमरापूरकर', 'आम्लपित्ताचे', 'घरच्यांनी', 'उलगडून', 'लोककलेच्या', 'हिंटन', 'डलेस', 'चिपळूणकर', 'तंत्रज्ञानाचे', 'श्रीकृष्णाच्या', 'लिऍन्ड्रॉ', 'फर्नांडिस', 'प्रदेशातच', 'अग्रवाल', 'पेरी', 'खोबणी', 'फार्मास्युटिकल्स', 'ब्लु', 'झेलबाद', 'पडतं', 'कॅमेरे', 'पोफळी', 'अर्थव्यवहारांच्या', 'ज्ञानियाने', 'च्यानंतर', 'तरुणीने', 'वापरावर', 'शुटआऊट', 'द्वारपाल', 'महाराष्ट्रासाठी', 'नाक्यावर', 'व्यवस्थेविरोधात', 'जाणीवा', 'जगण्याशी', 'येणाऱ्याच्या', 'भेटीसाठी', 'शिलाँग', 'केली', 'परिहार', 'आझमगड', 'तलवार', 'प्रांताला', 'भेटणे', 'गुंतवणुकीबाबतची', 'पाकिस्तानातील', 'शतपावली', 'वाईतील', 'आयोवा', 'विझून', 'सोई', 'वाढवण्यासाठीही', 'भिवंडीत', 'इंग्रजाचे', 'बसतील', 'टिनप्लेट', 'अँडरसन', 'मार्गारिटा', 'कचेरीच्या', 'खटल्यातील', 'अधिकाऱयांऐवजी', 'संबंधांची', 'फॉडलर', 'असली', 'युनूस', 'डेंटल', 'जोशीकाकांनी', 'मोरही', 'भक्तिभाव', 'अत्यवस्थ', 'बांधावी', 'उन्माद', 'नाहीसा', 'समाचार', 'भूकंप', 'बावणे', 'श्रध्दांजली', 'आश्वासने', 'जनावरास', 'बेथलहेम', 'शस्त्रक्रियेच्या', 'असिफ', 'सिंघ', 'विषयावरची', 'टोलनाक्यावर', 'चितोडगड', 'व्यायामप्रकार', 'कालवा', 'परफेक्ट', 'सौजन्य', 'दुश्मन', 'अपहरणाचा', 'रोजा', 'महिन्यांनंतर', 'डलेस', 'धर्मचरणाच्या', 'प्रयोगासाठी', 'उभयतांनी', 'परतने', 'गरजेतून', 'याप्रकारचे', 'करावीत', 'जोडण्यामुळे', 'मयूर', 'हॅमंड', 'चौरासीया', 'संशोधकांनी', 'लावणाऱ्यांविरोधात', 'वाटाणा', 'आंध्र', 'तप्त', 'रोनोक', 'डॉनाल्डसन', 'जागीच', 'भाजपविरोधी', 'असणाऱ्यांसाठीही', 'चिकटून', 'जोली', 'सहकार्याने', 'पोहण्यासाठी', 'प्रकरणांमध्येही', 'मूर्ख', 'गृहराज्यमंत्री', 'झाबुआ', 'जिजझ', 'सोपस्कार', 'सिंधुदुर्गनगरी', 'रणभूमीवर', 'ग्राहकांची', 'वेगळीच', 'रिडींग', 'खर्चही', 'ययाति', 'नागली', 'बांदा', 'स्वातंत्र्यासाठीच्या', 'मडाला', 'फेरो', 'फकिरा', 'मेक', 'म्लेच्छाने', 'व्यवस्थापनातील', 'बोभाटा', 'लावल्यानंतर', 'केंद्रापर्यंतच्या', 'असण्याइतकं', 'शर्ट', 'जुवाठी', 'मराठीत', 'राजस्थानातून', 'याप्रकारचे', 'सौरऊर्जे', 'महारुद्रा', 'सगळ्यावरून', 'इसेन्स', 'मूर्च्छा', 'दाखविले', 'प्रक्रियेशी', 'अनुयायी', 'खरेदीवर', 'समन्वयातही', 'लेखाचे', 'विचारधारेचे', 'नारायणरावांस', 'सर्पदंशाचं', 'श्रध्दांजली', 'पुरीच्या', 'इंग्रजांना', 'व्हॅसिनेशन', 'असलेल्या', 'शुद्घ', 'आजारामध्ये', 'वरिष्ठांकडे', 'वीटा', 'शहराप्रमाणे', 'इटारसी', 'आवारेनं', 'उर्दू', 'प्रक्रियेत', 'जास्तीचा', 'बुऱ्हाणपूर', 'एलिझाबेथ', 'चिकाटी', 'साहित्यदेखिल', 'उपयोगांसाठी', 'देवस्थाने', 'ईलॅन', 'मारणा', 'फेक', 'मंदिरी', 'येणार्यांच्या', 'पार्लमेंटाचा', 'ठेपला', 'नेमकं', 'पुलाजवळ', 'इन्स्टिटयूट', 'कुतूहल', 'कलेकलेने', 'मेट्स', 'गोपाला', 'देवस्थानची', 'ऊसतोडणी', 'सत्यमेव', 'मास्टर', 'हिमाद्री', 'वेंगुर्ला', 'ट्रकवर', 'खंडणीसाठी', 'डळमळीत', 'व्हर्नन', 'देशांकडूनही', 'पटेल', 'ग्राहकांनातर', 'अधिकाऱयांऐवजी', 'लाटेत', 'उद्घाटकपद', 'नेक्टर', 'भूकंपप्रवण', 'चतूःऋगी', 'पाळीत', 'विधेयकांबद्दल', 'खुरटली', 'मित्रपक्षांकडूनही', 'सुवर्णकमळ', 'दंडाधिकारी', 'सोन्याच्याच', 'प्रकारातून', 'प्रोटेस्टन्ट', 'बांबूना', 'टीप', 'हॉलंड', 'बलक', 'बिन', 'बसते', 'सरहद्द', 'मार्तंडराव', 'जुलैपासून', 'जो', 'सोमेनी', 'उत्सवात', 'व्यवस्थापनाने', 'रवी', 'ब्रिटनच्या', 'ट्युब्स', 'वाल्मिकी', 'आजोबांची', 'क्रॅश', 'ऐकावे', 'मजुरांवर', 'जालोर', 'सासूबाई', 'हुकले', 'बँकांना', 'रेव्हरंड', 'ब्राह्मणाला', 'अक्रोन', 'असावी', 'मराठीतले', 'चौकार', 'युनूस', 'पुणतांबा', 'रूनी', 'ठेवण्यासंदर्भातही', 'पुनर्भरण', 'क्रूरपणा', 'महपालिकेची', 'रसेल', 'ग्रोव', 'पहाण्यास', 'करणाऱ्यांवर', 'लिहावा', 'सिकरवार', 'पाठबळावर', 'पोहचवण्याकरीता', 'इसेन्स', 'चेयेने', 'राबवने', 'दत्त', 'विषाणूच्या', 'विजयवाड्याकडील', 'पोलीसांनी', 'अँसवेडो', 'अनुयायी', 'शरीरविज्ञानाचा', 'मूर्खपणा', 'सेमेन्टेशम', 'शतकभरापूर्वीपर्यंत', 'आर्सेनल', 'शिवरामपंत', 'ग्रीअर', 'शिकवणी', 'व्यवस्थेविरोधात', 'इस्राईल', 'पहलवान', 'अलोक', 'नाश्ता', 'ओसवाल', 'हरी', 'धनिक', 'अहमद', 'दुचाकीवरून', 'प्रायोजकत्व', 'हीची', 'नगररचना', 'वयात', 'नियमांना', 'दूषणे', 'ठरावाला', 'कार्यालयावर', 'मुख्यमंत्रीपदासाठीच', 'व्हिटेकर', 'अल्पोपहार', 'टोप्या', 'प्रशासनात', 'धरणांमध्ये', 'अवकळा', 'फिट्झेराल्ड', 'प्रशिक्षकाविरूद्ध', 'जमणे', 'कलाकृतीलादेखील', 'संबंधातून', 'साकेत', 'झिन्हाई', 'मातेचा', 'ऍथलेटिक्स', 'हॉलीवूडमधून', 'र्हास', 'अली', 'कोणकोणत्या', 'पोहोचविणाऱ्या', 'जनमानसावर', 'ब्रेंटवुड', 'नाईकांच्या', 'डब्ल्यू', 'सोनार', 'साळुंकी', 'निवडतात', 'येजा', 'बसेल', 'करतें', 'वर्षांनंतर', 'शेरदिल', 'मेहुण्या', 'जनावराच्या', 'सोमणशास्त्री', 'महपालिकेची', 'कडवी', 'ताशा', 'व्यवस्थेसारखा', 'भिलाई', 'गराच्या', 'महंमद', 'नाशिक', 'व्यवस्थेबद्दलच्या', 'मोजकेच', 'बलाढय़', 'आगळावेगळा', 'वस्तूच्या', 'विषयावरची', 'घटस्थापना', 'घुंगरू', 'शेतकऱ्यांनी', 'ओव्हरवेळी', 'ससंका', 'टॉड', 'अंकुर', 'सभासदांचे', 'उलटसुलट', 'जन्माचेही', 'नितीशकुमार', 'राष्ट्रासंदर्भात', 'मार्गांनीदेखील', 'बनलं', 'राष्ट्रिय', 'पावला', 'राहता', 'फीड', 'विहारी', 'काठमांडू', 'चुरमुऱ्याच्या', 'संस्थळावरील', 'फेरो', 'नॉक्सविले', 'फतेह', 'धीराई', 'ध्वजदंडाकडे', 'लिंक्स', 'वडिलांखेरीज', 'वालचंदनगर', 'विजयवाडा', 'स्वतःचीच', 'डब्लिन', 'तिरुअनंतपुरम', 'ब्लड', 'रेसिडेंट', 'चिखलफेक', 'प्रतिनिधीमंडळाच्या', 'परदेशातील', 'कृत्यानंतरही', 'घासतात', 'गौरव', 'झुलू', 'गमावले', 'तंत्रज्ञानामागचा', 'प्रयोगासाठी', 'पैशांसाठी', 'फ्रॅचायजी', 'मायबोलीकरांकडे', 'पवार', 'व्यवस्थीत', 'शेतकऱ्यासाठी', 'देहरी', 'अल्पसंख्याकांचे', 'व्हिएटनाम', 'त्रिसंध्यं', 'थंडीने', 'महायुतीच्या', 'हिरोपनती', 'भेटीच्या', 'चुरमुऱ्याच्या', 'नोंदविण्यासाठीही', 'भागलपूर', 'फिन्निश', 'ऑलिम्पिक', 'किडींची', 'प्रांतातून', 'वाद्यांचा', 'ताटे', 'सोप', 'धीराई', 'प्रयोगानंतर', 'बेडर', 'पार्श्वभूमीवर', 'विद्यार्थिनीला', 'कातवणकडे', 'शरीरविज्ञानाचा', 'प्रशासनावर', 'वळवण्यात', 'व्यक्तींच्याही', 'ताडमेटलाच्या', 'एटीज', 'चिलीम', 'हमीरपूर', 'गरात', 'पोटात', 'वृंदावनामध्ये', 'शिलाँग', 'प्रज्ञासारख्या', 'पर्सनल', 'मैदानाचा', 'संघाशी', 'श्रीवास्तव', 'अगदी', 'मॅथ्यूस', 'आळवून', 'आग्रहारी', 'दाखवणारी', 'हरि', 'दहशतवाद्यासारखे', 'ट्विटर', 'अशाही', 'याचिकेवरील', 'राहतं', 'ऑलिम्पिक', 'बास', 'विषाणूमुळे', 'पर्यावरणवादी', 'मिलियन', 'हसवाफसवी', 'कॅनन्', 'फार्मर', 'गुडइयर', 'वाकून', 'कलाटणी', 'आतषबाजी', 'सामारिक', 'हायवेवर', 'अलेम्बिक', 'वाधवान', 'खात्याचा', 'सोफावर', 'पडल्याप्रमाणेच', 'जोस', 'तोटयाने', 'कार्सोन', 'पिंडदान', 'अनियमिततेप्रकरणी', 'हायलँड', 'जेथे', 'झोपडपट्टीसारख्या', 'ग्रॅविटा', 'पुष्कर', 'चहात', 'मल्हाररावांनी', 'मारुती', 'मिळविणाऱ्यांच्या', 'शांघाय', 'हल्ल्यांमध्येही', 'मंगळागौरी', 'पाठपिशवीत', 'उपग्रहाची', 'व्हीलर', 'जौनपूर', 'बीटल', 'वाटपाचा', 'मुलुख', 'लवादाने', 'शाडूच्या', 'प्लिझंट', 'गोदी', 'केसी', 'विलास', 'आठवणीमुळे', 'यांपासून', 'पृथ्वीचे', 'अर्वाडा', 'क्वांटम', 'टेरी', 'डॅडसन', 'देवीला', 'नेपोलियनच्या', 'डॉल्बी', 'पिंपळसला', 'भिजली', 'पाकिस्तानात', 'कलिका', 'बर्विन', 'धडपडत', 'विरंगुळा', 'स्वारीत', 'ट्रेसी', 'तारांबळ', 'कुलदीप', 'बदामी', 'शेल', 'अर्थकारणालाच', 'लाचार', 'हो', 'सरावलेलो', 'विकासकामे', 'मिलियन', 'शेरेबाजी', 'तापसणीवरील', 'काळापासून', 'टीप', 'मुनी', 'सॅन', 'देवस्थानाच्या', 'कॉर्प', 'स्वराकृती', 'ठेवायचं', 'पर्व', 'फिन्निश', 'चाललाय', 'सुल्तान', 'गादीवरुन', 'भोलपूर', 'इरोड', 'ऍनम', 'ठाकरेंचे', 'फुझिओ', 'बेलसरे', 'कमांड', 'सुरतला', 'अशाही', 'कायद्या', 'राझा', 'सरकारमधील', 'एडमंटन', 'निवडीने', 'कारवाईसाठी', 'मूर्च्छा', 'लव्ह', 'खंभाट', 'प्रवेशासाठी', 'गुंतवणुकींमध्ये', 'शेतकऱ्यांच्याबाबत', 'डुंगरपूर', 'सिग्मंड', 'म्लेच्छाने', 'बेकर', 'चिनी', 'अंदमान', 'करणाऱ्यांविरुद्ध', 'बन्सीलाल', 'क्वाद्रोज', 'गोतिपुआ', 'कार्यसंस्कृतीबद्दल', 'डिझाइन', 'मेंदूच्या', 'वापराने', 'आहारात', 'नसतं', 'विज्ञानात', 'पावनखिंडीची', 'साहसकथा', 'अस्तित्व', 'आजारांनी', 'भाषणाचा', 'दारिद्र्याच्या', 'मंडळाधिकार्', 'मुलाखतीही', 'शेतमालाची', 'आत्मदृष्टीचे', 'देवस्थानची', 'निर्णयही', 'म्हाइंभटांनी', 'विलिंग्टन', 'कोटींवर', 'प्रणालींमध्येही', 'स्वराज', 'बारावीचा', 'संरक्षणावरची', 'माहेसाना', 'स्विंग', 'हाऊसफुल', 'पत्रही', 'पूर्वतयारी', 'कानी', 'रिका', 'बसगाड्यांमध्ये', 'एसेन', 'ईश्वरीय', 'काळ्यापर्यंत', 'राष्ट्रपुरूषांचे', 'स्विफ्ट', 'फार्मास्युटिकल', 'प्रेमळपणा', 'भाविकांनी', 'काँनर', 'मुदतीच्या', 'नेहमीपेक्षा', 'कदर', 'राळेगाव', 'फुलपाखराला', 'टेरी', 'आरोग्यव्यवस्थेवरचा', 'सुलतान', 'पंतप्रधानपदासाठी', 'छापेमारी', 'यादीतून', 'संघटीत', 'वधूच्या', 'ओडिशा', 'फिन्निश', 'चढवणे', 'वर्तमानपत्रात', 'चाललाय', 'कसोटीच्या', 'सुताचे', 'खिळे', 'द्वेश', 'स्वीप', 'असिजा', 'टेंभुर्णी', 'कृपाप्रसादाने', 'कालव्यांमध्ये', 'भरल्यानंतरसुद्धा', 'सर्वांगाने', 'सरपंच', 'खेळायचा', 'राजनाथ', 'इओनोस्फिअर', 'भावहि', 'भणगे', 'काठमांडू', 'ऑलिम्पिक', 'अंटार्क्टिक', 'फीड', 'वर्षव', 'हावळण्णाचे', 'आप्पापाडाच्या', 'बेल्जियम', 'दळवी', 'सिदामो', 'चंबा', 'मासियस', 'बेल्जियमच्या', 'बनणार', 'केटरिंग', 'नामदारांच्या', 'अमानत', 'ताजा', 'हार्मोनियम', 'सॅन', 'डाळिंबाचा', 'कांछाल', 'मासेमारीच्या', 'देताना', 'काँक्रिट', 'वेल्डिंग', 'क्रॅस्टन', 'तातडीनं', 'ग्रीनफिल्ड', 'विक्रेता', 'लिंच', 'कोटीपेक्षा', 'थॉमस', 'प्रूडेंशल', 'तारखेच्या', 'झोपडपट्टय़ांमुळे', 'हाऊसच्या', 'बोलण्यावर', 'लक्षणांमध्ये', 'भक्तांसाठीच्या', 'वाहनचालकांसाठी', 'बोइझ', 'ताशा', 'दाखविलेला', 'ब्रंच', 'रिक्त', 'रॅडीको', 'म्हणालेत', 'बिमल', 'औरंगाबादमध्ये', 'दरम्यान', 'भयभीत', 'शिकागो', 'वेळानंतर', 'सोडवले', 'ब्लड', 'मेक्सिकन', 'अफगाणिस्तानमध्ये', 'उमेश', 'क्लेअर', 'कार्लो', 'दर्जा', 'घडतं', 'गोठविलेल्या', 'हिमतसिंगका', 'गिअर्स', 'बघणे', 'रसायन', 'हद्दीतून', 'पुण्यासंदर्भात', 'तुलनात्मक', 'बेटी', 'सशर्त', 'समिति', 'व्यवसायिक', 'संसार', 'भोजपुर', 'फ्लाइन', 'विषयावरची', 'पटल्यानेच', 'तंत्रज्ञानाचा', 'कोक', 'धामणे', 'रसिकांची', 'चांदीच्या', 'वेड', 'बाणकोट', 'चित्रांमुळे', 'पानांद्वारे', 'झाबुआ', 'तसदी', 'ओवाळणी', 'पोस्टल', 'ओळखीच्या', 'फास्टट्रॅक', 'पोर्तुगीजांनी', 'रूनी', 'रंगवलेल्या', 'देशभक्तीसाठी', 'तज्ञांचे', 'हे', 'मुख्यमंत्रीपदासाठीच', 'करविली', 'कसनिया', 'पाठवीत', 'झोपडपट्टय़ांमध्ये', 'अपोल', 'ध्वजदंडाकडे', 'वृत्तवाहिनीशी', 'लँड', 'भरल्यानंतर', 'दमन', 'पेंटर', 'अंजनावीरा', 'ब्रेक', 'बनविण्यासंदर्भातील', 'रेतनामध्ये', 'बला', 'अश्रफ', 'इच्छुकांच्या', 'यादृष्टीने', 'गर्भधारणेदरम्यान', 'कचऱ्याच्या', 'मिलियन', 'ह्यांच्यापुढे', 'तबकडी', 'बारावीचा', 'समाधीवरच्या', 'भोकरे', 'पितळी', 'बावलान', 'असावेत', 'दारिद्र्याच्या', 'पद्दुचेरी', 'कोपऱ्यांमध्ये', 'सांगलीकरांकडे', 'जंक्शन', 'लंपासच्या', 'वाजल्यापासून', 'साधनेतील', 'संस्थेशी', 'नोंदणीसारखी', 'कांटच्या', 'प्रत्यार्पणासाठीच्या', 'समरविले', 'राबवने', 'उपयोगात', 'ग्रहांची', 'मॅरॅथॉन', 'वेिल्डगचे', 'वस्तूच्या', 'सायकलोत्सव', 'पेन्नर', 'इमरान', 'मॅक्लेन', 'दफ़न', 'वैशिष्टय़ांप्रमाणे', 'कठिण', 'स्कीपर', 'फुलपाखरांच्या', 'विचारतो', 'चोरट्यावर', 'दादरा', 'अदानींच्या', 'स्वीकृत', 'अवयवांचे', 'इच्छिणाऱयांसाठी', 'सबेक्स', 'शतकभरापूर्वीपर्यंत', 'एडाप्टर', 'जीवनसत्त्वांच्या', 'नुसतीच', 'चक्री', 'तिरुनेलवेली', 'किडींचे', 'कुर्हाड', 'कुल्लू', 'प्रबोधनकार', 'पोटामध्ये', 'सरूप', 'किर्क', 'वाम', 'अवयवयुक्त', 'जागरागल्लू', 'ग्रूपचे', 'देकाब', 'रुग्णालयांमध्येही', 'कायदा', 'आवृत्तीत', 'मास्टर्स', 'निवडणुकांपर्यंतच', 'कोष', 'अमान', 'चालणा', 'घटनाही', 'नक्षीदार', 'चक्रात', 'शेखर', 'पाशा', 'धरल्याने', 'बंगालपाठोपाठ', 'श्रुती', 'रूपये', 'फवारणी', 'ज्येष्ठः', 'शिपिंग', 'ट्विटर', 'भूकंपप्रवण', 'सोहळ्यांप्रमाणे', 'उपग्रहाचे', 'प्रतिनिधीमंडळाच्या', 'चौपाटीवर', 'फुलरटन', 'इंडस्ट्रीज', 'शबरी', 'डल्लास', 'कोटींवर', 'साफसफाई', 'शिवमंदिरांमध्ये', 'चेहऱ्यामुळे', 'प्रशासन', 'नेरोलॅक', 'ऑचोआ', 'जो', 'जुलैपासून', 'आळवून', 'जुगाराचा', 'रूनी', 'दुसरं', 'दुसऱ्यांमध्येही', 'रुद्रावतार', 'हनीवेल', 'घटस्फोटाबरोबरच', 'नागांना', 'ऑरटिझ', 'धरणावरील', 'पेंटर', 'वधूच्या', 'विझवण्यासाठी', 'लॉयर', 'पॉटर', 'चतुर्थात', 'प्रदीप', 'कर्मसंग्रह', 'मराठीतले', 'मिळविणाऱ्यांच्या', 'रशियन', 'जालियनवाला', 'विकासविरोधात', 'उतारे', 'वनौषधी', 'उमेदवारांसंदर्भातील', 'पेंटर', 'प्रत्यार्पणासाठीच्या', 'मॅडन', 'भेटीत', 'उटणे', 'बाभळगाव', 'शहाजहानपूर', 'ब्रिटनमधील', 'मीटरच्या', 'पुंदिर', 'ठरविण्यापर्यंतच्या', 'जवळकर', 'पारंपारिक', 'मंदिराविषयीच्या', 'संबंध', 'प्रतिष्ठान', 'तुझी', 'भवानीचा', 'माचीच्या', 'प्रतिनिधीमंडळाच्या', 'क्वीन्सलँडचा', 'पाकिस्तानमधील', 'वर्तमानपत्रातील', 'संरक्षणमंत्र्यांकडून', 'पहाण्यासाठी', 'होमहवन', 'पायथ्यापासून', 'संपवून', 'पदके', 'व्याख्या', 'उत्तरकाशी', 'तेलकट', 'राजन', 'वाढवण्यासाठीही', 'पोर्तुगीजांचा', 'परिस्थितीची', 'कार्यप्रणालीबरोबरच', 'सुदान', 'तेवारी', 'खेळण्याच्या', 'नेगी', 'बामह', 'सर्वेक्षणातून', 'बादशहाच्या', 'जासिंटो', 'वर्षभराच्या', 'बुद्धांच्या', 'कायद्यांचे', 'दुसऱ्याने', 'तापमान', 'बसावा', 'पदं', 'रेकॉर्डींगचा', 'शर्ट', 'जॉक', 'श्रीकृष्णाच्या', 'टाळू', 'शिवरामपंत', 'विषयीची', 'विचारवंतांमध्येही', 'धावणार', 'बिएसेनेल', 'अवयवयुक्त', 'पाहुण्यांनी', 'बडोदेकर', 'तिलांजली', 'धमकीही', 'खरंखुरं', 'सालस', 'आवृत्तीचे', 'प्रपंच', 'लँकेस्टर', 'पुणतांबा', 'श्रीगणेशा', 'विश्वामध्ये', 'बोर्डाने', 'आणलं', 'अहलूवालिया', 'भुज', 'आजमविण्यासाठी', 'बॉक्सर', 'कारवाईसाठी', 'हेंड्रिक्स', 'सप्टेंबर', 'महास्फोट', 'रोहिले', 'मौर्य', 'सरकारच', 'लिंक्स', 'बार्क', 'लांबणीवर', 'गाशा', 'उत्तरीय', 'याचिकेवरील', 'वक्तव्यावर', 'अल्पावधीत', 'सिक्वेन्ट', 'त्याने', 'पवारांना', 'राधिकावरील', 'वास्तु', 'शेतकऱ्यांचेही', 'जेट्टीमुळे', 'अंदाजही', 'टिकवता', 'मागण्यांसाठी', 'रार्ष्टीय', 'कोरिया', 'तासभर', 'फर्ग्युसन', 'नवेजुने', 'नगरसेवकांचा', 'उत्तरही', 'प्रवेशद्वारापूर्वी', 'फायट्टेविले', 'असं', 'सुनावला', 'स्टायरॉल्युशन', 'अर्बन', 'हरवला', 'खर्चाला', 'उमेश', 'तेवढ्याही', 'ठेवण्याने', 'वाटपाचा', 'तेवढ्याही', 'ले', 'मज्जाव', 'रॅबीपूर', 'टेरी', 'क्रॉसबी', 'गरजेपेक्षा', 'ब्रिग्स', 'रोहतक', 'दर्शवून', 'चांदीने', 'नाणेघाट', 'आठवल्यांच्या', 'सहाही', 'सामग्रीचा', 'टेरी', 'सखल', 'विझवण्यासाठी', 'अमरापूरकर', 'दुरुस्तीसाठी', 'असहाय', 'करंदीकर', 'रणभूमीवर', 'मास्टर', 'हरी', 'मंदिरांत', 'खुनी', 'टोफू', 'शिक्षणात', 'येणार्यांच्या', 'किंमतीची', 'जोली', 'मलाया', 'विरोधकांची', 'नारायणरावांस', 'परदेशातील', 'इच्छिणाऱ्या', 'बेरोजगारांमध्ये', 'सुट्टीमध्ये', 'फतेह', 'आजारांसाठी', 'पापी', 'प्रणालीच्या', 'घोटाळ्याप्रकरणी', 'कैसर', 'तोडण्याची', 'प्रतिष्ठानचे', 'केशरी', 'चक्री', 'प्रशिक्षकाविरूद्ध', 'पोर्टरविले', 'पराभव', 'शिक्षणाबरोबरच', 'टाकते', 'भद्रकाली', 'डोंबिवलीच्या', 'येणाऱ्याच्या', 'दिपमाळ', 'आंबेजोगाईचे', 'जोहरी', 'जेन्ट्री', 'हैदरअलीशी', 'काढणाऱयांसाठी', 'सुट्टीमध्ये', 'दिवाळीदेखील', 'सोहळ्याविषयीची', 'बेरी', 'एकमात्र', 'त्याना', 'मिळविणारी', 'तिबेरियस', 'विक्रमाची', 'शेल्टन', 'मेहुण्या', 'कुंभमेळ्याहून', 'समतोलाला', 'स्वानसन', 'योजनांचा', 'पोटामध्ये', 'तुंग', 'नागपूर', 'निर्णयानंतर', 'ग्वाल्हेर', 'भिवंडीत', 'शाखाधिकार्याविरुद्ध', 'मिकी', 'आर्टेमिस', 'खुलून', 'क्रम', 'सतर्क', 'भेदभाव', 'खिलाडी', 'उघडण्यासाठी', 'राजकारणामध्येदेखील', 'पाकिस्तानी', 'झाल्यानंतर', 'देवत्व', 'घात', 'बर्मा', 'सिएल', 'महागण्यासाठी', 'अँटिबायोटिक्सची', 'उत्पादनांमध्येही', 'पडत', 'सिक्युरिटीज', 'बाईंनी', 'भंडारा', 'समस्येचा', 'वरीलप्रमाणे', 'मुकूटबन', 'मुलांत', 'आर्टेमिस', 'बसेल', 'मास्टर', 'राजुरी', 'आवृत्तीचे', 'बांबूना', 'एरोनॉटिक्स', 'आवृत्तीत', 'राजापालयाम', 'मिलियन', 'दामोह', 'पाकिस्तान', 'तेंडुलकर', 'केंद्राकडे', 'दुसऱ्याचा', 'चालणा', 'नाईकांनी', 'कोटींवर', 'पसरवणाऱयांवर', 'बर्लिन', 'सुट्टीच्या', 'झाल्यानंतर', 'देवस्थानाच्या', 'उमेदवारांतर्फे', 'मुनी', 'बादशहाच्या', 'औषधांच्या', 'अवयवांचे', 'सप्लाय', 'वापरण्यासंदर्भातील', 'इंदापूर', 'वेल्स', 'सगळ्यावरून', 'नारायणरावांस', 'उलगडून', 'टेरेसा', 'शिक्षेचा', 'कोहिमा', 'काठमांडू', 'गोदाबाई', 'मेल', 'काटवटकणा', 'घराणेशाही', 'बोकारो', 'कासवांच्या', 'मौजेकडून', 'नकल', 'अजित', 'साकेत', 'देवीची', 'सावंगा', 'इच्छिणाऱ्यासाठी', 'डॉल्बी', 'हार्मोनियमवर', 'पद्धतीची', 'गर्दीची', 'सेंटेनिअल', 'शकणाऱ्या', 'बहरामपूर', 'लोकपरंपरा', 'टॅबलेट', 'पन्ना', 'विषाणूच्या', 'अंटार्क्टिक', 'बज', 'राष्ट्रवादीमध्ये', 'हाओकिप', 'डाळिंबाचा', 'तामिळनाडूत', 'प्रवृत्तीमुळे', 'गुंतवणूकदार', 'मोरे', 'सायप्रेस', 'रिशीराज', 'कोरिया', 'पॅरटफिश', 'डालमिया', 'डिसेंबरमध्ये', 'वाडावस्ती', 'अरुणकुमार', 'धामधूम', 'सायबर', 'लागवडीची', 'यास', 'सतरावे', 'विसर', 'लाल', 'उचलावीत', 'अधिकारक्षेत्रांचे', 'गूळ', 'पिलीभीत', 'न्युवैभवनगर', 'गुरुपौर्णिमेपर्यंत', 'अशिक्षित', 'जाण्यापासूनची', 'प्रेमळपणा', 'ओळखा', 'अधिकाऱ्यांची', 'कावड', 'तेवढं', 'लढे', 'व्याख्यानं', 'भूकंपानंतर', 'यंत्रणेनंही', 'इंग्लंडच्या', 'यंत्रणांनीही', 'पाकिस्तानातील', 'संस्थाध्यक्षानीचं', 'रिझवी', 'टेंभुर्णी', 'कालिम्पॉन्ग', 'किर्बी', 'चकवा', 'पाठपिशवीत', 'टोकाचे', 'सेकंद', 'जिजाबाईंना', 'चौकी', 'खुन', 'शहाळ्याचे', 'एअरलाईनची', 'धरणावरील', 'नीमच', 'ग्रोथ', 'कोठे', 'स्वीप', 'दिलीप', 'प्रज्ञासारख्या', 'हार्वे', 'वर्गास', 'जुवाठी', 'दाव्याप्रमाणं', 'अँडरसन', 'वापरातून', 'ऋषभ', 'फिन्निश', 'पोरबंदर', 'बेटी', 'कोच', 'धुळीचा', 'बिंदाल', 'मेल', 'दूतावास', 'घातलेल्या', 'आजाराला', 'गुन्ह्याप्रमाणे', 'धिंढवाल', 'युतीने', 'पंडितजी', 'कनक', 'गफूरला', 'तातडीची', 'शिरोमणी', 'गृहमंचाने', 'समितीमार्फत', 'गमतींचा', 'घातलेला', 'प्रमूख', 'पेप्सिकोची', 'कैसर', 'दावाही', 'चेष्टा', 'नात्यांचा', 'पेक', 'मॅन्सफिल्ड', 'तळ्याने', 'नोकर्या', 'एक्सचेंज', 'भल्ला', 'स्मिथ', 'चित्रपटसृष्टीवर', 'पडणाऱ्या', 'अवयव', 'भिडल्यानंतर', 'जॉक', 'राज्यभर', 'हटविण्यासाठीची', 'घातला', 'रावलानी', 'निघेल', 'नसत', 'साड्यांप्रमाणेच', 'अजित', 'बिंगमटन', 'पालकान्नी', 'पोटनिवडणुकीसाठीची', 'गेले', 'कायद्यांची', 'जातेय', 'यादृष्टीने', 'महायुतीच्या', 'शुक्ला', 'चढले', 'इंडस', 'भट्टाचार्य', 'विभागही', 'थांबण्याची', 'झुडपात', 'वर्ल्ड', 'प्रियदर्शनी', 'डिस्कनेक्ट', 'भुक्या', 'बादूर', 'रशिया', 'गडाखाली', 'कोसबाड', 'लोकाविरोधात', 'बल्लाळ', 'पाकिस्तान', 'लाल', 'गुलछडी', 'फॉस्टर', 'झालेत', 'स्वामीजींसारख्या', 'शांघाय', 'टेरी', 'निर्देशकांची', 'सिद्दीकी', 'शोएब', 'क्लबचेही', 'प्रमुखांमध्ये', 'ओशिवरा', 'टॅक्सी', 'इन्फ्राकन्स्ट्रक्शन', 'चक्रव्यूह', 'मेडिसन', 'मांडके', 'गेट्स', 'शेल', 'किंमतीची', 'शेतकऱ्यांमुळेच', 'गुडगाव', 'आजारांमध्ये', 'यॉर्क', 'यांच्यापासून', 'डेन्व्हर', 'मिरवणुकीस', 'ह्यांच्यातील', 'हिन्दू', 'आहाराकडे', 'पासाडेना', 'टाउनसेंड', 'शूटिंगच्यावेळीचा', 'लोकसभेत', 'म्हणणार', 'विरोधामागे', 'पाठविल्याचे', 'पोहण्यासाठी', 'जोडगोळीचा', 'ब्रिटनचे', 'पोम्पॅनो', 'वॅट्स', 'सिद्धांताची', 'मतदानासाठी', 'मॅकमोहन', 'विभागाची', 'टोरांस', 'सुवर्णमय', 'प्रवर्गातून', 'बढाई', 'पिट्सबर्ग', 'केचकमधे', 'रोव', 'तातडीनं', 'पाशा', 'गरुड', 'खरेदीदारांमध्ये', 'युकैपा', 'मेसा', 'युनूस', 'मेट', 'पार्श्वभूमीवर', 'वॉशिंग्टन', 'लाखीमपूर', 'ब्लड', 'कायद्या', 'संयोगाने', 'संघवी', 'पाकिस्तानचा', 'विरोधकांच्या', 'वेदना', 'शांघाय', 'रोझविले', 'आश्वासने', 'रुग्णावर', 'राष्ट्रपतींना', 'प्रत्येकासाठी', 'हिटलर', 'आरोपीचे', 'टॅक्सी', 'उभयतांनी', 'धर्मशास्त्राचे', 'इन्फीबिम', 'पडण्याची', 'खंडणीचा', 'मॅनेजमेंट', 'गणेशा', 'मोरेस्बी', 'खूपच', 'असूनसुद्धा', 'श्रीकृष्णाने', 'स्थित', 'नोकर्या', 'वेबसाइट्सविरोधात', 'वाचुन', 'हरवला', 'वर्षभरापासून', 'गादीवरुन', 'पर्यावरणवादी', 'चारी', 'चित्रपटसृष्टी', 'नाखूष', 'जैनचा', 'फीड', 'फिरकीपटू', 'ओव्हरटेक', 'चौधरी', 'टेरी', 'यांच्याकडून', 'चिकोपी', 'बुधकर', 'संशोधकांना', 'टेलीलिंक्स', 'शेतकऱ्यांनाही', 'नितंब', 'डावाची', 'वर्देस', 'अटसराई', 'सुस्वभावी', 'वर्णवाद्यांनी', 'करणाऱ्यांविरोधातही', 'मुंबईमध्येच', 'मॅकफेरसन', 'एक्सीसी', 'मणिपुरी', 'पाटणा', 'युरो', 'मंगळयान', 'भद्रकाली', 'इलेक्ट्रॉनिक्स', 'ययाति', 'ग्रीसमध्ये', 'शीट', 'घृष्णेश्वर', 'चित्रफीत', 'मेहनती', 'शांघाय', 'ज्येष्ठः', 'म्हणणं', 'अस्थायी', 'योजनेनुसार', 'व्हिस्टा', 'कुमारच्या', 'भिडल्यानंतर', 'जेफ्री', 'रिका', 'अपव्यय', 'सरसावली', 'श्रीशांतही', 'हातगाड्यावरुन', 'साधनेत', 'ट्रेनमधून', 'जीटीपीएल', 'जेट्टीमुळे', 'मंदिरांचा', 'बासमती', 'शिवसेनेतील', 'झारखंड', 'शांघाय', 'नगरचे', 'यांसंदर्भातील', 'नक्षीदार', 'पार्कर', 'दर्वाजा', 'प्रशासनाने', 'फाउंटनाच्या', 'ईश्वरीय', 'लायटॉन', 'पेपर्स', 'अंतर्वेदीतील', 'सिद्दी', 'सोपाऱ्यानंतर', 'अभूतपर्व', 'राहणाऱ्यांकडून', 'पावडरसारखी', 'रुफसने', 'संस्थळावरील', 'फाउंटनाच्या', 'सायन्समध्ये', 'कर्ली', 'ब्रिगेड', 'सजवा', 'प्रांताचा', 'साड्यांप्रमाणेच', 'गर्दीची', 'फ्रेन्डसवुड', 'वाईंड', 'आंबेजोगाईचे', 'विवेकी', 'असलेले', 'पोळीची', 'दुष्काळाची', 'लावण्यावर', 'शेतकऱ्यांमुळेच', 'बाचेगाव', 'रशिया', 'भूतकाळातील', 'बालकाची', 'मॅके', 'क्लार्क', 'उभारलेले', 'कैसर', 'थांबतील', 'रीड', 'रणथंबोर', 'परिक्षण', 'शेरेबाजी', 'खंबीर', 'द्वारपाल', 'सक्रीय', 'बर्न्स', 'उपयोगाचा', 'लोकाविरोधात', 'संतांसारख्या', 'कायद्याने', 'जोडप्याने', 'अल्युमिनियम', 'महानॉय', 'निवडणुकीवर', 'विशाखापट्टण', 'नियोजनभवनात', 'मासेमारीचे', 'उत्तरीय', 'स्थीत', 'टॅक्सी', 'चंदू', 'उत्पादनांकडे', 'प्रक्रियेशी', 'लोकानुनय', 'केबल्स', 'पालकान्नी', 'फेरो', 'तिवारी', 'संतोषींची', 'स्विफ्ट', 'सत्तेत', 'एनएमडीसी', 'हॉल्ट', 'घासासाठीही', 'पार्कर', 'अक्षम्य', 'ग्रे', 'बॉबी', 'मल्हारराव', 'लोहाटने', 'दर्शवला', 'इंडस', 'राळेगाव', 'डाळिंब', 'भिंगरी', 'प्रशासनावर', 'गुलछडी', 'काढुन', 'बसवर', 'श्रीकृष्णाच्या', 'बसतो', 'ह्यांनीच', 'ओशिवरा', 'बोलका', 'फाळणीचे', 'कासवांच्या', 'लोकसंख्यामध्ये', 'केर', 'दर्जाचे', 'पेगो', 'परंपरांची', 'उलगडले', 'विकण्याच्या', 'झपाटय़ाने', 'दृष्यंदेखील', 'रवींद', 'मर्च्युरी', 'राजकरणी', 'कुणावर', 'टॅबलेट', 'पाकिस्तानमधील', 'चंद्रपूर', 'साधनेत', 'शेतकऱ्यासाठी', 'नेहमी', 'महापुरुष', 'कोस्टा', 'गुंतवणूकदारांमधून', 'सिल्वा', 'मोहोर', 'रंगवलेले', 'पदभार', 'फिन्निश', 'नागरिकांसाठी', 'अध्यापनाच्या', 'तडफदार', 'बुडाऊन', 'नारायणरावांस', 'हीची', 'इसरानी', 'अस्तर', 'कार्यकर्त्यांचे', 'दुचाकीवरील', 'खेळायचा', 'कौतूक', 'आयोनियन', 'सलावत', 'फकिरा', 'अत्यवस्थ', 'सराईकेला', 'केम्ब्रिज', 'धरणांमध्ये', 'खालावत', 'जॉन्सन', 'दरम्यान', 'निकालाकडे', 'शर्यतीत', 'भूपृष्ठाखाली', 'शेतकऱ्यांच्याकडून', 'वर्तमानपत्रातून', 'भरविते', 'अल्पावधीतच', 'रसाळ', 'तानिया', 'फाळणीचे', 'मेस', 'कार्यालयात', 'हेराल्ड', 'अंटार्क्टिक', 'नेतेमंडळी', 'सिवान', 'भेटीवर', 'अतिशय', 'कार्यालयाने', 'स्वराकृती', 'आम्लपित्ताचे', 'नोव्हेंबरच्या', 'शाखाधिकार्याविरुद्ध', 'कॅस्ट्रो', 'पिणाऱ्यांविरोधात', 'अँडरसन', 'योजतात', 'मॅसे', 'पद्धतीस', 'अधिकार्यांसोबत', 'अँफल', 'पलंग', 'खाद्यपदार्थनिर्मिती', 'शशिधरन', 'एक्झिक्मयुटिव्ह', 'गृहखात्यासारख्या', 'मालाला', 'बॉक्सर', 'ऑलिम्पिक', 'उप्पल', 'अनभिषिक्त', 'वर्षांहून', 'देशातच', 'इंडस', 'हिटलरला', 'फोम', 'कायद्यास', 'शेफील्ड', 'गोंडर', 'हाओरा', 'पुतळ्याची', 'जालियनवाला', 'मंगळागौरी', 'शेतकऱयांना', 'नक्षलवाद', 'राखीव', 'रुजण्यापासून', 'लंग', 'मिळतोय', 'धुनी', 'ठरविलेल्या', 'जॉक', 'इच्छुक', 'कोरापूट', 'फ्लिंट', 'कमरहाती', 'मावा', 'ठेवण्याचे', 'प्रकारांसाठी', 'शांघाय', 'कृष्णा', 'जलविद्युत', 'कायमची', 'राष्ट्रधर्म', 'गमतीशीर', 'त्याविषयी', 'ट्रक्स', 'रुग्णवाहिका', 'तुकडीला', 'त्यांच्यापर्यंतच्या', 'अनुयायांचा', 'पोफळी', 'झिन्हाई', 'तळमजल्यावरच', 'तगडी', 'शेफील्ड', 'आयर्न', 'बकरी', 'परिवारासह', 'चित्रपटसृष्टीवर', 'शस्त्रक्रियेनंतर', 'पहाण्यासाठी', 'निवडतात', 'संपवले', 'प्रांतांतून', 'प्रक्रियेपासून', 'मुक्कामी', 'सांगलीकरांकडे', 'वर्गमूळ', 'घनमीटर', 'चेरापुंजी', 'विभागाने', 'प्रतिष्ठान', 'टेलर्सव्हिल', 'पराभवाने', 'अफगाणिस्तानचा', 'प्रकार', 'जुवाठी', 'पानांद्वारे', 'उल्हानगरातील', 'हॉलीवूडमधून', 'बशी', 'शेफील्ड', 'गूळ', 'विक्रीचा', 'धरणातही', 'हेरून', 'मागणीच्या', 'मशरूम', 'मार्गिका', 'मुख्यमंत्र्यापासून', 'जिंकू', 'चुरमुऱ्याच्या', 'अंटार्क्टिक', 'सालझार', 'विजेतेपदाच्या', 'विभागला', 'पर्सनल', 'रूनी', 'सफॉल्क', 'दुमका', 'ज्यादा', 'खुन', 'काने', 'शेतकऱ्यावरच', 'कुकरेजा', 'रॅली', 'पाथ', 'पिणाऱ्याचा', 'साहेबांच्या', 'फाइंडले', 'चटका', 'किनाऱ्यावरील', 'श्रीलंकेविरुद्धच्या', 'इक्बाल', 'कार्यालयाची', 'जागांंपैकी', 'होती', 'हिवाळ्यातील', 'पेनिंग्टन', 'माल्टा', 'हसवाफसवी', 'संबंधांची', 'नीलगाय', 'खालावत', 'पथ्यकर', 'चिनार', 'संस्थेतून', 'अवयवांना', 'जयपूर', 'पुराणमतवादी', 'रांची', 'मोठं', 'काबाडकष्ट', 'हॅटामाकी', 'वाकचौरे', 'बैठकीतील', 'दिपमाळ', 'प्रयोगाला', 'भेटीच्या', 'व्यक्तींच्याकडे', 'वस्त्रहरण', 'मदर', 'मोरेंनी', 'प्रयोगाअंती', 'तुरीच्या', 'चिलखत', 'कोणताही', 'याअंतर्गत', 'कौमुदी', 'महाराष्ट्र', 'खात्यांची', 'कृपा', 'माथेरान', 'अलेक्झांड्रिया', 'उमेश', 'बार्शी', 'स्पॅनिश', 'शेतकऱ्यामुळं', 'झारखंड', 'यांच्यात', 'अटकाव', 'बसतील', 'माझीच', 'भास्कर', 'पुरविण्याबाबतची', 'ब्राह्मणात', 'मोरेस्बी', 'मुंनडेंच्या', 'बाचेगाव', 'संबंधातून', 'दिल्याची', 'विश्वामित्राच्याच', 'सौजन्याने', 'टंडन', 'मदतही', 'फिशर', 'करखेलीकर', 'निवडणुकांपर्यंतच', 'ताग', 'पक्षाघात', 'रेडवुड', 'बांबूना', 'येथे', 'यादिवशी', 'सुसज्ज', 'कणेगाव', 'समितीपुढे', 'दाखविलेल्या', 'फळभाजी', 'माचीला', 'प्रतिष्टानच्या', 'वापरासाठी', 'देहदान', 'करविली', 'खाल्ली', 'मित्रपक्षांकडूनही', 'टाकते', 'नागवडे', 'अस्तित्वाची', 'बोर्डच्या', 'मानसास', 'चिडचिड', 'हुशारीने', 'पसरवत', 'रसिकांची', 'नसणाऱ्या', 'मीडियावर', 'सहसचिव', 'तारांबळ', 'अनसोल्ड', 'सिंग', 'रस्सा', 'हॅले', 'बाराउनी', 'कार', 'फटकावल्या', 'अनाथालय', 'सकट', 'पाहिज', 'दांताळे', 'पोस्टल', 'सभात्याग', 'राजस्थान', 'हसुर', 'वैष', 'काणा', 'ऑलिम्पिक', 'शिक्षेला', 'गुलाब', 'स्मरणशक्तीनी', 'भादुरीया', 'कर्मचार्यांची', 'लिटलटॉन', 'मालमत्ताधारकांमध्ये', 'पोटाशी', 'शिक्षणाबद्दलच्या', 'बोलिंग', 'प्रवेशद्वारापूर्वी', 'पहलवान', 'चॅम्पियनवर', 'विक्रीपासून', 'येईपर्यंत', 'सुस्वभावी', 'श्रीवास्तव', 'ग्रहांचे', 'झारखंड', 'हृदयधमन्यांपैकी', 'स्वाक्षरीदेखील', 'तजवीज', 'कुणकेश्वर', 'तंत्रज्ञानाचा', 'गुलछडी', 'संचय', 'मोंन्टे', 'जॉक', 'विकण्याची', 'ऑटो', 'तेथले', 'अंगाई', 'पेंटर', 'कारली', 'कट्टा', 'त्वरित', 'पोलादापेक्षाही', 'क्रेग', 'मासेमारी', 'रेहान', 'विलय', 'आठवला', 'यांच्याविरोधातील', 'कुलाब्याच्या', 'अनकेन', 'ऑलिम्पिया', 'एकनाथ', 'मोरे', 'शकल्याने', 'पानीपुरीवाला', 'ब्राह्मणांचे', 'मधलं', 'सायकलोत्सव', 'मॅडॉक्स', 'बीसिलस', 'देविकाराणीनं', 'धोरणामुळे', 'चित्रपटगृहातून', 'हॉथोर्न', 'हवाप्रदूषणाचा', 'अजित', 'नातेवाईकांची', 'रामक्रिश्ना', 'हटल्यानंतरच', 'उभयतांनी', 'जगण्यापेक्षा', 'फोंड', 'खारवलेली', 'बेडर', 'टप्प्याबाबत', 'तूपाचा', 'ठिक', 'तुकडीने', 'कारणही', 'रेनकोट', 'मिळो', 'झुलू', 'ठेवण्याचे', 'एव्हीएशन', 'बॉक्सर', 'प्रणय', 'मित्रमंडळी', 'झुडपात', 'भिंगरी', 'रिकाम्या', 'मोंन्टेबेलो', 'भानुशाली', 'पार्क', 'प्रशासनाला', 'व्यापलेल्या', 'प्रवेशद्वारापूर्वी', 'गुडगाव', 'भोजराज', 'राफेल', 'यांच्याकडे', 'चकवा', 'आपल्यासारख्यांमध्ये', 'दुभती', 'वीक्स', 'माऊंटन', 'आदिम', 'शेवटचं', 'नितीशकुमार', 'बाजूकडील', 'मेंदूतील', 'महाराष्ट्र', 'कारखेले', 'पूर्वीच', 'मतदानासाठी', 'देविकाराणीनं', 'बिल्डकॉन', 'पदवीधरांच्या', 'रार्ष्टीय', 'दरम्यानचे', 'स्विफ्ट', 'माहितीसंदर्भात', 'नांदुरी', 'कळवण्यात', 'मंडळाधिकार्', 'माज', 'ब्राह्मण', 'हृतिक', 'रायावळा', 'किनार्यांप्रमाणे', 'सेंट्रो', 'हस्त', 'सौझा', 'हरिचे', 'दिल्याची', 'हरिद्वार', 'शिकवणी', 'सशर्त', 'राहिल्यामुळे', 'नाईकांनी', 'पुनर्भरण', 'रसिकांची', 'कारवाईची', 'दंडवते', 'हॉलंड', 'रबरी', 'चेष्टा', 'गोदरेज', 'आणावे', 'खरगोन', 'भक्तिभाव', 'राजुभाईकडे', 'गतवर्षीच्या', 'परिच्छेद', 'शेतकऱ्यामुळं', 'फोकस', 'सुरेश', 'बिम्टा', 'भरविला', 'कॅरोल', 'मतदानासाठी', 'उत्सवाचे', 'विरंगुळा', 'केरळ', 'फेटाळला', 'मेल्टन', 'सातपुडा', 'नोवी', 'नयनरम्य', 'वेदना', 'दुभती', 'नायट्रेट', 'क्षमतेमुळे', 'महानगर', 'जाण्यापासूनची', 'काश्मिर', 'बेबी', 'लव्हाळी', 'हळूवार', 'नामदारांच्या', 'सारावागी', 'कळलेले', 'लारा', 'लक्ष', 'टक्क्यांनी', 'बोराची', 'उर्दूचा', 'प्रवेशही', 'व्हॉल्वमध्ये', 'चालूं', 'अँडरसन', 'गमतीशीर', 'फाळणीचा', 'जस्त', 'बुद्धांनी', 'पितामह', 'शतपावली', 'हटवल्यानंतर', 'नोंदविण्यासाठीही', 'फ्लॉयड', 'थांबलेला', 'आवृत्तीचे', 'वैशंपायन', 'धुलाई', 'अँडरसन', 'तापमानात', 'कुर्हाड', 'मुख्यमंत्रीपदासाठीच', 'धोरणांचा', 'निगम', 'पंडितजी', 'टोपल्या', 'साकुरी', 'बालंगीर', 'स्वाऱ्यांच्या', 'इस्टेस', 'आफ्रीन', 'व्यवस्थापनाच्या', 'कंसाई', 'दिरंगाई', 'नागवडे', 'चित्रपटसृष्टीतील', 'मजबुतीकरण', 'जेट्टीमुळे', 'सोन्याच्याच', 'चार्ल्सटन', 'वापरल्याने', 'उन्नतीचा', 'प्रक्रियेला', 'रसिकांची', 'षष्ठेश', 'मिसळतात', 'स्विफ्ट', 'शिक्षणव्यवस्थेत', 'परफेक्ट', 'शाकीर', 'यांच्यासाठी', 'खोलीच्या', 'ऍटकिन्स', 'वरचेवर', 'दुखू', 'इस्पात', 'कालरा', 'बावणे', 'मजुरांना', 'मिल्क', 'केरी', 'कलमान्वये', 'बनलेला', 'रशियन', 'चेल्सी', 'लष्कराचे', 'यंग', 'विज्ञानामधील', 'सरहद्द', 'चक्रवर्ती', 'बढाई', 'अब्ज', 'धाग्यावर', 'सिद्धांतात', 'छिंदवाडा', 'हवाप्रदूषणाचा', 'अफगाणिस्तानचा', 'शासकांनी', 'भिजवून', 'दर्शविणारी', 'भडकली', 'दुर्घटनेतील', 'पाठवली', 'टेरेसा', 'ग्रीस', 'नवीनच', 'नियतीने', 'चौबे', 'रोखठोक', 'वैशंपायन', 'लिंबाळे', 'पडताळणीअभावी', 'बासमती', 'अस्थिमज्जेत', 'मेंदूचे', 'वक्र', 'मेदिना', 'बाष्कळपणे', 'खर्चही', 'अपोल', 'आष्टा', 'चक्रवर्ती', 'करणाऱ्यांविरोधातही', 'पालक्कड', 'विटांच्या', 'देवीचा', 'बेबी', 'सुक्ष्म', 'जुलैमध्ये', 'रॉबिन्स']\n",
            "51200\n",
            "4096\n",
            "4096\n"
          ]
        }
      ],
      "source": [
        "\n",
        "train = load_data(\"/content/drive/MyDrive/aksharantar_sampled/aksharantar_sampled/mar/mar_train.csv\")\n",
        "val = load_data(\"/content/drive/MyDrive/aksharantar_sampled/aksharantar_sampled/mar/mar_valid.csv\")\n",
        "test = load_data(\"/content/drive/MyDrive/aksharantar_sampled/aksharantar_sampled/mar/mar_test.csv\")\n",
        "print(test)\n",
        "#below lists are used to save values in CSV again\n",
        "test_en=list(test['en'])\n",
        "test_ma=list(test['ma'])\n",
        "print(test_en)\n",
        "print(test_ma)\n",
        "print(len(train))\n",
        "print(len(test))\n",
        "print(len(val))"
      ]
    },
    {
      "cell_type": "markdown",
      "metadata": {
        "id": "feSI-Xyl-DM2"
      },
      "source": [
        "#TOKENIZE DATASET"
      ]
    },
    {
      "cell_type": "code",
      "execution_count": 6,
      "metadata": {
        "colab": {
          "base_uri": "https://localhost:8080/"
        },
        "id": "g3t82UK3kgyF",
        "outputId": "a5051068-7fad-4e6c-f9a8-2068603d5429"
      },
      "outputs": [
        {
          "output_type": "stream",
          "name": "stdout",
          "text": [
            "['a', 'b', 'c', 'd', 'e', 'f', 'g', 'h', 'i', 'j', 'k', 'l', 'm', 'n', 'o', 'p', 'q', 'r', 's', 't', 'u', 'v', 'w', 'x', 'y', 'z']\n",
            "63\n"
          ]
        }
      ],
      "source": [
        "def unique_tokenize(data):\n",
        "    english = train['en'].values\n",
        "    marathi = train['ma'].values\n",
        "    english_tokens = set()\n",
        "    marathi_tokens = set()\n",
        "    \n",
        "    for x,y in zip(english,marathi):\n",
        "        for ch in x:\n",
        "            english_tokens.add(ch)\n",
        "        for ch in y:\n",
        "            marathi_tokens.add(ch)\n",
        "    english_tokens = sorted(list(english_tokens))\n",
        "    marathi_tokens = sorted(list(marathi_tokens))\n",
        "    return marathi_tokens , english_tokens\n",
        "marathi_tokens , english_tokens = unique_tokenize(train)\n",
        "print(english_tokens)\n",
        "print(len(marathi_tokens))"
      ]
    },
    {
      "cell_type": "markdown",
      "metadata": {
        "id": "Q_pt0sC09-AE"
      },
      "source": [
        "#TOKEN MAP"
      ]
    },
    {
      "cell_type": "code",
      "execution_count": 7,
      "metadata": {
        "colab": {
          "base_uri": "https://localhost:8080/"
        },
        "id": "yeeJVQ2EjRqO",
        "outputId": "2b5de9b9-6673-4f4c-e90e-a3722d9f8aed"
      },
      "outputs": [
        {
          "output_type": "stream",
          "name": "stdout",
          "text": [
            "{'ँ': 1, 'ं': 2, 'ः': 3, 'अ': 4, 'आ': 5, 'इ': 6, 'ई': 7, 'उ': 8, 'ऊ': 9, 'ऋ': 10, 'ऍ': 11, 'ए': 12, 'ऐ': 13, 'ऑ': 14, 'ओ': 15, 'औ': 16, 'क': 17, 'ख': 18, 'ग': 19, 'घ': 20, 'च': 21, 'छ': 22, 'ज': 23, 'झ': 24, 'ञ': 25, 'ट': 26, 'ठ': 27, 'ड': 28, 'ढ': 29, 'ण': 30, 'त': 31, 'थ': 32, 'द': 33, 'ध': 34, 'न': 35, 'प': 36, 'फ': 37, 'ब': 38, 'भ': 39, 'म': 40, 'य': 41, 'र': 42, 'ल': 43, 'ळ': 44, 'व': 45, 'श': 46, 'ष': 47, 'स': 48, 'ह': 49, '़': 50, 'ा': 51, 'ि': 52, 'ी': 53, 'ु': 54, 'ू': 55, 'ृ': 56, 'ॅ': 57, 'े': 58, 'ै': 59, 'ॉ': 60, 'ो': 61, 'ौ': 62, '्': 63, ' ': 0, ';': 65, '.': 66, '<unk>': 64}\n",
            "{1: 'ँ', 2: 'ं', 3: 'ः', 4: 'अ', 5: 'आ', 6: 'इ', 7: 'ई', 8: 'उ', 9: 'ऊ', 10: 'ऋ', 11: 'ऍ', 12: 'ए', 13: 'ऐ', 14: 'ऑ', 15: 'ओ', 16: 'औ', 17: 'क', 18: 'ख', 19: 'ग', 20: 'घ', 21: 'च', 22: 'छ', 23: 'ज', 24: 'झ', 25: 'ञ', 26: 'ट', 27: 'ठ', 28: 'ड', 29: 'ढ', 30: 'ण', 31: 'त', 32: 'थ', 33: 'द', 34: 'ध', 35: 'न', 36: 'प', 37: 'फ', 38: 'ब', 39: 'भ', 40: 'म', 41: 'य', 42: 'र', 43: 'ल', 44: 'ळ', 45: 'व', 46: 'श', 47: 'ष', 48: 'स', 49: 'ह', 50: '़', 51: 'ा', 52: 'ि', 53: 'ी', 54: 'ु', 55: 'ू', 56: 'ृ', 57: 'ॅ', 58: 'े', 59: 'ै', 60: 'ॉ', 61: 'ो', 62: 'ौ', 63: '्', 64: '<unk>', 65: ';', 66: '.', 0: ''}\n",
            "{'a': 1, 'b': 2, 'c': 3, 'd': 4, 'e': 5, 'f': 6, 'g': 7, 'h': 8, 'i': 9, 'j': 10, 'k': 11, 'l': 12, 'm': 13, 'n': 14, 'o': 15, 'p': 16, 'q': 17, 'r': 18, 's': 19, 't': 20, 'u': 21, 'v': 22, 'w': 23, 'x': 24, 'y': 25, 'z': 26, ' ': 0, ';': 27, '.': 28}\n",
            "mar: 67\n",
            "eng: 29\n"
          ]
        }
      ],
      "source": [
        "#REWRITE AGAIN\n",
        "def tokenize_map(hindi_tokens , english_tokens):\n",
        "    english_token_map = dict([(ch,i+1) for i,ch in enumerate(english_tokens)])\n",
        "    marathi_token_map = dict([(ch,i+1) for i,ch in enumerate(marathi_tokens)])\n",
        "    reverse_marathi_token_map = dict([(i+1,ch) for i,ch in enumerate(marathi_tokens)])\n",
        "    #Adding blank space\n",
        "\n",
        "    marathi_token_map[\" \"] = 0\n",
        "    english_token_map[\" \"] = 0\n",
        "    #addin BOS and EOS token \n",
        "    marathi_token_map[';']=65\n",
        "    marathi_token_map['.']=66\n",
        "    english_token_map[';']=27\n",
        "    english_token_map['.']=28\n",
        "    marathi_token_map['<unk>']=64\n",
        "    \n",
        "    reverse_marathi_token_map[64]='<unk>'\n",
        "    reverse_marathi_token_map[65]=';'\n",
        "    reverse_marathi_token_map[66]='.'\n",
        "    reverse_marathi_token_map[0]=''\n",
        "\n",
        "    return marathi_token_map, english_token_map,reverse_marathi_token_map\n",
        "\n",
        "mar_token_map, eng_token_map,reverse_marathi_token_map = tokenize_map(marathi_tokens , english_tokens)\n",
        "print(mar_token_map)\n",
        "print(reverse_marathi_token_map)\n",
        "print(eng_token_map)\n",
        "\n",
        "print('mar:',len(mar_token_map))\n",
        "print('eng:',len(eng_token_map))"
      ]
    },
    {
      "cell_type": "markdown",
      "metadata": {
        "id": "MOOqbrfKo-ks"
      },
      "source": [
        "#MAXIMUM WORD LENGTH THAT ARE PRESENT IN THE DATASET\n",
        "\n",
        "\n"
      ]
    },
    {
      "cell_type": "code",
      "execution_count": 8,
      "metadata": {
        "colab": {
          "base_uri": "https://localhost:8080/"
        },
        "id": "1aMkFt73o-IW",
        "outputId": "ab6a2141-8fb1-4167-985d-2693cd06d1a2"
      },
      "outputs": [
        {
          "output_type": "stream",
          "name": "stdout",
          "text": [
            "30 22\n"
          ]
        }
      ],
      "source": [
        "\n",
        "x = test['en'].values\n",
        "y = test['ma'].values\n",
        "x=';'+ x + '.'\n",
        "y = ';'+y+'.'\n",
        "#Getting max length\n",
        "max_eng_len = max([len(i) for i in x])\n",
        "max_mar_len = max([len(i) for i in y])\n",
        "print(max_eng_len,max_mar_len)"
      ]
    },
    {
      "cell_type": "markdown",
      "metadata": {
        "id": "i-ry8u0ousdZ"
      },
      "source": [
        "# ONE HOT ENCODING/EMBEDDING OUR INPUT\n",
        "\n"
      ]
    },
    {
      "cell_type": "code",
      "execution_count": 9,
      "metadata": {
        "colab": {
          "base_uri": "https://localhost:8080/"
        },
        "id": "fdffrLwysNo-",
        "outputId": "0f61f3f7-1140-4de5-a547-90f9019972c6"
      },
      "outputs": [
        {
          "output_type": "stream",
          "name": "stdout",
          "text": [
            "[';fusharun.' ';bhulthapana.' ';vhayaki.']\n",
            "[';फुशारुन.' ';भूलथापाना.' ';व्हायकी.']\n",
            "torch.Size([51200, 30])\n",
            "torch.Size([51200, 30])\n",
            "torch.Size([51200, 30])\n",
            "[';garvyabarobarach.' ';reo.' ';sangrahalaye.']\n",
            "[';गारव्याबरोबरच.' ';रियो.' ';संग्रहालये.']\n",
            "torch.Size([4096, 30])\n",
            "torch.Size([4096, 30])\n",
            "torch.Size([4096, 30])\n",
            "[';heetler.' ';kshama.' ';jinkta.']\n",
            "[';हिटलर.' ';क्षमा.' ';जिंकता.']\n",
            "torch.Size([4096, 30])\n",
            "torch.Size([4096, 30])\n",
            "torch.Size([4096, 30])\n",
            "\n",
            "\n",
            "num of rows: 51200\n",
            "num of columns: 2\n",
            "tensor([65, 37, 54, 46, 51, 42, 54, 35, 66,  0,  0,  0,  0,  0,  0,  0,  0,  0,\n",
            "         0,  0,  0,  0,  0,  0,  0,  0,  0,  0,  0,  0])\n"
          ]
        }
      ],
      "source": [
        "\n",
        "import torch\n",
        "#unknown token present in validation set as 'r.(in marathi)'\n",
        "unknown_token=64\n",
        "def process(data):\n",
        "    x,y = data['en'].values, data['ma'].values\n",
        "    x = \";\" + x + \".\"\n",
        "    y = \";\" + y + \".\"\n",
        "    print(x[0:3])\n",
        "    print(y[0:3]) \n",
        "    \n",
        "    a = torch.zeros((len(x),max_eng_len),dtype=torch.int64)\n",
        "    print(a.shape)\n",
        "    \n",
        "    b = torch.zeros((len(y),max_eng_len),dtype=torch.int64)\n",
        "    \n",
        "    data=[]\n",
        "    for i,(xx,yy) in enumerate(zip(x,y)):\n",
        "        for j,ch in enumerate(xx):\n",
        "            a[i,j] = eng_token_map[ch]\n",
        "\n",
        "        #a[i,j+1:] = eng_token_map[\" \"]\n",
        "        for j,ch in enumerate(yy):\n",
        "            if ch in mar_token_map: \n",
        "             b[i,j] = mar_token_map[ch]\n",
        "            else:\n",
        "              b[i,j]= unknown_token\n",
        "\n",
        "\n",
        "    data = [(a[i], b[i]) for i in range(len(x))]\n",
        "    print(a.shape)\n",
        "    print(b.shape)\n",
        "    return data\n",
        "\n",
        "train_process=process(train)\n",
        "val_process=process(val)\n",
        "test_process=process(test)\n",
        "#print(train_process.shape)\n",
        "print('\\n')\n",
        "print('num of rows:',len(train_process))\n",
        "print('num of columns:',len(train_process[0]))\n",
        "print(train_process[0][1])"
      ]
    },
    {
      "cell_type": "code",
      "execution_count": 10,
      "metadata": {
        "colab": {
          "base_uri": "https://localhost:8080/"
        },
        "id": "w61HFE3F2aol",
        "outputId": "3bec134a-d2b0-43cc-968b-8109d11a3919"
      },
      "outputs": [
        {
          "output_type": "stream",
          "name": "stdout",
          "text": [
            ";फुशारुन.\n"
          ]
        }
      ],
      "source": [
        "#Used later for reading the words\n",
        "\n",
        "from torch import tensor\n",
        "def reverse_tokenize(data):\n",
        "  data=[int(i) for i in data]\n",
        "  predicted_seq = [reverse_marathi_token_map[idx] for idx in data]\n",
        "  predicted_seq=''.join(predicted_seq)\n",
        "  return predicted_seq\n",
        "  "
      ]
    },
    {
      "cell_type": "markdown",
      "metadata": {
        "id": "9wDRhKZ4-LHs"
      },
      "source": [
        "#DATA LOADER"
      ]
    },
    {
      "cell_type": "code",
      "execution_count": 11,
      "metadata": {
        "colab": {
          "base_uri": "https://localhost:8080/"
        },
        "id": "p1SvwaaN-Lj9",
        "outputId": "29549e79-d2c1-4489-912a-5b2d7b3f8856"
      },
      "outputs": [
        {
          "output_type": "stream",
          "name": "stdout",
          "text": [
            "3200\n",
            "256\n",
            "256\n"
          ]
        }
      ],
      "source": [
        "\n",
        "import torch\n",
        "\n",
        "device = torch.device('cuda' if torch.cuda.is_available() else 'cpu')\n",
        "\n",
        "BATCH_SIZE = 16\n",
        "\n",
        "PAD_IDX = 0\n",
        "BOS_IDX = ';'\n",
        "EOS_IDX = '.'\n",
        "from torch.nn.utils.rnn import pad_sequence\n",
        "from torch.utils.data import DataLoader\n",
        "\n",
        "#WE ARE NOT USING GENERATE BATCH FUNCTION\n",
        "def generate_batch(data_batch):\n",
        "  ma_batch, en_batch = [], []\n",
        "  for (en_item,ma_item) in data_batch:\n",
        "    #ma_batch.append(torch.cat([torch.tensor(mar_token_map[BOS_IDX]), ma_item, torch.tensor(mar_token_map[EOS_IDX])], dim=0))\n",
        "    #en_batch.append(torch.cat([torch.tensor(eng_token_map[BOS_IDX]), en_item, torch.tensor(eng_token_map[EOS_IDX])], dim=0))\n",
        "    #print(ma_item[0])\n",
        "    ma_batch=torch.tensor(ma_item,dtype=torch.int64)\n",
        "    en_batch=torch.tensor(en_item,dtype=torch.int64)\n",
        "  \n",
        "  return  en_batch.to(device),ma_batch.to(device)\n",
        "\n",
        "\n",
        "\n",
        "train_iter = DataLoader(train_process, batch_size=BATCH_SIZE,\n",
        "                        shuffle=False)\n",
        "valid_iter = DataLoader(val_process, batch_size=BATCH_SIZE,\n",
        "                        shuffle=False)\n",
        "test_iter = DataLoader(test_process, batch_size=BATCH_SIZE,\n",
        "                       shuffle=False)\n",
        "print(len(train_iter))\n",
        "print(len(test_iter))\n",
        "print(len(valid_iter))"
      ]
    },
    {
      "cell_type": "code",
      "execution_count": 12,
      "metadata": {
        "id": "547j1j6T2bEu"
      },
      "outputs": [],
      "source": [
        "import torch\n",
        "import torch.nn as nn\n",
        "import torch.optim as optim\n",
        "import string\n",
        "import random\n",
        "from collections import Counter\n",
        "# Set random seed for reproducibility\n",
        "SEED = 1234\n",
        "random.seed(SEED)\n",
        "torch.manual_seed(SEED)\n",
        "import os\n",
        "#os.environ['CUDA_LAUNCH_BLOCKING'] = '1'\n",
        "#os.environ['TORCH_USE_CUDA_DSA'] = '1'\n"
      ]
    },
    {
      "cell_type": "code",
      "source": [
        "!pip install --upgrade wandb\n",
        "!wandb login aa5afea12b4fda1e7f8310b597eb17c73d1176d2 #my API key for wandb login \n",
        "import wandb"
      ],
      "metadata": {
        "id": "rnhhFib9Vrl_"
      },
      "execution_count": null,
      "outputs": []
    },
    {
      "cell_type": "markdown",
      "metadata": {
        "id": "P0GVbIJUNEds"
      },
      "source": [
        "#ATTENTION MODEL"
      ]
    },
    {
      "cell_type": "code",
      "execution_count": 22,
      "metadata": {
        "colab": {
          "base_uri": "https://localhost:8080/"
        },
        "id": "4HnpQyXnNBh0",
        "outputId": "b6464bca-120d-40d2-be6f-12a87adb9169"
      },
      "outputs": [
        {
          "output_type": "stream",
          "name": "stdout",
          "text": [
            "The model has 2,630,467 trainable parameters\n"
          ]
        }
      ],
      "source": [
        "import random\n",
        "from typing import Tuple\n",
        "\n",
        "import torch.nn as nn\n",
        "import torch.optim as optim\n",
        "import torch.nn.functional as F\n",
        "from torch import Tensor\n",
        "\n",
        "\n",
        "class Encoder(nn.Module):\n",
        "    def __init__(self,\n",
        "                 input_dim: int,\n",
        "                 emb_dim: int,\n",
        "                 enc_hid_dim: int,\n",
        "                 dec_hid_dim: int,\n",
        "                 dropout: float):\n",
        "        super().__init__()\n",
        "\n",
        "        self.input_dim = input_dim\n",
        "        self.emb_dim = emb_dim\n",
        "        self.enc_hid_dim = enc_hid_dim\n",
        "        self.dec_hid_dim = dec_hid_dim\n",
        "        self.dropout = dropout\n",
        "\n",
        "        #print('inp. dim')\n",
        "        #print(self.input_dim)\n",
        "        #print('emb. dim')\n",
        "        #print(self.emb_dim)\n",
        "        self.embedding = nn.Embedding(self.input_dim, self.emb_dim)\n",
        "        \n",
        "\n",
        "        self.rnn = nn.GRU(emb_dim, enc_hid_dim, bidirectional = True)\n",
        "\n",
        "        self.fc = nn.Linear(enc_hid_dim * 2, dec_hid_dim)\n",
        "\n",
        "        self.dropout = nn.Dropout(dropout)\n",
        "\n",
        "    def forward(self,\n",
        "                src: Tensor) -> Tuple[Tensor]:\n",
        "        src = src.permute(1,0)\n",
        "        #print(src)\n",
        "        embedded = self.dropout(self.embedding(src))\n",
        "\n",
        "        outputs, hidden = self.rnn(embedded)\n",
        "\n",
        "        hidden = torch.tanh(self.fc(torch.cat((hidden[-2,:,:], hidden[-1,:,:]), dim = 1)))\n",
        "\n",
        "        return outputs, hidden\n",
        "\n",
        "\n",
        "class Attention(nn.Module):\n",
        "    def __init__(self,\n",
        "                 enc_hid_dim: int,\n",
        "                 dec_hid_dim: int,\n",
        "                 attn_dim: int):\n",
        "        super().__init__()\n",
        "\n",
        "        self.enc_hid_dim = enc_hid_dim\n",
        "        self.dec_hid_dim = dec_hid_dim\n",
        "\n",
        "        self.attn_in = (enc_hid_dim * 2) + dec_hid_dim\n",
        "\n",
        "        self.attn = nn.Linear(self.attn_in, attn_dim)\n",
        "\n",
        "    def forward(self,\n",
        "                decoder_hidden: Tensor,\n",
        "                encoder_outputs: Tensor) -> Tensor:\n",
        "\n",
        "        src_len = encoder_outputs.shape[0]\n",
        "\n",
        "        repeated_decoder_hidden = decoder_hidden.unsqueeze(1).repeat(1, src_len, 1)\n",
        "\n",
        "        encoder_outputs = encoder_outputs.permute(1, 0, 2)\n",
        "\n",
        "        energy = torch.tanh(self.attn(torch.cat((\n",
        "            repeated_decoder_hidden,\n",
        "            encoder_outputs),\n",
        "            dim = 2)))\n",
        "\n",
        "        attention = torch.sum(energy, dim=2)\n",
        "\n",
        "        return F.softmax(attention, dim=1)\n",
        "\n",
        "\n",
        "class Decoder(nn.Module):\n",
        "    def __init__(self,\n",
        "                 output_dim: int,\n",
        "                 emb_dim: int,\n",
        "                 enc_hid_dim: int,\n",
        "                 dec_hid_dim: int,\n",
        "                 dropout: int,\n",
        "                 attention: nn.Module):\n",
        "        super().__init__()\n",
        "\n",
        "        self.emb_dim = emb_dim\n",
        "        self.enc_hid_dim = enc_hid_dim\n",
        "        self.dec_hid_dim = dec_hid_dim\n",
        "        self.output_dim = output_dim\n",
        "        self.dropout = dropout\n",
        "        self.attention = attention\n",
        "\n",
        "        self.embedding = nn.Embedding(output_dim, emb_dim)\n",
        "\n",
        "        self.rnn = nn.GRU((enc_hid_dim * 2) + emb_dim, dec_hid_dim)\n",
        "\n",
        "        self.out = nn.Linear(self.attention.attn_in + emb_dim, output_dim)\n",
        "\n",
        "        self.dropout = nn.Dropout(dropout)\n",
        "\n",
        "\n",
        "    def _weighted_encoder_rep(self,\n",
        "                              decoder_hidden: Tensor,\n",
        "                              encoder_outputs: Tensor) -> Tensor:\n",
        "\n",
        "        a = self.attention(decoder_hidden, encoder_outputs)\n",
        "\n",
        "        a = a.unsqueeze(1)\n",
        "\n",
        "        encoder_outputs = encoder_outputs.permute(1, 0, 2)\n",
        "\n",
        "        weighted_encoder_rep = torch.bmm(a, encoder_outputs)\n",
        "\n",
        "        weighted_encoder_rep = weighted_encoder_rep.permute(1, 0, 2)\n",
        "\n",
        "        return weighted_encoder_rep\n",
        "\n",
        "\n",
        "    def forward(self,\n",
        "                input: Tensor,\n",
        "                decoder_hidden: Tensor,\n",
        "                encoder_outputs: Tensor) -> Tuple[Tensor]:\n",
        "\n",
        "        input = input.unsqueeze(0)\n",
        "        input = input.permute(1,0)\n",
        "        embedded = self.dropout(self.embedding(input))\n",
        "        weighted_encoder_rep = self._weighted_encoder_rep(decoder_hidden,\n",
        "                                                          encoder_outputs)\n",
        "\n",
        "        #print(weighted_encoder_rep.shape)\n",
        "        embedded = embedded.permute(1,0,2)\n",
        "        \n",
        "        rnn_input = torch.cat((embedded, weighted_encoder_rep), dim = 2)\n",
        "\n",
        "        output, decoder_hidden = self.rnn(rnn_input, decoder_hidden.unsqueeze(0))\n",
        "\n",
        "        embedded = embedded.squeeze(0)\n",
        "        output = output.squeeze(0)\n",
        "        weighted_encoder_rep = weighted_encoder_rep.squeeze(0)\n",
        "\n",
        "        output = self.out(torch.cat((output,\n",
        "                                     weighted_encoder_rep,\n",
        "                                     embedded), dim = 1))\n",
        "\n",
        "        return output, decoder_hidden.squeeze(0)\n",
        "\n",
        "\n",
        "class Seq2Seq(nn.Module):\n",
        "    def __init__(self,\n",
        "                 encoder: nn.Module,\n",
        "                 decoder: nn.Module,\n",
        "                 device: torch.device):\n",
        "        super().__init__()\n",
        "\n",
        "        self.encoder = encoder\n",
        "        self.decoder = decoder\n",
        "        self.device = device\n",
        "\n",
        "    def forward(self,\n",
        "                src: Tensor,\n",
        "                trg: Tensor,\n",
        "                teacher_forcing_ratio: float = 0.5) -> Tensor:\n",
        "\n",
        "        batch_size = src.shape[0]\n",
        "        max_len = trg.shape[1]\n",
        "        trg_vocab_size = self.decoder.output_dim\n",
        "        outputs = torch.zeros(max_len, batch_size, trg_vocab_size).to(self.device)\n",
        "        #ATTENTION HEAT MAP METHOD\n",
        "        #attentions = torch.zeros(max_len, batch_size, src.shape[1]).to(self.device)\n",
        "\n",
        "        encoder_outputs, hidden = self.encoder(src)\n",
        "\n",
        "        # first input to the decoder is the <sos> token\n",
        "        trg = trg.permute(1,0)\n",
        "        output = trg[0,:]\n",
        "        \n",
        "        for t in range(1, max_len):\n",
        "            output, hidden = self.decoder(output, hidden, encoder_outputs)\n",
        "            outputs[t] = output\n",
        "            teacher_force = random.random() < teacher_forcing_ratio\n",
        "            top1 = output.max(1)[1]\n",
        "            output = (trg[t] if teacher_force else top1)\n",
        "\n",
        "        return outputs\n",
        "\n",
        "\n",
        "INPUT_DIM = len(eng_token_map)\n",
        "OUTPUT_DIM = len(mar_token_map)\n",
        "ENC_EMB_DIM = 512\n",
        "DEC_EMB_DIM = 512\n",
        "ENC_HID_DIM = 256\n",
        "DEC_HID_DIM = 256\n",
        "ATTN_DIM = 256\n",
        "ENC_DROPOUT = 0.3\n",
        "DEC_DROPOUT = 0.3\n",
        "\n",
        "enc = Encoder(INPUT_DIM, ENC_EMB_DIM, ENC_HID_DIM, DEC_HID_DIM, ENC_DROPOUT)\n",
        "attn = Attention(ENC_HID_DIM, DEC_HID_DIM, ATTN_DIM)\n",
        "dec = Decoder(OUTPUT_DIM, DEC_EMB_DIM, ENC_HID_DIM, DEC_HID_DIM, DEC_DROPOUT, attn)\n",
        "model = Seq2Seq(enc, dec, device).to(device)\n",
        "\n",
        "\n",
        "def init_weights(m: nn.Module):\n",
        "    for name, param in m.named_parameters():\n",
        "        if 'weight' in name:\n",
        "            nn.init.normal_(param.data, mean=0, std=0.01)\n",
        "        else:\n",
        "            nn.init.constant_(param.data, 0)\n",
        "\n",
        "#added custom weights\n",
        "model.apply(init_weights)\n",
        "\n",
        "optimizer = optim.Adam(model.parameters())\n",
        "\n",
        "\n",
        "def count_parameters(model: nn.Module):\n",
        "    return sum(p.numel() for p in model.parameters() if p.requires_grad)\n",
        "\n",
        "\n",
        "print(f'The model has {count_parameters(model):,} trainable parameters')"
      ]
    },
    {
      "cell_type": "markdown",
      "source": [
        "# ATTENTION WANDB IMPLEMENTATION"
      ],
      "metadata": {
        "id": "QP2vxY5EIul0"
      }
    },
    {
      "cell_type": "code",
      "source": [
        "import math\n",
        "import time\n",
        "sweep_config = {\n",
        "    'method': 'bayes', #grid, random,bayes\n",
        "    'metric': {\n",
        "      'name': 'val_accuracy',\n",
        "      'goal': 'maximize'  \n",
        "    },\n",
        "    'parameters': {\n",
        "        'emb_dim': {\n",
        "            'values': [128,256,512]\n",
        "        },\n",
        "        'hidden_layer_dim': {\n",
        "            'values': [128,256,512]\n",
        "        },        \n",
        "        'attn_dim':{\n",
        "            'values':[64,128,256]\n",
        "        },\n",
        "        'dropout':{\n",
        "            'values':[0.3,0.5,0.6]\n",
        "        },\n",
        "    }\n",
        "}\n",
        "\n",
        "sweep_id = wandb.sweep(sweep_config, entity='shreyashgadgil007', project=\"CS6910-Assignment3\")\n",
        "\n",
        "def sweep_train():\n",
        "  # Default values for hyper-parameters we're going to sweep over\n",
        "  config_defaults = {\n",
        "      'emb_dim':256,\n",
        "      'hidden_layer_dim':256,\n",
        "      'attn_dim':128,\n",
        "      'dropout':0.6,\n",
        "  }\n",
        "\n",
        "  # Initialize a new wandb run\n",
        "  wandb.init(project='CS6910-Assignment3', entity='shreyashgadgil007',config=config_defaults)\n",
        "  wandb.run.name = 'emb_dim:'+ str(wandb.config.emb_dim)+' ;hl:'+str(wandb.config.hidden_layer_dim)+ ' ;attn_dim:'+str(wandb.config.attn_dim)+ ' ;dropout:'+str(wandb.config.dropout)\n",
        "  config = wandb.config\n",
        "  emb_dim = config.emb_dim\n",
        "  hidden_layer_dim = config.hidden_layer_dim\n",
        "  attn_dim = config.attn_dim\n",
        "  dropout = config.dropout\n",
        "  # Model training here\n",
        "\n",
        "  INPUT_DIM = len(eng_token_map)\n",
        "  OUTPUT_DIM = len(mar_token_map)\n",
        "\n",
        "  enc = Encoder(INPUT_DIM, emb_dim, hidden_layer_dim, hidden_layer_dim, dropout)\n",
        "\n",
        "  attn = Attention(hidden_layer_dim, hidden_layer_dim, attn_dim)\n",
        "\n",
        "  dec = Decoder(OUTPUT_DIM, emb_dim, hidden_layer_dim, hidden_layer_dim, dropout, attn)\n",
        "\n",
        "  model = Seq2Seq(enc, dec, device).to(device)\n",
        "  model.apply(init_weights)\n",
        "  optimizer = optim.Adam(model.parameters())\n",
        "  criterion = nn.CrossEntropyLoss()\n",
        "\n",
        "  model.train()\n",
        "\n",
        "  train_epoch_loss = 0\n",
        "  train_epoch_acc = 0\n",
        "  val_epoch_loss = 0\n",
        "  val_epoch_acc = 0\n",
        "  \n",
        "  N_EPOCHS = 10\n",
        "  CLIP = 1\n",
        "\n",
        "  for epoch in range(N_EPOCHS):\n",
        "\n",
        "  #TRAINING BLOCK\n",
        "    model.train()\n",
        "    for _, (src, trg) in enumerate(train_iter):\n",
        "        src, trg = src.to(device), trg.to(device)\n",
        "        \n",
        "        optimizer.zero_grad()\n",
        "\n",
        "        output = model(src, trg)\n",
        "\n",
        "        output = output[1:].view(-1, output.shape[-1])\n",
        "        trg = trg.permute(1,0)\n",
        "        trg = torch.reshape(trg[1:], (-1,))\n",
        "        loss = criterion(output, trg)\n",
        "        \n",
        "        # calculate accuracy\n",
        "        preds = torch.argmax(output, dim=1)\n",
        "        non_pad_elements = (trg != 0).nonzero(as_tuple=True)[0]\n",
        "        train_correct = preds[non_pad_elements] == trg[non_pad_elements]\n",
        "        train_epoch_acc += train_correct.sum().item() / len(non_pad_elements)\n",
        "        loss.backward()\n",
        "\n",
        "        torch.nn.utils.clip_grad_norm_(model.parameters(), CLIP)\n",
        "\n",
        "        optimizer.step()\n",
        "\n",
        "        train_epoch_loss += loss.item()\n",
        "\n",
        "\n",
        "    train_epoch_loss = train_epoch_loss / len(train_iter)\n",
        "    train_epoch_acc = train_epoch_acc / len(train_iter)\n",
        "\n",
        "\n",
        "    #EVALUATION MODE\n",
        "    model.eval()\n",
        "    \n",
        "    with torch.no_grad():\n",
        "\n",
        "        for _, (src, trg) in enumerate(valid_iter):\n",
        "            src, trg = src.to(device), trg.to(device)\n",
        "\n",
        "            output = model(src, trg, 0) #turn off teacher forcing\n",
        "\n",
        "            output = output[1:].view(-1, output.shape[-1])\n",
        "            trg = trg.permute(1,0)\n",
        "            trg = torch.reshape(trg[1:], (-1,))\n",
        "\n",
        "            loss = criterion(output, trg)\n",
        "\n",
        "            val_epoch_loss += loss.item()\n",
        "            # calculate accuracy\n",
        "            preds = torch.argmax(output, dim=1)\n",
        "            non_pad_elements = (trg != 0).nonzero(as_tuple=True)[0]\n",
        "            val_correct = preds[non_pad_elements] == trg[non_pad_elements]\n",
        "            val_epoch_acc += val_correct.sum().item() / len(non_pad_elements)\n",
        "\n",
        "    val_epoch_loss = val_epoch_loss / len(valid_iter)\n",
        "    val_epoch_acc = val_epoch_acc / len(valid_iter)\n",
        "\n",
        "    print(f'Epoch: {epoch+1:02} |Train Loss: {train_epoch_loss:.3f} | Train accuracy: {train_epoch_acc:.3f}|Val. Loss: {val_epoch_loss:.3f} | Val accuracy: {val_epoch_acc:.3f}')\n",
        "    wandb.log({\"train_loss\":train_epoch_loss,\"train_accuracy\": train_epoch_acc,\"val_loss\":val_epoch_loss,\"val_accuracy\":val_epoch_acc},)\n",
        "    #emptying the cache after one complete run\n",
        "    if epoch==N_EPOCHS-1:\n",
        "            torch.cuda.empty_cache()\n",
        "\n",
        "\n",
        "#RUNNING THE SWEEP\n",
        "wandb.agent(sweep_id, function=sweep_train, count=120)"
      ],
      "metadata": {
        "id": "KwA5nEgVItcQ"
      },
      "execution_count": null,
      "outputs": []
    },
    {
      "cell_type": "markdown",
      "source": [
        "# VANILLA SEQ2SEQ MODEL"
      ],
      "metadata": {
        "id": "Q87S_hH5PKID"
      }
    },
    {
      "cell_type": "code",
      "execution_count": 23,
      "metadata": {
        "colab": {
          "base_uri": "https://localhost:8080/"
        },
        "id": "_AXjK_20QAQp",
        "outputId": "1251866f-44ff-4a8d-ae3a-c7739f75930c"
      },
      "outputs": [
        {
          "output_type": "stream",
          "name": "stdout",
          "text": [
            "Epoch: 01 | Time: 3m 35s\n",
            "\tTrain Loss: 0.845 | Train accuracy: 0.386\n",
            "\t Val. Loss: 0.590 | Val accuracy: 0.492\n",
            "गर्वायाबरोबररच.\n",
            "Epoch: 02 | Time: 3m 35s\n",
            "\tTrain Loss: 0.333 | Train accuracy: 0.739\n",
            "\t Val. Loss: 0.445 | Val accuracy: 0.647\n",
            "गरव्याबरोबरच.\n",
            "Epoch: 03 | Time: 3m 38s\n",
            "\tTrain Loss: 0.234 | Train accuracy: 0.817\n",
            "\t Val. Loss: 0.415 | Val accuracy: 0.687\n",
            "गरव्याबरोबरच.\n",
            "Epoch: 04 | Time: 3m 38s\n",
            "\tTrain Loss: 0.207 | Train accuracy: 0.839\n",
            "\t Val. Loss: 0.410 | Val accuracy: 0.699\n",
            "गरव्याबरोबरच.\n",
            "Epoch: 05 | Time: 3m 37s\n",
            "\tTrain Loss: 0.193 | Train accuracy: 0.851\n",
            "\t Val. Loss: 0.413 | Val accuracy: 0.706\n",
            "गरव्याबरोबरच.\n",
            "Epoch: 06 | Time: 3m 33s\n",
            "\tTrain Loss: 0.182 | Train accuracy: 0.860\n",
            "\t Val. Loss: 0.403 | Val accuracy: 0.705\n",
            "गरव्याबरोबरच.\n",
            "Epoch: 07 | Time: 3m 29s\n",
            "\tTrain Loss: 0.174 | Train accuracy: 0.866\n",
            "\t Val. Loss: 0.428 | Val accuracy: 0.712\n",
            "गरव्याबरोबरच.\n",
            "Epoch: 08 | Time: 3m 29s\n",
            "\tTrain Loss: 0.173 | Train accuracy: 0.868\n",
            "\t Val. Loss: 0.426 | Val accuracy: 0.704\n",
            "गारव्याबरोबरच.\n",
            "Epoch: 09 | Time: 3m 32s\n",
            "\tTrain Loss: 0.172 | Train accuracy: 0.869\n",
            "\t Val. Loss: 0.420 | Val accuracy: 0.709\n",
            "गरव्याबरोबरच.\n",
            "Epoch: 10 | Time: 3m 29s\n",
            "\tTrain Loss: 0.171 | Train accuracy: 0.870\n",
            "\t Val. Loss: 0.416 | Val accuracy: 0.711\n",
            "गरव्याबरोबरच.\n",
            "| Test Loss: 0.522 | Test accuracy: 0.669 |\n"
          ]
        }
      ],
      "source": [
        "\n",
        "criterion = nn.CrossEntropyLoss()\n",
        "import math\n",
        "import time\n",
        "import numpy as np\n",
        "\n",
        "\n",
        "\n",
        "def train(model: nn.Module,\n",
        "          iterator: torch.utils.data.DataLoader,\n",
        "          optimizer: optim.Optimizer,\n",
        "          criterion: nn.Module,\n",
        "          clip: float):\n",
        "\n",
        "    model.train()\n",
        "\n",
        "    epoch_loss = 0\n",
        "    epoch_acc = 0\n",
        "    epoch_word_acc = 0\n",
        "    total_chars = 0\n",
        "    correct_chars = 0\n",
        "    total_words = 0\n",
        "    correct_words = 0\n",
        "\n",
        "\n",
        "    for _, (src, trg) in enumerate(iterator):\n",
        "        src, trg = src.to(device), trg.to(device)\n",
        "        optimizer.zero_grad()\n",
        "\n",
        "        output = model(src, trg)\n",
        "        output = output[1:].view(-1, output.shape[-1])\n",
        "        trg = trg.permute(1,0)\n",
        "        trg = torch.reshape(trg[1:], (-1,))\n",
        "        loss = criterion(output, trg)\n",
        "        \n",
        "        # calculate character level accuracy\n",
        "        preds = torch.argmax(output, dim=1)\n",
        "        non_pad_elements = (trg != 0).nonzero(as_tuple=True)[0]\n",
        "        correct = preds[non_pad_elements] == trg[non_pad_elements]\n",
        "        epoch_acc += correct.sum().item() / len(non_pad_elements)\n",
        "        \n",
        "        loss.backward()\n",
        "\n",
        "        torch.nn.utils.clip_grad_norm_(model.parameters(), clip)\n",
        "\n",
        "        optimizer.step()\n",
        "\n",
        "        epoch_loss += loss.item()\n",
        "\n",
        "    return epoch_loss / len(iterator), epoch_acc / len(iterator)\n",
        "\n",
        "\n",
        "def evaluate(model: nn.Module,\n",
        "             iterator: torch.utils.data.DataLoader,\n",
        "             criterion: nn.Module):\n",
        "\n",
        "    model.eval()\n",
        "\n",
        "    epoch_loss = 0\n",
        "    epoch_acc = 0\n",
        "    epoch_word_acc = 0\n",
        "    total_chars = 0\n",
        "    correct_chars = 0\n",
        "    total_words = 0\n",
        "    correct_words = 0\n",
        "    solution=[]\n",
        "    with torch.no_grad():\n",
        "\n",
        "        for _, (src, trg) in enumerate(iterator):\n",
        "            src, trg = src.to(device), trg.to(device)\n",
        "\n",
        "            output = model(src, trg, 0) #turn off teacher forcing\n",
        "\n",
        "            output = output[1:].view(-1, output.shape[-1])\n",
        "            trg = trg.permute(1,0)\n",
        "            trg = torch.reshape(trg[1:], (-1,))\n",
        "\n",
        "            loss = criterion(output, trg)\n",
        "\n",
        "            epoch_loss += loss.item()\n",
        "            \n",
        "            # calculate accuracy\n",
        "            preds = torch.argmax(output, dim=1)\n",
        "            non_pad_elements = (trg != 0).nonzero(as_tuple=True)[0]\n",
        "            correct = preds[non_pad_elements] == trg[non_pad_elements]\n",
        "            epoch_acc += correct.sum().item() / len(non_pad_elements)\n",
        "\n",
        "            b=np.zeros((16,29))\n",
        "            for i in range(16):\n",
        "              for j in range (29):\n",
        "                 b[i][j]=preds[16*j+i]\n",
        "            \n",
        "            for i in range(16):\n",
        "              solution.append(reverse_tokenize(b[i]))\n",
        "\n",
        "\n",
        "    return epoch_loss / len(iterator), epoch_acc / len(iterator), solution\n",
        "\n",
        "\n",
        "def epoch_time(start_time: int,\n",
        "               end_time: int):\n",
        "    elapsed_time = end_time - start_time\n",
        "    elapsed_mins = int(elapsed_time / 60)\n",
        "    elapsed_secs = int(elapsed_time - (elapsed_mins * 60))\n",
        "    return elapsed_mins, elapsed_secs\n",
        "\n",
        "\n",
        "N_EPOCHS = 10\n",
        "CLIP = 1\n",
        "\n",
        "best_valid_loss = float('inf')\n",
        "\n",
        "for epoch in range(N_EPOCHS):\n",
        "\n",
        "    start_time = time.time()\n",
        "\n",
        "    train_loss,train_acc = train(model, train_iter, optimizer, criterion, CLIP)\n",
        "    valid_loss,val_acc,solution_valid = evaluate(model, valid_iter, criterion)\n",
        "\n",
        "    end_time = time.time()\n",
        "\n",
        "    epoch_mins, epoch_secs = epoch_time(start_time, end_time)\n",
        "\n",
        "    print(f'Epoch: {epoch+1:02} | Time: {epoch_mins}m {epoch_secs}s')\n",
        "    print(f'\\tTrain Loss: {train_loss:.3f} | Train accuracy: {train_acc:.3f}')\n",
        "    print(f'\\t Val. Loss: {valid_loss:.3f} | Val accuracy: {val_acc:.3f}')\n",
        "    print(solution_valid[0])\n",
        "\n",
        "test_loss,test_accuracy,solution_test_att = evaluate(model, test_iter, criterion)\n",
        "\n",
        "print(f'| Test Loss: {test_loss:.3f} | Test accuracy: {test_accuracy:.3f} |')"
      ]
    },
    {
      "cell_type": "markdown",
      "metadata": {
        "id": "MY7YZLIzNCNv"
      },
      "source": [
        "#VANILLA SEQ2SEQ MODEL ON TEST DATASET\n",
        "\n",
        "\n"
      ]
    },
    {
      "cell_type": "code",
      "execution_count": 18,
      "metadata": {
        "id": "HJTv3GZ1DHI5"
      },
      "outputs": [],
      "source": [
        "# Define the vocabulary of English and Devanagari characters\n",
        "\n",
        "# Define the maximum sequence lengths for input and output sequences\n",
        "MAX_LEN_EN = 30\n",
        "MAX_LEN_MA = 30\n",
        "\n",
        "# Define the start and end of sequence tokens\n",
        "BOS_token = 28\n",
        "EOS_token = 29\n",
        "\n",
        "\n",
        "class Encoder(nn.Module):\n",
        "    def __init__(self, input_size, embedding_size, hidden_size, num_layers=1 , cell_type=\"lstm\", p=0.5):\n",
        "        super(Encoder, self).__init__()\n",
        "        self.hidden_size = hidden_size\n",
        "        self.num_layers = num_layers\n",
        "        self.cell_type=cell_type\n",
        "        self.dropout=nn.Dropout(p)\n",
        "        self.embedding = nn.Embedding(input_size,embedding_size)\n",
        "\n",
        "        if cell_type == \"gru\":\n",
        "            self.rnn = nn.GRU(input_size, hidden_size, num_layers,dropout=p)\n",
        "        elif cell_type == \"lstm\":\n",
        "            self.rnn = nn.LSTM(input_size, hidden_size, num_layers,dropout=p)\n",
        "        elif cell_type == \"rnn\":\n",
        "            self.rnn = nn.RNN(input_size, hidden_size, num_layers,dropout=p)\n",
        "        else:\n",
        "            raise ValueError(\"Invalid cell type selected: {}\".format(cell_type))\n",
        "\n",
        "    def forward(self, x):\n",
        "        \n",
        "        x=x.permute(1,0)\n",
        "        embedding=self.dropout(self.embedding(x))\n",
        "        if self.cell_type==\"lstm\":\n",
        "         outputs,(hidden,cell)=self.rnn(embedding)\n",
        "        else:\n",
        "           hidden, cell = self.rnn(embedding)\n",
        "        return hidden, cell\n",
        "\n",
        "\n",
        "class Decoder(nn.Module):\n",
        "    def __init__(self, input_size, embedding_size, hidden_size, output_size, num_layers=1, cell_type=\"lstm\",p=0.5):\n",
        "        super(Decoder, self).__init__()\n",
        "        self.hidden_size = hidden_size\n",
        "        self.num_layers = num_layers\n",
        "        self.dropout=nn.Dropout(p)\n",
        "        self.embedding=nn.Embedding(input_size, embedding_size)\n",
        "        self.cell_type=cell_type\n",
        "\n",
        "        self.output_size = output_size\n",
        "        if cell_type == \"gru\":\n",
        "            self.rnn = nn.GRU(output_size, hidden_size, num_layers)\n",
        "        elif cell_type == \"lstm\":\n",
        "            self.rnn = nn.LSTM(embedding_size, hidden_size, num_layers,dropout=p)\n",
        "        elif cell_type == \"rnn\":\n",
        "            self.rnn = nn.RNN(output_size, hidden_size, num_layers)\n",
        "        else:\n",
        "            raise ValueError(\"Invalid cell type selected: {}\".format(cell_type))\n",
        "        self.fc = nn.Linear(hidden_size, output_size)\n",
        "\n",
        "    def forward(self, x, hidden,cell):\n",
        "       # shape of x: (N) but we want (1,N)\n",
        "       x=x.unsqueeze(0)\n",
        "\n",
        "       embedding= self.dropout(self.embedding(x))\n",
        "       #embedding shape: (1,N,hidden_size)\n",
        "       \n",
        "       if self.cell_type==\"lstm\":\n",
        "        outputs,(hidden,cell) = self.rnn(embedding, (hidden,cell))\n",
        "       else:\n",
        "         outputs, hidden = self.rnn(embedding, hidden)\n",
        "       #shape of outputs: (1,N,hidden_size)\n",
        "       \n",
        "\n",
        "       predictions=self.fc(outputs)\n",
        "       #shape of predictions: (1,N,length_of_vocab)\n",
        "\n",
        "       predictions = predictions.squeeze(0)\n",
        "       \n",
        "       if self.cell_type==\"lstm\":\n",
        "         return predictions, hidden, cell\n",
        "       else:\n",
        "         return predictions, hidden\n",
        "\n",
        "\n",
        "class Seq2Seq(nn.Module):\n",
        "    def __init__(\n",
        "        self,encoder,decoder,cell_type=\"lstm\"):\n",
        "        super(Seq2Seq, self).__init__()\n",
        "        self.encoder = encoder\n",
        "        self.decoder = decoder\n",
        "        self.cell_type = cell_type\n",
        "\n",
        "    def forward(self, source, target, teacher_force_ratio=0.5):\n",
        "        batch_size = source.shape[0]\n",
        "        \n",
        "        target_len = target.shape[1]\n",
        "        target_vocab_size=self.decoder.output_size\n",
        "\n",
        "        outputs=torch.zeros(target_len,batch_size,target_vocab_size).to(device)\n",
        "        \n",
        "        cell,hidden=self.encoder(source)\n",
        "        \n",
        "        target = target.permute(1,0)\n",
        "        x = target[0,:]\n",
        "        for t in range(1,target_len):\n",
        "          if self.cell_type==\"lstm\":\n",
        "           output,hidden,cell =self.decoder(x,hidden,cell)\n",
        "          else:\n",
        "            output, hidden = self.decoder(x,hidden,cell)\n",
        "\n",
        "          outputs[t] = output\n",
        "          \n",
        "          best_guess = output.argmax(1)\n",
        "\n",
        "          x= target[t] if random.random() < teacher_force_ratio else best_guess\n",
        "        return outputs\n"
      ]
    },
    {
      "cell_type": "code",
      "execution_count": 19,
      "metadata": {
        "colab": {
          "base_uri": "https://localhost:8080/"
        },
        "id": "gP3feLygxyV0",
        "outputId": "9952f40c-9fa0-4a06-ae62-016eac85a9b2"
      },
      "outputs": [
        {
          "output_type": "stream",
          "name": "stdout",
          "text": [
            "Epoch: 01 | Time: 2m 28s\n",
            "\tTrain Loss: 0.732 | Train accuracy: 0.470\n",
            "\t Val. Loss: 0.509 | Val accuracy: 0.578\n",
            "गर्व्याबरोबरच.\n",
            "Epoch: 02 | Time: 2m 30s\n",
            "\tTrain Loss: 0.339 | Train accuracy: 0.732\n",
            "\t Val. Loss: 0.466 | Val accuracy: 0.633\n",
            "गर्व्याबरोबरच.\n",
            "Epoch: 03 | Time: 2m 30s\n",
            "\tTrain Loss: 0.274 | Train accuracy: 0.783\n",
            "\t Val. Loss: 0.433 | Val accuracy: 0.668\n",
            "गरव्याबरोबरच.\n",
            "Epoch: 04 | Time: 2m 29s\n",
            "\tTrain Loss: 0.248 | Train accuracy: 0.803\n",
            "\t Val. Loss: 0.407 | Val accuracy: 0.687\n",
            "गरव्याबरोबरच.\n",
            "Epoch: 05 | Time: 2m 30s\n",
            "\tTrain Loss: 0.231 | Train accuracy: 0.817\n",
            "\t Val. Loss: 0.427 | Val accuracy: 0.693\n",
            "गरव्याबरोबरच.\n",
            "Epoch: 06 | Time: 2m 29s\n",
            "\tTrain Loss: 0.221 | Train accuracy: 0.825\n",
            "\t Val. Loss: 0.419 | Val accuracy: 0.698\n",
            "गर््यावरोबरच.\n",
            "Epoch: 07 | Time: 2m 30s\n",
            "\tTrain Loss: 0.217 | Train accuracy: 0.829\n",
            "\t Val. Loss: 0.417 | Val accuracy: 0.703\n",
            "गरव्याबरोबरच.\n",
            "Epoch: 08 | Time: 2m 31s\n",
            "\tTrain Loss: 0.213 | Train accuracy: 0.832\n",
            "\t Val. Loss: 0.416 | Val accuracy: 0.702\n",
            "गरव्याबरोबरच.\n",
            "Epoch: 09 | Time: 2m 30s\n",
            "\tTrain Loss: 0.212 | Train accuracy: 0.832\n",
            "\t Val. Loss: 0.419 | Val accuracy: 0.690\n",
            "गरव्याबरोबरच.\n",
            "Epoch: 10 | Time: 2m 30s\n",
            "\tTrain Loss: 0.214 | Train accuracy: 0.832\n",
            "\t Val. Loss: 0.420 | Val accuracy: 0.695\n",
            "गरव्याबरोबरच.\n",
            "| Test Loss: 0.511 | Test accuracy:   0.656 |\n"
          ]
        }
      ],
      "source": [
        "import numpy as np\n",
        "num_epochs=10\n",
        "learning_rate=0.001\n",
        "\n",
        "device=torch.device('cuda' if torch.cuda.is_available() else 'cpu')\n",
        "input_size_encoder = len(eng_token_map)\n",
        "input_size_decoder=len(mar_token_map)\n",
        "output_size=len(mar_token_map)\n",
        "\n",
        "encoder_embedding_size=29\n",
        "decoder_embedding_size=67\n",
        "\n",
        "cell_type=\"gru\"\n",
        "hidden_size=256\n",
        "num_layers=4\n",
        "enc_dropout=0.2\n",
        "dec_dropout=0.2\n",
        "#input_size, embedding_size, hidden_size, num_layers=1 , cell_type=\"lstm\", p=0.5\n",
        "encoder_net=Encoder(input_size_encoder,encoder_embedding_size,hidden_size,num_layers,cell_type,p=enc_dropout).to(device)\n",
        "decoder_net=Decoder(input_size_decoder,decoder_embedding_size,hidden_size,output_size,num_layers,cell_type,p=dec_dropout).to(device)\n",
        "model=Seq2Seq(encoder_net,decoder_net,cell_type).to(device)\n",
        "criterion = nn.CrossEntropyLoss()\n",
        "import math\n",
        "import time\n",
        "\n",
        "optimizer = optim.Adam(model.parameters(),lr=learning_rate)\n",
        "def train(model: nn.Module,\n",
        "          iterator: torch.utils.data.DataLoader,\n",
        "          optimizer: optim.Optimizer,\n",
        "          criterion: nn.Module,\n",
        "          clip: float):\n",
        "\n",
        "    model.train()\n",
        "\n",
        "    epoch_loss = 0\n",
        "    epoch_acc = 0\n",
        "\n",
        "    for _, (src, trg) in enumerate(iterator):\n",
        "        src, trg = src.to(device), trg.to(device)\n",
        "        optimizer.zero_grad()\n",
        "\n",
        "        output = model(src, trg)\n",
        "        output = output[1:].view(-1, output.shape[-1])\n",
        "        trg = trg.permute(1,0)\n",
        "        trg = torch.reshape(trg[1:], (-1,))\n",
        "        loss = criterion(output, trg)\n",
        "        \n",
        "        # calculate accuracy\n",
        "        preds = torch.argmax(output, dim=1)\n",
        "        non_pad_elements = (trg != 0).nonzero(as_tuple=True)[0]\n",
        "        correct = preds[non_pad_elements] == trg[non_pad_elements]\n",
        "        epoch_acc += correct.sum().item() / len(non_pad_elements)\n",
        "        loss.backward()\n",
        "\n",
        "        torch.nn.utils.clip_grad_norm_(model.parameters(), clip)\n",
        "\n",
        "        optimizer.step()\n",
        "\n",
        "        epoch_loss += loss.item()\n",
        "\n",
        "    return epoch_loss / len(iterator), epoch_acc / len(iterator)\n",
        "\n",
        "\n",
        "def evaluate(model: nn.Module,\n",
        "             iterator: torch.utils.data.DataLoader,\n",
        "             criterion: nn.Module):\n",
        "\n",
        "    model.eval()\n",
        "    solution=[]\n",
        "    epoch_loss = 0\n",
        "    epoch_acc = 0\n",
        "    \n",
        "    with torch.no_grad():\n",
        "\n",
        "        for _, (src, trg) in enumerate(iterator):\n",
        "            src, trg = src.to(device), trg.to(device)\n",
        "\n",
        "            output = model(src, trg, 0) #turn off teacher forcing\n",
        "            output = output[1:].view(-1, output.shape[-1])\n",
        "            \n",
        "            trg = trg.permute(1,0)\n",
        "            trg = torch.reshape(trg[1:], (-1,))\n",
        "\n",
        "            loss = criterion(output, trg)\n",
        "\n",
        "            epoch_loss += loss.item()\n",
        "            # calculate accuracy\n",
        "            preds = torch.argmax(output, dim=1)\n",
        "            b=np.zeros((16,29))\n",
        "            for i in range(16):\n",
        "              for j in range (29):\n",
        "                 b[i][j]=preds[16*j+i]\n",
        "            \n",
        "            for i in range(16):\n",
        "              solution.append(reverse_tokenize(b[i]))\n",
        "            non_pad_elements = (trg != 0).nonzero(as_tuple=True)[0]\n",
        "            correct = preds[non_pad_elements] == trg[non_pad_elements]\n",
        "            epoch_acc += correct.sum().item() / len(non_pad_elements)\n",
        "            \n",
        "\n",
        "    return epoch_loss / len(iterator), epoch_acc / len(iterator),solution\n",
        "\n",
        "\n",
        "def epoch_time(start_time: int,\n",
        "               end_time: int):\n",
        "    elapsed_time = end_time - start_time\n",
        "    elapsed_mins = int(elapsed_time / 60)\n",
        "    elapsed_secs = int(elapsed_time - (elapsed_mins * 60))\n",
        "    return elapsed_mins, elapsed_secs\n",
        "\n",
        "\n",
        "N_EPOCHS = 10\n",
        "CLIP = 1\n",
        "\n",
        "best_valid_loss = float('inf')\n",
        "\n",
        "for epoch in range(N_EPOCHS):\n",
        "\n",
        "    start_time = time.time()\n",
        "\n",
        "    train_loss,train_acc = train(model, train_iter, optimizer, criterion, CLIP)\n",
        "    valid_loss,val_acc,solution = evaluate(model, valid_iter, criterion)\n",
        "\n",
        "    end_time = time.time()\n",
        "\n",
        "    epoch_mins, epoch_secs = epoch_time(start_time, end_time)\n",
        "\n",
        "    print(f'Epoch: {epoch+1:02} | Time: {epoch_mins}m {epoch_secs}s')\n",
        "    print(f'\\tTrain Loss: {train_loss:.3f} | Train accuracy: {train_acc:.3f}')\n",
        "    print(f'\\t Val. Loss: {valid_loss:.3f} | Val accuracy: {val_acc:.3f}')\n",
        "    print(solution[0])\n",
        "\n",
        "\n",
        "test_loss,test_accuracy,solution_test = evaluate(model, test_iter, criterion)\n",
        "\n",
        "print(f'| Test Loss: {test_loss:.3f} | Test accuracy: {test_accuracy:7.3f} |')\n",
        "\n"
      ]
    },
    {
      "cell_type": "code",
      "execution_count": null,
      "metadata": {
        "id": "3-OQ0gNbMY08"
      },
      "outputs": [],
      "source": [
        "\n",
        "!pip install --upgrade wandb\n",
        "!wandb login aa5afea12b4fda1e7f8310b597eb17c73d1176d2 #my API key for wandb login \n",
        "import wandb"
      ]
    },
    {
      "cell_type": "markdown",
      "source": [
        "# WANDB IMPLEMENTATION"
      ],
      "metadata": {
        "id": "TJF-7OZJSpNp"
      }
    },
    {
      "cell_type": "code",
      "execution_count": null,
      "metadata": {
        "colab": {
          "base_uri": "https://localhost:8080/",
          "height": 1000,
          "referenced_widgets": [
            "4149a4c78e664d71a256e6deaab7716d",
            "3f8878c3e01f4dfe954752b6a726974c",
            "2fb0c0dc7f564ad5849f01201a2349dc",
            "3726b5cd9ab240f198b0abf2bd0ee999",
            "5cffdb42030b4aaaa4adf32ed67a4bd0",
            "d490c128677e486981c7ed932e7a8e4a",
            "fafea03cb3874a209280303fd0ac44e5",
            "66c1662f065e4171803abdb4210d4df0",
            "3cb5d0076b4e4ce8bf8943a44895bdc6",
            "ee966b1121cd45c28893b2cc3a0f36ef",
            "1e20596ffc514c82b89c308c78e60097",
            "09dc089336be4b8a9fb06ebd4e27b92e",
            "c269d71a857e408aa28d91b2efd35eff",
            "1c4c5300439a47fca5d0dc2bbb00c7c5",
            "009d917192ac45f8b9a5cb3e88b3be67",
            "99445299e74d4e7db3951662a977c21a",
            "d2c4d6f23f594ef3b9bb9514eb986abb",
            "62351b579cad492bafe79bec945e8327",
            "62cdf5406f4f4ae0bfef029acc8b25ac",
            "770c3cb14d53452296ae96b6d12acb2b",
            "3fa2e79d8bf645fd925b2ca74b33ace1",
            "2de8fbf1431348c0b375c2bea37bc58a",
            "0029bd3ca1c94350a4ed311349e040bf",
            "99b20e257eb94f7c9ea138b138b8b92a",
            "e8e252f6d5d141bba53ec2757bbb498f",
            "ed6fb297d7cb4188953724e8fd678c56",
            "d0e13e633f6c46749d354d038df3dfff",
            "2f6b8df6ebb44ab1b38f5aebd30225d5",
            "4db95218bd8c45fd8638e73b17655541",
            "c4204db901f44e57a468b949be7a9cc5",
            "4562bbd5ab014f7084a5b74100662d6c",
            "4e3528158aaf4a6687bdeb93fd7164d3"
          ]
        },
        "id": "L4DAr9DwEqcX",
        "outputId": "e8fec47b-d42d-477b-bc73-4ac4533b4cf8"
      },
      "outputs": [
        {
          "name": "stdout",
          "output_type": "stream",
          "text": [
            "Error in callback <function _WandbInit._resume_backend at 0x7ffaa83481f0> (for pre_run_cell):\n"
          ]
        },
        {
          "ename": "BrokenPipeError",
          "evalue": "ignored",
          "output_type": "error",
          "traceback": [
            "\u001b[0;31m---------------------------------------------------------------------------\u001b[0m",
            "\u001b[0;31mBrokenPipeError\u001b[0m                           Traceback (most recent call last)",
            "\u001b[0;32m/usr/local/lib/python3.10/dist-packages/backcall/backcall.py\u001b[0m in \u001b[0;36madapted\u001b[0;34m(*args, **kwargs)\u001b[0m\n\u001b[1;32m    102\u001b[0m                 \u001b[0mkwargs\u001b[0m\u001b[0;34m.\u001b[0m\u001b[0mpop\u001b[0m\u001b[0;34m(\u001b[0m\u001b[0mname\u001b[0m\u001b[0;34m)\u001b[0m\u001b[0;34m\u001b[0m\u001b[0;34m\u001b[0m\u001b[0m\n\u001b[1;32m    103\u001b[0m \u001b[0;31m#            print(args, kwargs, unmatched_pos, cut_positional, unmatched_kw)\u001b[0m\u001b[0;34m\u001b[0m\u001b[0;34m\u001b[0m\u001b[0m\n\u001b[0;32m--> 104\u001b[0;31m             \u001b[0;32mreturn\u001b[0m \u001b[0mcallback\u001b[0m\u001b[0;34m(\u001b[0m\u001b[0;34m*\u001b[0m\u001b[0margs\u001b[0m\u001b[0;34m,\u001b[0m \u001b[0;34m**\u001b[0m\u001b[0mkwargs\u001b[0m\u001b[0;34m)\u001b[0m\u001b[0;34m\u001b[0m\u001b[0;34m\u001b[0m\u001b[0m\n\u001b[0m\u001b[1;32m    105\u001b[0m \u001b[0;34m\u001b[0m\u001b[0m\n\u001b[1;32m    106\u001b[0m         \u001b[0;32mreturn\u001b[0m \u001b[0madapted\u001b[0m\u001b[0;34m\u001b[0m\u001b[0;34m\u001b[0m\u001b[0m\n",
            "\u001b[0;32m/usr/local/lib/python3.10/dist-packages/wandb/sdk/wandb_init.py\u001b[0m in \u001b[0;36m_resume_backend\u001b[0;34m(self)\u001b[0m\n\u001b[1;32m    422\u001b[0m         \u001b[0;32mif\u001b[0m \u001b[0mself\u001b[0m\u001b[0;34m.\u001b[0m\u001b[0mbackend\u001b[0m \u001b[0;32mis\u001b[0m \u001b[0;32mnot\u001b[0m \u001b[0;32mNone\u001b[0m \u001b[0;32mand\u001b[0m \u001b[0mself\u001b[0m\u001b[0;34m.\u001b[0m\u001b[0mbackend\u001b[0m\u001b[0;34m.\u001b[0m\u001b[0minterface\u001b[0m \u001b[0;32mis\u001b[0m \u001b[0;32mnot\u001b[0m \u001b[0;32mNone\u001b[0m\u001b[0;34m:\u001b[0m\u001b[0;34m\u001b[0m\u001b[0;34m\u001b[0m\u001b[0m\n\u001b[1;32m    423\u001b[0m             \u001b[0mlogger\u001b[0m\u001b[0;34m.\u001b[0m\u001b[0minfo\u001b[0m\u001b[0;34m(\u001b[0m\u001b[0;34m\"resuming backend\"\u001b[0m\u001b[0;34m)\u001b[0m  \u001b[0;31m# type: ignore\u001b[0m\u001b[0;34m\u001b[0m\u001b[0;34m\u001b[0m\u001b[0m\n\u001b[0;32m--> 424\u001b[0;31m             \u001b[0mself\u001b[0m\u001b[0;34m.\u001b[0m\u001b[0mbackend\u001b[0m\u001b[0;34m.\u001b[0m\u001b[0minterface\u001b[0m\u001b[0;34m.\u001b[0m\u001b[0mpublish_resume\u001b[0m\u001b[0;34m(\u001b[0m\u001b[0;34m)\u001b[0m\u001b[0;34m\u001b[0m\u001b[0;34m\u001b[0m\u001b[0m\n\u001b[0m\u001b[1;32m    425\u001b[0m \u001b[0;34m\u001b[0m\u001b[0m\n\u001b[1;32m    426\u001b[0m     \u001b[0;32mdef\u001b[0m \u001b[0m_jupyter_teardown\u001b[0m\u001b[0;34m(\u001b[0m\u001b[0mself\u001b[0m\u001b[0;34m)\u001b[0m \u001b[0;34m->\u001b[0m \u001b[0;32mNone\u001b[0m\u001b[0;34m:\u001b[0m\u001b[0;34m\u001b[0m\u001b[0;34m\u001b[0m\u001b[0m\n",
            "\u001b[0;32m/usr/local/lib/python3.10/dist-packages/wandb/sdk/interface/interface.py\u001b[0m in \u001b[0;36mpublish_resume\u001b[0;34m(self)\u001b[0m\n\u001b[1;32m    671\u001b[0m     \u001b[0;32mdef\u001b[0m \u001b[0mpublish_resume\u001b[0m\u001b[0;34m(\u001b[0m\u001b[0mself\u001b[0m\u001b[0;34m)\u001b[0m \u001b[0;34m->\u001b[0m \u001b[0;32mNone\u001b[0m\u001b[0;34m:\u001b[0m\u001b[0;34m\u001b[0m\u001b[0;34m\u001b[0m\u001b[0m\n\u001b[1;32m    672\u001b[0m         \u001b[0mresume\u001b[0m \u001b[0;34m=\u001b[0m \u001b[0mpb\u001b[0m\u001b[0;34m.\u001b[0m\u001b[0mResumeRequest\u001b[0m\u001b[0;34m(\u001b[0m\u001b[0;34m)\u001b[0m\u001b[0;34m\u001b[0m\u001b[0;34m\u001b[0m\u001b[0m\n\u001b[0;32m--> 673\u001b[0;31m         \u001b[0mself\u001b[0m\u001b[0;34m.\u001b[0m\u001b[0m_publish_resume\u001b[0m\u001b[0;34m(\u001b[0m\u001b[0mresume\u001b[0m\u001b[0;34m)\u001b[0m\u001b[0;34m\u001b[0m\u001b[0;34m\u001b[0m\u001b[0m\n\u001b[0m\u001b[1;32m    674\u001b[0m \u001b[0;34m\u001b[0m\u001b[0m\n\u001b[1;32m    675\u001b[0m     \u001b[0;34m@\u001b[0m\u001b[0mabstractmethod\u001b[0m\u001b[0;34m\u001b[0m\u001b[0;34m\u001b[0m\u001b[0m\n",
            "\u001b[0;32m/usr/local/lib/python3.10/dist-packages/wandb/sdk/interface/interface_shared.py\u001b[0m in \u001b[0;36m_publish_resume\u001b[0;34m(self, resume)\u001b[0m\n\u001b[1;32m    342\u001b[0m     \u001b[0;32mdef\u001b[0m \u001b[0m_publish_resume\u001b[0m\u001b[0;34m(\u001b[0m\u001b[0mself\u001b[0m\u001b[0;34m,\u001b[0m \u001b[0mresume\u001b[0m\u001b[0;34m:\u001b[0m \u001b[0mpb\u001b[0m\u001b[0;34m.\u001b[0m\u001b[0mResumeRequest\u001b[0m\u001b[0;34m)\u001b[0m \u001b[0;34m->\u001b[0m \u001b[0;32mNone\u001b[0m\u001b[0;34m:\u001b[0m\u001b[0;34m\u001b[0m\u001b[0;34m\u001b[0m\u001b[0m\n\u001b[1;32m    343\u001b[0m         \u001b[0mrec\u001b[0m \u001b[0;34m=\u001b[0m \u001b[0mself\u001b[0m\u001b[0;34m.\u001b[0m\u001b[0m_make_request\u001b[0m\u001b[0;34m(\u001b[0m\u001b[0mresume\u001b[0m\u001b[0;34m=\u001b[0m\u001b[0mresume\u001b[0m\u001b[0;34m)\u001b[0m\u001b[0;34m\u001b[0m\u001b[0;34m\u001b[0m\u001b[0m\n\u001b[0;32m--> 344\u001b[0;31m         \u001b[0mself\u001b[0m\u001b[0;34m.\u001b[0m\u001b[0m_publish\u001b[0m\u001b[0;34m(\u001b[0m\u001b[0mrec\u001b[0m\u001b[0;34m)\u001b[0m\u001b[0;34m\u001b[0m\u001b[0;34m\u001b[0m\u001b[0m\n\u001b[0m\u001b[1;32m    345\u001b[0m \u001b[0;34m\u001b[0m\u001b[0m\n\u001b[1;32m    346\u001b[0m     \u001b[0;32mdef\u001b[0m \u001b[0m_publish_run\u001b[0m\u001b[0;34m(\u001b[0m\u001b[0mself\u001b[0m\u001b[0;34m,\u001b[0m \u001b[0mrun\u001b[0m\u001b[0;34m:\u001b[0m \u001b[0mpb\u001b[0m\u001b[0;34m.\u001b[0m\u001b[0mRunRecord\u001b[0m\u001b[0;34m)\u001b[0m \u001b[0;34m->\u001b[0m \u001b[0;32mNone\u001b[0m\u001b[0;34m:\u001b[0m\u001b[0;34m\u001b[0m\u001b[0;34m\u001b[0m\u001b[0m\n",
            "\u001b[0;32m/usr/local/lib/python3.10/dist-packages/wandb/sdk/interface/interface_sock.py\u001b[0m in \u001b[0;36m_publish\u001b[0;34m(self, record, local)\u001b[0m\n\u001b[1;32m     49\u001b[0m     \u001b[0;32mdef\u001b[0m \u001b[0m_publish\u001b[0m\u001b[0;34m(\u001b[0m\u001b[0mself\u001b[0m\u001b[0;34m,\u001b[0m \u001b[0mrecord\u001b[0m\u001b[0;34m:\u001b[0m \u001b[0;34m\"pb.Record\"\u001b[0m\u001b[0;34m,\u001b[0m \u001b[0mlocal\u001b[0m\u001b[0;34m:\u001b[0m \u001b[0mOptional\u001b[0m\u001b[0;34m[\u001b[0m\u001b[0mbool\u001b[0m\u001b[0;34m]\u001b[0m \u001b[0;34m=\u001b[0m \u001b[0;32mNone\u001b[0m\u001b[0;34m)\u001b[0m \u001b[0;34m->\u001b[0m \u001b[0;32mNone\u001b[0m\u001b[0;34m:\u001b[0m\u001b[0;34m\u001b[0m\u001b[0;34m\u001b[0m\u001b[0m\n\u001b[1;32m     50\u001b[0m         \u001b[0mself\u001b[0m\u001b[0;34m.\u001b[0m\u001b[0m_assign\u001b[0m\u001b[0;34m(\u001b[0m\u001b[0mrecord\u001b[0m\u001b[0;34m)\u001b[0m\u001b[0;34m\u001b[0m\u001b[0;34m\u001b[0m\u001b[0m\n\u001b[0;32m---> 51\u001b[0;31m         \u001b[0mself\u001b[0m\u001b[0;34m.\u001b[0m\u001b[0m_sock_client\u001b[0m\u001b[0;34m.\u001b[0m\u001b[0msend_record_publish\u001b[0m\u001b[0;34m(\u001b[0m\u001b[0mrecord\u001b[0m\u001b[0;34m)\u001b[0m\u001b[0;34m\u001b[0m\u001b[0;34m\u001b[0m\u001b[0m\n\u001b[0m\u001b[1;32m     52\u001b[0m \u001b[0;34m\u001b[0m\u001b[0m\n\u001b[1;32m     53\u001b[0m     def _communicate_async(\n",
            "\u001b[0;32m/usr/local/lib/python3.10/dist-packages/wandb/sdk/lib/sock_client.py\u001b[0m in \u001b[0;36msend_record_publish\u001b[0;34m(self, record)\u001b[0m\n\u001b[1;32m    219\u001b[0m         \u001b[0mserver_req\u001b[0m \u001b[0;34m=\u001b[0m \u001b[0mspb\u001b[0m\u001b[0;34m.\u001b[0m\u001b[0mServerRequest\u001b[0m\u001b[0;34m(\u001b[0m\u001b[0;34m)\u001b[0m\u001b[0;34m\u001b[0m\u001b[0;34m\u001b[0m\u001b[0m\n\u001b[1;32m    220\u001b[0m         \u001b[0mserver_req\u001b[0m\u001b[0;34m.\u001b[0m\u001b[0mrecord_publish\u001b[0m\u001b[0;34m.\u001b[0m\u001b[0mCopyFrom\u001b[0m\u001b[0;34m(\u001b[0m\u001b[0mrecord\u001b[0m\u001b[0;34m)\u001b[0m\u001b[0;34m\u001b[0m\u001b[0;34m\u001b[0m\u001b[0m\n\u001b[0;32m--> 221\u001b[0;31m         \u001b[0mself\u001b[0m\u001b[0;34m.\u001b[0m\u001b[0msend_server_request\u001b[0m\u001b[0;34m(\u001b[0m\u001b[0mserver_req\u001b[0m\u001b[0;34m)\u001b[0m\u001b[0;34m\u001b[0m\u001b[0;34m\u001b[0m\u001b[0m\n\u001b[0m\u001b[1;32m    222\u001b[0m \u001b[0;34m\u001b[0m\u001b[0m\n\u001b[1;32m    223\u001b[0m     \u001b[0;32mdef\u001b[0m \u001b[0m_extract_packet_bytes\u001b[0m\u001b[0;34m(\u001b[0m\u001b[0mself\u001b[0m\u001b[0;34m)\u001b[0m \u001b[0;34m->\u001b[0m \u001b[0mOptional\u001b[0m\u001b[0;34m[\u001b[0m\u001b[0mbytes\u001b[0m\u001b[0;34m]\u001b[0m\u001b[0;34m:\u001b[0m\u001b[0;34m\u001b[0m\u001b[0;34m\u001b[0m\u001b[0m\n",
            "\u001b[0;32m/usr/local/lib/python3.10/dist-packages/wandb/sdk/lib/sock_client.py\u001b[0m in \u001b[0;36msend_server_request\u001b[0;34m(self, msg)\u001b[0m\n\u001b[1;32m    153\u001b[0m \u001b[0;34m\u001b[0m\u001b[0m\n\u001b[1;32m    154\u001b[0m     \u001b[0;32mdef\u001b[0m \u001b[0msend_server_request\u001b[0m\u001b[0;34m(\u001b[0m\u001b[0mself\u001b[0m\u001b[0;34m,\u001b[0m \u001b[0mmsg\u001b[0m\u001b[0;34m:\u001b[0m \u001b[0mAny\u001b[0m\u001b[0;34m)\u001b[0m \u001b[0;34m->\u001b[0m \u001b[0;32mNone\u001b[0m\u001b[0;34m:\u001b[0m\u001b[0;34m\u001b[0m\u001b[0;34m\u001b[0m\u001b[0m\n\u001b[0;32m--> 155\u001b[0;31m         \u001b[0mself\u001b[0m\u001b[0;34m.\u001b[0m\u001b[0m_send_message\u001b[0m\u001b[0;34m(\u001b[0m\u001b[0mmsg\u001b[0m\u001b[0;34m)\u001b[0m\u001b[0;34m\u001b[0m\u001b[0;34m\u001b[0m\u001b[0m\n\u001b[0m\u001b[1;32m    156\u001b[0m \u001b[0;34m\u001b[0m\u001b[0m\n\u001b[1;32m    157\u001b[0m     \u001b[0;32mdef\u001b[0m \u001b[0msend_server_response\u001b[0m\u001b[0;34m(\u001b[0m\u001b[0mself\u001b[0m\u001b[0;34m,\u001b[0m \u001b[0mmsg\u001b[0m\u001b[0;34m:\u001b[0m \u001b[0mAny\u001b[0m\u001b[0;34m)\u001b[0m \u001b[0;34m->\u001b[0m \u001b[0;32mNone\u001b[0m\u001b[0;34m:\u001b[0m\u001b[0;34m\u001b[0m\u001b[0;34m\u001b[0m\u001b[0m\n",
            "\u001b[0;32m/usr/local/lib/python3.10/dist-packages/wandb/sdk/lib/sock_client.py\u001b[0m in \u001b[0;36m_send_message\u001b[0;34m(self, msg)\u001b[0m\n\u001b[1;32m    150\u001b[0m         \u001b[0mheader\u001b[0m \u001b[0;34m=\u001b[0m \u001b[0mstruct\u001b[0m\u001b[0;34m.\u001b[0m\u001b[0mpack\u001b[0m\u001b[0;34m(\u001b[0m\u001b[0;34m\"<BI\"\u001b[0m\u001b[0;34m,\u001b[0m \u001b[0mord\u001b[0m\u001b[0;34m(\u001b[0m\u001b[0;34m\"W\"\u001b[0m\u001b[0;34m)\u001b[0m\u001b[0;34m,\u001b[0m \u001b[0mraw_size\u001b[0m\u001b[0;34m)\u001b[0m\u001b[0;34m\u001b[0m\u001b[0;34m\u001b[0m\u001b[0m\n\u001b[1;32m    151\u001b[0m         \u001b[0;32mwith\u001b[0m \u001b[0mself\u001b[0m\u001b[0;34m.\u001b[0m\u001b[0m_lock\u001b[0m\u001b[0;34m:\u001b[0m\u001b[0;34m\u001b[0m\u001b[0;34m\u001b[0m\u001b[0m\n\u001b[0;32m--> 152\u001b[0;31m             \u001b[0mself\u001b[0m\u001b[0;34m.\u001b[0m\u001b[0m_sendall_with_error_handle\u001b[0m\u001b[0;34m(\u001b[0m\u001b[0mheader\u001b[0m \u001b[0;34m+\u001b[0m \u001b[0mdata\u001b[0m\u001b[0;34m)\u001b[0m\u001b[0;34m\u001b[0m\u001b[0;34m\u001b[0m\u001b[0m\n\u001b[0m\u001b[1;32m    153\u001b[0m \u001b[0;34m\u001b[0m\u001b[0m\n\u001b[1;32m    154\u001b[0m     \u001b[0;32mdef\u001b[0m \u001b[0msend_server_request\u001b[0m\u001b[0;34m(\u001b[0m\u001b[0mself\u001b[0m\u001b[0;34m,\u001b[0m \u001b[0mmsg\u001b[0m\u001b[0;34m:\u001b[0m \u001b[0mAny\u001b[0m\u001b[0;34m)\u001b[0m \u001b[0;34m->\u001b[0m \u001b[0;32mNone\u001b[0m\u001b[0;34m:\u001b[0m\u001b[0;34m\u001b[0m\u001b[0;34m\u001b[0m\u001b[0m\n",
            "\u001b[0;32m/usr/local/lib/python3.10/dist-packages/wandb/sdk/lib/sock_client.py\u001b[0m in \u001b[0;36m_sendall_with_error_handle\u001b[0;34m(self, data)\u001b[0m\n\u001b[1;32m    128\u001b[0m             \u001b[0mstart_time\u001b[0m \u001b[0;34m=\u001b[0m \u001b[0mtime\u001b[0m\u001b[0;34m.\u001b[0m\u001b[0mmonotonic\u001b[0m\u001b[0;34m(\u001b[0m\u001b[0;34m)\u001b[0m\u001b[0;34m\u001b[0m\u001b[0;34m\u001b[0m\u001b[0m\n\u001b[1;32m    129\u001b[0m             \u001b[0;32mtry\u001b[0m\u001b[0;34m:\u001b[0m\u001b[0;34m\u001b[0m\u001b[0;34m\u001b[0m\u001b[0m\n\u001b[0;32m--> 130\u001b[0;31m                 \u001b[0msent\u001b[0m \u001b[0;34m=\u001b[0m \u001b[0mself\u001b[0m\u001b[0;34m.\u001b[0m\u001b[0m_sock\u001b[0m\u001b[0;34m.\u001b[0m\u001b[0msend\u001b[0m\u001b[0;34m(\u001b[0m\u001b[0mdata\u001b[0m\u001b[0;34m)\u001b[0m\u001b[0;34m\u001b[0m\u001b[0;34m\u001b[0m\u001b[0m\n\u001b[0m\u001b[1;32m    131\u001b[0m                 \u001b[0;31m# sent equal to 0 indicates a closed socket\u001b[0m\u001b[0;34m\u001b[0m\u001b[0;34m\u001b[0m\u001b[0m\n\u001b[1;32m    132\u001b[0m                 \u001b[0;32mif\u001b[0m \u001b[0msent\u001b[0m \u001b[0;34m==\u001b[0m \u001b[0;36m0\u001b[0m\u001b[0;34m:\u001b[0m\u001b[0;34m\u001b[0m\u001b[0;34m\u001b[0m\u001b[0m\n",
            "\u001b[0;31mBrokenPipeError\u001b[0m: [Errno 32] Broken pipe"
          ]
        },
        {
          "name": "stdout",
          "output_type": "stream",
          "text": [
            "Create sweep with ID: t1x3tqqp\n",
            "Sweep URL: https://wandb.ai/shreyashgadgil007/CS6910-Assignment3/sweeps/t1x3tqqp\n"
          ]
        },
        {
          "name": "stderr",
          "output_type": "stream",
          "text": [
            "\u001b[34m\u001b[1mwandb\u001b[0m: Agent Starting Run: rfsh9ynk with config:\n",
            "\u001b[34m\u001b[1mwandb\u001b[0m: \tcell_type: rnn\n",
            "\u001b[34m\u001b[1mwandb\u001b[0m: \tdropout: 0\n",
            "\u001b[34m\u001b[1mwandb\u001b[0m: \thidden_layers: 256\n",
            "\u001b[34m\u001b[1mwandb\u001b[0m: \tlayer_size: 1\n",
            "\u001b[34m\u001b[1mwandb\u001b[0m: \tlr: 0.0001\n",
            "\u001b[34m\u001b[1mwandb\u001b[0m: \u001b[33mWARNING\u001b[0m Ignored wandb.init() arg project when running a sweep.\n",
            "\u001b[34m\u001b[1mwandb\u001b[0m: \u001b[33mWARNING\u001b[0m Ignored wandb.init() arg entity when running a sweep.\n"
          ]
        },
        {
          "data": {
            "application/vnd.jupyter.widget-view+json": {
              "model_id": "4149a4c78e664d71a256e6deaab7716d",
              "version_major": 2,
              "version_minor": 0
            },
            "text/plain": [
              "VBox(children=(Label(value='Waiting for wandb.init()...\\r'), FloatProgress(value=0.016669342216664516, max=1.0…"
            ]
          },
          "metadata": {},
          "output_type": "display_data"
        },
        {
          "data": {
            "text/html": [
              "Tracking run with wandb version 0.15.2"
            ],
            "text/plain": [
              "<IPython.core.display.HTML object>"
            ]
          },
          "metadata": {},
          "output_type": "display_data"
        },
        {
          "data": {
            "text/html": [
              "Run data is saved locally in <code>/content/wandb/run-20230516_134057-rfsh9ynk</code>"
            ],
            "text/plain": [
              "<IPython.core.display.HTML object>"
            ]
          },
          "metadata": {},
          "output_type": "display_data"
        },
        {
          "data": {
            "text/html": [
              "Syncing run <strong><a href='https://wandb.ai/shreyashgadgil007/CS6910-Assignment3/runs/rfsh9ynk' target=\"_blank\">vibrant-sweep-1</a></strong> to <a href='https://wandb.ai/shreyashgadgil007/CS6910-Assignment3' target=\"_blank\">Weights & Biases</a> (<a href='https://wandb.me/run' target=\"_blank\">docs</a>)<br/>Sweep page: <a href='https://wandb.ai/shreyashgadgil007/CS6910-Assignment3/sweeps/t1x3tqqp' target=\"_blank\">https://wandb.ai/shreyashgadgil007/CS6910-Assignment3/sweeps/t1x3tqqp</a>"
            ],
            "text/plain": [
              "<IPython.core.display.HTML object>"
            ]
          },
          "metadata": {},
          "output_type": "display_data"
        },
        {
          "data": {
            "text/html": [
              " View project at <a href='https://wandb.ai/shreyashgadgil007/CS6910-Assignment3' target=\"_blank\">https://wandb.ai/shreyashgadgil007/CS6910-Assignment3</a>"
            ],
            "text/plain": [
              "<IPython.core.display.HTML object>"
            ]
          },
          "metadata": {},
          "output_type": "display_data"
        },
        {
          "data": {
            "text/html": [
              " View sweep at <a href='https://wandb.ai/shreyashgadgil007/CS6910-Assignment3/sweeps/t1x3tqqp' target=\"_blank\">https://wandb.ai/shreyashgadgil007/CS6910-Assignment3/sweeps/t1x3tqqp</a>"
            ],
            "text/plain": [
              "<IPython.core.display.HTML object>"
            ]
          },
          "metadata": {},
          "output_type": "display_data"
        },
        {
          "data": {
            "text/html": [
              " View run at <a href='https://wandb.ai/shreyashgadgil007/CS6910-Assignment3/runs/rfsh9ynk' target=\"_blank\">https://wandb.ai/shreyashgadgil007/CS6910-Assignment3/runs/rfsh9ynk</a>"
            ],
            "text/plain": [
              "<IPython.core.display.HTML object>"
            ]
          },
          "metadata": {},
          "output_type": "display_data"
        },
        {
          "name": "stdout",
          "output_type": "stream",
          "text": [
            "Epoch: 01 |Train Loss: 1.255 | Train accuracy: 0.168|Val. Loss: 1.302 | Val accuracy: 0.102\n",
            "Epoch: 02 |Train Loss: 1.172 | Train accuracy: 0.197|Val. Loss: 1.276 | Val accuracy: 0.113\n",
            "Epoch: 03 |Train Loss: 1.155 | Train accuracy: 0.205|Val. Loss: 1.221 | Val accuracy: 0.108\n",
            "Epoch: 04 |Train Loss: 1.145 | Train accuracy: 0.210|Val. Loss: 1.209 | Val accuracy: 0.108\n",
            "Epoch: 05 |Train Loss: 1.139 | Train accuracy: 0.213|Val. Loss: 1.212 | Val accuracy: 0.108\n",
            "Epoch: 06 |Train Loss: 1.132 | Train accuracy: 0.216|Val. Loss: 1.253 | Val accuracy: 0.092\n",
            "Epoch: 07 |Train Loss: 1.130 | Train accuracy: 0.217|Val. Loss: 1.252 | Val accuracy: 0.106\n",
            "Epoch: 08 |Train Loss: 1.125 | Train accuracy: 0.220|Val. Loss: 1.289 | Val accuracy: 0.115\n",
            "Epoch: 09 |Train Loss: 1.122 | Train accuracy: 0.222|Val. Loss: 1.216 | Val accuracy: 0.108\n",
            "Epoch: 10 |Train Loss: 1.118 | Train accuracy: 0.224|Val. Loss: 1.248 | Val accuracy: 0.103\n"
          ]
        },
        {
          "data": {
            "text/html": [
              "Waiting for W&B process to finish... <strong style=\"color:green\">(success).</strong>"
            ],
            "text/plain": [
              "<IPython.core.display.HTML object>"
            ]
          },
          "metadata": {},
          "output_type": "display_data"
        },
        {
          "data": {
            "application/vnd.jupyter.widget-view+json": {
              "model_id": "3cb5d0076b4e4ce8bf8943a44895bdc6",
              "version_major": 2,
              "version_minor": 0
            },
            "text/plain": [
              "VBox(children=(Label(value='0.001 MB of 0.010 MB uploaded (0.000 MB deduped)\\r'), FloatProgress(value=0.110128…"
            ]
          },
          "metadata": {},
          "output_type": "display_data"
        },
        {
          "data": {
            "text/html": [
              "<style>\n",
              "    table.wandb td:nth-child(1) { padding: 0 10px; text-align: left ; width: auto;} td:nth-child(2) {text-align: left ; width: 100%}\n",
              "    .wandb-row { display: flex; flex-direction: row; flex-wrap: wrap; justify-content: flex-start; width: 100% }\n",
              "    .wandb-col { display: flex; flex-direction: column; flex-basis: 100%; flex: 1; padding: 10px; }\n",
              "    </style>\n",
              "<div class=\"wandb-row\"><div class=\"wandb-col\"><h3>Run history:</h3><br/><table class=\"wandb\"><tr><td>train_accuracy</td><td>▁▅▆▆▇▇▇███</td></tr><tr><td>train_loss</td><td>█▄▃▂▂▂▂▁▁▁</td></tr><tr><td>val_accuracy</td><td>▄▇▆▆▆▁▅█▆▄</td></tr><tr><td>val_loss</td><td>█▆▂▁▁▄▄▇▂▄</td></tr></table><br/></div><div class=\"wandb-col\"><h3>Run summary:</h3><br/><table class=\"wandb\"><tr><td>train_accuracy</td><td>0.22405</td></tr><tr><td>train_loss</td><td>1.11841</td></tr><tr><td>val_accuracy</td><td>0.10258</td></tr><tr><td>val_loss</td><td>1.24847</td></tr></table><br/></div></div>"
            ],
            "text/plain": [
              "<IPython.core.display.HTML object>"
            ]
          },
          "metadata": {},
          "output_type": "display_data"
        },
        {
          "data": {
            "text/html": [
              " View run <strong style=\"color:#cdcd00\">vibrant-sweep-1</strong> at: <a href='https://wandb.ai/shreyashgadgil007/CS6910-Assignment3/runs/rfsh9ynk' target=\"_blank\">https://wandb.ai/shreyashgadgil007/CS6910-Assignment3/runs/rfsh9ynk</a><br/>Synced 5 W&B file(s), 0 media file(s), 0 artifact file(s) and 0 other file(s)"
            ],
            "text/plain": [
              "<IPython.core.display.HTML object>"
            ]
          },
          "metadata": {},
          "output_type": "display_data"
        },
        {
          "data": {
            "text/html": [
              "Find logs at: <code>./wandb/run-20230516_134057-rfsh9ynk/logs</code>"
            ],
            "text/plain": [
              "<IPython.core.display.HTML object>"
            ]
          },
          "metadata": {},
          "output_type": "display_data"
        },
        {
          "name": "stderr",
          "output_type": "stream",
          "text": [
            "\u001b[34m\u001b[1mwandb\u001b[0m: Agent Starting Run: wv6r2hz6 with config:\n",
            "\u001b[34m\u001b[1mwandb\u001b[0m: \tcell_type: lstm\n",
            "\u001b[34m\u001b[1mwandb\u001b[0m: \tdropout: 0.2\n",
            "\u001b[34m\u001b[1mwandb\u001b[0m: \thidden_layers: 64\n",
            "\u001b[34m\u001b[1mwandb\u001b[0m: \tlayer_size: 2\n",
            "\u001b[34m\u001b[1mwandb\u001b[0m: \tlr: 0.0001\n",
            "\u001b[34m\u001b[1mwandb\u001b[0m: \u001b[33mWARNING\u001b[0m Ignored wandb.init() arg project when running a sweep.\n",
            "\u001b[34m\u001b[1mwandb\u001b[0m: \u001b[33mWARNING\u001b[0m Ignored wandb.init() arg entity when running a sweep.\n"
          ]
        },
        {
          "data": {
            "text/html": [
              "Tracking run with wandb version 0.15.2"
            ],
            "text/plain": [
              "<IPython.core.display.HTML object>"
            ]
          },
          "metadata": {},
          "output_type": "display_data"
        },
        {
          "data": {
            "text/html": [
              "Run data is saved locally in <code>/content/wandb/run-20230516_135520-wv6r2hz6</code>"
            ],
            "text/plain": [
              "<IPython.core.display.HTML object>"
            ]
          },
          "metadata": {},
          "output_type": "display_data"
        },
        {
          "data": {
            "text/html": [
              "Syncing run <strong><a href='https://wandb.ai/shreyashgadgil007/CS6910-Assignment3/runs/wv6r2hz6' target=\"_blank\">jumping-sweep-2</a></strong> to <a href='https://wandb.ai/shreyashgadgil007/CS6910-Assignment3' target=\"_blank\">Weights & Biases</a> (<a href='https://wandb.me/run' target=\"_blank\">docs</a>)<br/>Sweep page: <a href='https://wandb.ai/shreyashgadgil007/CS6910-Assignment3/sweeps/t1x3tqqp' target=\"_blank\">https://wandb.ai/shreyashgadgil007/CS6910-Assignment3/sweeps/t1x3tqqp</a>"
            ],
            "text/plain": [
              "<IPython.core.display.HTML object>"
            ]
          },
          "metadata": {},
          "output_type": "display_data"
        },
        {
          "data": {
            "text/html": [
              " View project at <a href='https://wandb.ai/shreyashgadgil007/CS6910-Assignment3' target=\"_blank\">https://wandb.ai/shreyashgadgil007/CS6910-Assignment3</a>"
            ],
            "text/plain": [
              "<IPython.core.display.HTML object>"
            ]
          },
          "metadata": {},
          "output_type": "display_data"
        },
        {
          "data": {
            "text/html": [
              " View sweep at <a href='https://wandb.ai/shreyashgadgil007/CS6910-Assignment3/sweeps/t1x3tqqp' target=\"_blank\">https://wandb.ai/shreyashgadgil007/CS6910-Assignment3/sweeps/t1x3tqqp</a>"
            ],
            "text/plain": [
              "<IPython.core.display.HTML object>"
            ]
          },
          "metadata": {},
          "output_type": "display_data"
        },
        {
          "data": {
            "text/html": [
              " View run at <a href='https://wandb.ai/shreyashgadgil007/CS6910-Assignment3/runs/wv6r2hz6' target=\"_blank\">https://wandb.ai/shreyashgadgil007/CS6910-Assignment3/runs/wv6r2hz6</a>"
            ],
            "text/plain": [
              "<IPython.core.display.HTML object>"
            ]
          },
          "metadata": {},
          "output_type": "display_data"
        },
        {
          "name": "stdout",
          "output_type": "stream",
          "text": [
            "Epoch: 01 |Train Loss: 1.398 | Train accuracy: 0.123|Val. Loss: 0.996 | Val accuracy: 0.144\n",
            "Epoch: 02 |Train Loss: 1.183 | Train accuracy: 0.170|Val. Loss: 0.986 | Val accuracy: 0.146\n",
            "Epoch: 03 |Train Loss: 1.135 | Train accuracy: 0.201|Val. Loss: 0.981 | Val accuracy: 0.148\n",
            "Epoch: 04 |Train Loss: 1.112 | Train accuracy: 0.211|Val. Loss: 0.977 | Val accuracy: 0.152\n",
            "Epoch: 05 |Train Loss: 1.095 | Train accuracy: 0.219|Val. Loss: 0.962 | Val accuracy: 0.160\n",
            "Epoch: 06 |Train Loss: 1.074 | Train accuracy: 0.231|Val. Loss: 0.948 | Val accuracy: 0.173\n",
            "Epoch: 07 |Train Loss: 1.055 | Train accuracy: 0.242|Val. Loss: 0.937 | Val accuracy: 0.181\n",
            "Epoch: 08 |Train Loss: 1.034 | Train accuracy: 0.253|Val. Loss: 0.916 | Val accuracy: 0.184\n",
            "Epoch: 09 |Train Loss: 1.016 | Train accuracy: 0.263|Val. Loss: 0.913 | Val accuracy: 0.202\n",
            "Epoch: 10 |Train Loss: 1.001 | Train accuracy: 0.272|Val. Loss: 0.893 | Val accuracy: 0.209\n"
          ]
        },
        {
          "data": {
            "text/html": [
              "Waiting for W&B process to finish... <strong style=\"color:green\">(success).</strong>"
            ],
            "text/plain": [
              "<IPython.core.display.HTML object>"
            ]
          },
          "metadata": {},
          "output_type": "display_data"
        },
        {
          "data": {
            "application/vnd.jupyter.widget-view+json": {
              "model_id": "d2c4d6f23f594ef3b9bb9514eb986abb",
              "version_major": 2,
              "version_minor": 0
            },
            "text/plain": [
              "VBox(children=(Label(value='0.001 MB of 0.001 MB uploaded (0.000 MB deduped)\\r'), FloatProgress(value=1.0, max…"
            ]
          },
          "metadata": {},
          "output_type": "display_data"
        },
        {
          "data": {
            "text/html": [
              "<style>\n",
              "    table.wandb td:nth-child(1) { padding: 0 10px; text-align: left ; width: auto;} td:nth-child(2) {text-align: left ; width: 100%}\n",
              "    .wandb-row { display: flex; flex-direction: row; flex-wrap: wrap; justify-content: flex-start; width: 100% }\n",
              "    .wandb-col { display: flex; flex-direction: column; flex-basis: 100%; flex: 1; padding: 10px; }\n",
              "    </style>\n",
              "<div class=\"wandb-row\"><div class=\"wandb-col\"><h3>Run history:</h3><br/><table class=\"wandb\"><tr><td>train_accuracy</td><td>▁▃▅▅▆▆▇▇██</td></tr><tr><td>train_loss</td><td>█▄▃▃▃▂▂▂▁▁</td></tr><tr><td>val_accuracy</td><td>▁▁▁▂▃▄▅▅▇█</td></tr><tr><td>val_loss</td><td>█▇▇▇▆▅▄▃▂▁</td></tr></table><br/></div><div class=\"wandb-col\"><h3>Run summary:</h3><br/><table class=\"wandb\"><tr><td>train_accuracy</td><td>0.27166</td></tr><tr><td>train_loss</td><td>1.00125</td></tr><tr><td>val_accuracy</td><td>0.2085</td></tr><tr><td>val_loss</td><td>0.89289</td></tr></table><br/></div></div>"
            ],
            "text/plain": [
              "<IPython.core.display.HTML object>"
            ]
          },
          "metadata": {},
          "output_type": "display_data"
        },
        {
          "data": {
            "text/html": [
              " View run <strong style=\"color:#cdcd00\">jumping-sweep-2</strong> at: <a href='https://wandb.ai/shreyashgadgil007/CS6910-Assignment3/runs/wv6r2hz6' target=\"_blank\">https://wandb.ai/shreyashgadgil007/CS6910-Assignment3/runs/wv6r2hz6</a><br/>Synced 5 W&B file(s), 0 media file(s), 0 artifact file(s) and 0 other file(s)"
            ],
            "text/plain": [
              "<IPython.core.display.HTML object>"
            ]
          },
          "metadata": {},
          "output_type": "display_data"
        },
        {
          "data": {
            "text/html": [
              "Find logs at: <code>./wandb/run-20230516_135520-wv6r2hz6/logs</code>"
            ],
            "text/plain": [
              "<IPython.core.display.HTML object>"
            ]
          },
          "metadata": {},
          "output_type": "display_data"
        },
        {
          "name": "stderr",
          "output_type": "stream",
          "text": [
            "\u001b[34m\u001b[1mwandb\u001b[0m: Agent Starting Run: vv0njss1 with config:\n",
            "\u001b[34m\u001b[1mwandb\u001b[0m: \tcell_type: gru\n",
            "\u001b[34m\u001b[1mwandb\u001b[0m: \tdropout: 0.4\n",
            "\u001b[34m\u001b[1mwandb\u001b[0m: \thidden_layers: 256\n",
            "\u001b[34m\u001b[1mwandb\u001b[0m: \tlayer_size: 4\n",
            "\u001b[34m\u001b[1mwandb\u001b[0m: \tlr: 0.0001\n",
            "\u001b[34m\u001b[1mwandb\u001b[0m: \u001b[33mWARNING\u001b[0m Ignored wandb.init() arg project when running a sweep.\n",
            "\u001b[34m\u001b[1mwandb\u001b[0m: \u001b[33mWARNING\u001b[0m Ignored wandb.init() arg entity when running a sweep.\n"
          ]
        },
        {
          "data": {
            "text/html": [
              "Tracking run with wandb version 0.15.2"
            ],
            "text/plain": [
              "<IPython.core.display.HTML object>"
            ]
          },
          "metadata": {},
          "output_type": "display_data"
        },
        {
          "data": {
            "text/html": [
              "Run data is saved locally in <code>/content/wandb/run-20230516_141231-vv0njss1</code>"
            ],
            "text/plain": [
              "<IPython.core.display.HTML object>"
            ]
          },
          "metadata": {},
          "output_type": "display_data"
        },
        {
          "data": {
            "text/html": [
              "Syncing run <strong><a href='https://wandb.ai/shreyashgadgil007/CS6910-Assignment3/runs/vv0njss1' target=\"_blank\">likely-sweep-3</a></strong> to <a href='https://wandb.ai/shreyashgadgil007/CS6910-Assignment3' target=\"_blank\">Weights & Biases</a> (<a href='https://wandb.me/run' target=\"_blank\">docs</a>)<br/>Sweep page: <a href='https://wandb.ai/shreyashgadgil007/CS6910-Assignment3/sweeps/t1x3tqqp' target=\"_blank\">https://wandb.ai/shreyashgadgil007/CS6910-Assignment3/sweeps/t1x3tqqp</a>"
            ],
            "text/plain": [
              "<IPython.core.display.HTML object>"
            ]
          },
          "metadata": {},
          "output_type": "display_data"
        },
        {
          "data": {
            "text/html": [
              " View project at <a href='https://wandb.ai/shreyashgadgil007/CS6910-Assignment3' target=\"_blank\">https://wandb.ai/shreyashgadgil007/CS6910-Assignment3</a>"
            ],
            "text/plain": [
              "<IPython.core.display.HTML object>"
            ]
          },
          "metadata": {},
          "output_type": "display_data"
        },
        {
          "data": {
            "text/html": [
              " View sweep at <a href='https://wandb.ai/shreyashgadgil007/CS6910-Assignment3/sweeps/t1x3tqqp' target=\"_blank\">https://wandb.ai/shreyashgadgil007/CS6910-Assignment3/sweeps/t1x3tqqp</a>"
            ],
            "text/plain": [
              "<IPython.core.display.HTML object>"
            ]
          },
          "metadata": {},
          "output_type": "display_data"
        },
        {
          "data": {
            "text/html": [
              " View run at <a href='https://wandb.ai/shreyashgadgil007/CS6910-Assignment3/runs/vv0njss1' target=\"_blank\">https://wandb.ai/shreyashgadgil007/CS6910-Assignment3/runs/vv0njss1</a>"
            ],
            "text/plain": [
              "<IPython.core.display.HTML object>"
            ]
          },
          "metadata": {},
          "output_type": "display_data"
        },
        {
          "name": "stdout",
          "output_type": "stream",
          "text": [
            "Epoch: 01 |Train Loss: 1.211 | Train accuracy: 0.168|Val. Loss: 0.943 | Val accuracy: 0.168\n",
            "Epoch: 02 |Train Loss: 1.047 | Train accuracy: 0.245|Val. Loss: 0.866 | Val accuracy: 0.246\n",
            "Epoch: 03 |Train Loss: 0.899 | Train accuracy: 0.334|Val. Loss: 0.730 | Val accuracy: 0.353\n",
            "Epoch: 04 |Train Loss: 0.745 | Train accuracy: 0.439|Val. Loss: 0.654 | Val accuracy: 0.434\n",
            "Epoch: 05 |Train Loss: 0.626 | Train accuracy: 0.522|Val. Loss: 0.581 | Val accuracy: 0.489\n",
            "Epoch: 06 |Train Loss: 0.542 | Train accuracy: 0.582|Val. Loss: 0.550 | Val accuracy: 0.530\n",
            "Epoch: 07 |Train Loss: 0.477 | Train accuracy: 0.628|Val. Loss: 0.522 | Val accuracy: 0.559\n",
            "Epoch: 08 |Train Loss: 0.423 | Train accuracy: 0.667|Val. Loss: 0.501 | Val accuracy: 0.589\n",
            "Epoch: 09 |Train Loss: 0.385 | Train accuracy: 0.696|Val. Loss: 0.474 | Val accuracy: 0.612\n",
            "Epoch: 10 |Train Loss: 0.350 | Train accuracy: 0.723|Val. Loss: 0.459 | Val accuracy: 0.635\n"
          ]
        },
        {
          "data": {
            "text/html": [
              "Waiting for W&B process to finish... <strong style=\"color:green\">(success).</strong>"
            ],
            "text/plain": [
              "<IPython.core.display.HTML object>"
            ]
          },
          "metadata": {},
          "output_type": "display_data"
        },
        {
          "data": {
            "text/html": [
              "<style>\n",
              "    table.wandb td:nth-child(1) { padding: 0 10px; text-align: left ; width: auto;} td:nth-child(2) {text-align: left ; width: 100%}\n",
              "    .wandb-row { display: flex; flex-direction: row; flex-wrap: wrap; justify-content: flex-start; width: 100% }\n",
              "    .wandb-col { display: flex; flex-direction: column; flex-basis: 100%; flex: 1; padding: 10px; }\n",
              "    </style>\n",
              "<div class=\"wandb-row\"><div class=\"wandb-col\"><h3>Run history:</h3><br/><table class=\"wandb\"><tr><td>train_accuracy</td><td>▁▂▃▄▅▆▇▇██</td></tr><tr><td>train_loss</td><td>█▇▅▄▃▃▂▂▁▁</td></tr><tr><td>val_accuracy</td><td>▁▂▄▅▆▆▇▇██</td></tr><tr><td>val_loss</td><td>█▇▅▄▃▂▂▂▁▁</td></tr></table><br/></div><div class=\"wandb-col\"><h3>Run summary:</h3><br/><table class=\"wandb\"><tr><td>train_accuracy</td><td>0.72308</td></tr><tr><td>train_loss</td><td>0.34973</td></tr><tr><td>val_accuracy</td><td>0.63526</td></tr><tr><td>val_loss</td><td>0.45895</td></tr></table><br/></div></div>"
            ],
            "text/plain": [
              "<IPython.core.display.HTML object>"
            ]
          },
          "metadata": {},
          "output_type": "display_data"
        },
        {
          "data": {
            "text/html": [
              " View run <strong style=\"color:#cdcd00\">likely-sweep-3</strong> at: <a href='https://wandb.ai/shreyashgadgil007/CS6910-Assignment3/runs/vv0njss1' target=\"_blank\">https://wandb.ai/shreyashgadgil007/CS6910-Assignment3/runs/vv0njss1</a><br/>Synced 5 W&B file(s), 0 media file(s), 0 artifact file(s) and 0 other file(s)"
            ],
            "text/plain": [
              "<IPython.core.display.HTML object>"
            ]
          },
          "metadata": {},
          "output_type": "display_data"
        },
        {
          "data": {
            "text/html": [
              "Find logs at: <code>./wandb/run-20230516_141231-vv0njss1/logs</code>"
            ],
            "text/plain": [
              "<IPython.core.display.HTML object>"
            ]
          },
          "metadata": {},
          "output_type": "display_data"
        },
        {
          "name": "stderr",
          "output_type": "stream",
          "text": [
            "\u001b[34m\u001b[1mwandb\u001b[0m: Agent Starting Run: 9apz8ryn with config:\n",
            "\u001b[34m\u001b[1mwandb\u001b[0m: \tcell_type: gru\n",
            "\u001b[34m\u001b[1mwandb\u001b[0m: \tdropout: 0.6\n",
            "\u001b[34m\u001b[1mwandb\u001b[0m: \thidden_layers: 256\n",
            "\u001b[34m\u001b[1mwandb\u001b[0m: \tlayer_size: 4\n",
            "\u001b[34m\u001b[1mwandb\u001b[0m: \tlr: 0.0001\n",
            "\u001b[34m\u001b[1mwandb\u001b[0m: \u001b[33mWARNING\u001b[0m Ignored wandb.init() arg project when running a sweep.\n",
            "\u001b[34m\u001b[1mwandb\u001b[0m: \u001b[33mWARNING\u001b[0m Ignored wandb.init() arg entity when running a sweep.\n"
          ]
        },
        {
          "data": {
            "text/html": [
              "Tracking run with wandb version 0.15.2"
            ],
            "text/plain": [
              "<IPython.core.display.HTML object>"
            ]
          },
          "metadata": {},
          "output_type": "display_data"
        },
        {
          "data": {
            "text/html": [
              "Run data is saved locally in <code>/content/wandb/run-20230516_143633-9apz8ryn</code>"
            ],
            "text/plain": [
              "<IPython.core.display.HTML object>"
            ]
          },
          "metadata": {},
          "output_type": "display_data"
        },
        {
          "data": {
            "text/html": [
              "Syncing run <strong><a href='https://wandb.ai/shreyashgadgil007/CS6910-Assignment3/runs/9apz8ryn' target=\"_blank\">treasured-sweep-4</a></strong> to <a href='https://wandb.ai/shreyashgadgil007/CS6910-Assignment3' target=\"_blank\">Weights & Biases</a> (<a href='https://wandb.me/run' target=\"_blank\">docs</a>)<br/>Sweep page: <a href='https://wandb.ai/shreyashgadgil007/CS6910-Assignment3/sweeps/t1x3tqqp' target=\"_blank\">https://wandb.ai/shreyashgadgil007/CS6910-Assignment3/sweeps/t1x3tqqp</a>"
            ],
            "text/plain": [
              "<IPython.core.display.HTML object>"
            ]
          },
          "metadata": {},
          "output_type": "display_data"
        },
        {
          "data": {
            "text/html": [
              " View project at <a href='https://wandb.ai/shreyashgadgil007/CS6910-Assignment3' target=\"_blank\">https://wandb.ai/shreyashgadgil007/CS6910-Assignment3</a>"
            ],
            "text/plain": [
              "<IPython.core.display.HTML object>"
            ]
          },
          "metadata": {},
          "output_type": "display_data"
        },
        {
          "data": {
            "text/html": [
              " View sweep at <a href='https://wandb.ai/shreyashgadgil007/CS6910-Assignment3/sweeps/t1x3tqqp' target=\"_blank\">https://wandb.ai/shreyashgadgil007/CS6910-Assignment3/sweeps/t1x3tqqp</a>"
            ],
            "text/plain": [
              "<IPython.core.display.HTML object>"
            ]
          },
          "metadata": {},
          "output_type": "display_data"
        },
        {
          "data": {
            "text/html": [
              " View run at <a href='https://wandb.ai/shreyashgadgil007/CS6910-Assignment3/runs/9apz8ryn' target=\"_blank\">https://wandb.ai/shreyashgadgil007/CS6910-Assignment3/runs/9apz8ryn</a>"
            ],
            "text/plain": [
              "<IPython.core.display.HTML object>"
            ]
          },
          "metadata": {},
          "output_type": "display_data"
        },
        {
          "name": "stdout",
          "output_type": "stream",
          "text": [
            "Epoch: 01 |Train Loss: 1.236 | Train accuracy: 0.157|Val. Loss: 0.971 | Val accuracy: 0.161\n",
            "Epoch: 02 |Train Loss: 1.083 | Train accuracy: 0.225|Val. Loss: 0.886 | Val accuracy: 0.220\n",
            "Epoch: 03 |Train Loss: 0.985 | Train accuracy: 0.282|Val. Loss: 0.818 | Val accuracy: 0.275\n",
            "Epoch: 04 |Train Loss: 0.881 | Train accuracy: 0.351|Val. Loss: 0.747 | Val accuracy: 0.354\n",
            "Epoch: 05 |Train Loss: 0.780 | Train accuracy: 0.418|Val. Loss: 0.678 | Val accuracy: 0.409\n",
            "Epoch: 06 |Train Loss: 0.697 | Train accuracy: 0.472|Val. Loss: 0.657 | Val accuracy: 0.450\n",
            "Epoch: 07 |Train Loss: 0.632 | Train accuracy: 0.517|Val. Loss: 0.609 | Val accuracy: 0.480\n",
            "Epoch: 08 |Train Loss: 0.578 | Train accuracy: 0.556|Val. Loss: 0.574 | Val accuracy: 0.514\n",
            "Epoch: 09 |Train Loss: 0.533 | Train accuracy: 0.588|Val. Loss: 0.553 | Val accuracy: 0.538\n",
            "Epoch: 10 |Train Loss: 0.494 | Train accuracy: 0.616|Val. Loss: 0.545 | Val accuracy: 0.555\n"
          ]
        },
        {
          "data": {
            "text/html": [
              "Waiting for W&B process to finish... <strong style=\"color:green\">(success).</strong>"
            ],
            "text/plain": [
              "<IPython.core.display.HTML object>"
            ]
          },
          "metadata": {},
          "output_type": "display_data"
        },
        {
          "data": {
            "application/vnd.jupyter.widget-view+json": {
              "model_id": "e8e252f6d5d141bba53ec2757bbb498f",
              "version_major": 2,
              "version_minor": 0
            },
            "text/plain": [
              "VBox(children=(Label(value='0.001 MB of 0.010 MB uploaded (0.000 MB deduped)\\r'), FloatProgress(value=0.110107…"
            ]
          },
          "metadata": {},
          "output_type": "display_data"
        },
        {
          "data": {
            "text/html": [
              "<style>\n",
              "    table.wandb td:nth-child(1) { padding: 0 10px; text-align: left ; width: auto;} td:nth-child(2) {text-align: left ; width: 100%}\n",
              "    .wandb-row { display: flex; flex-direction: row; flex-wrap: wrap; justify-content: flex-start; width: 100% }\n",
              "    .wandb-col { display: flex; flex-direction: column; flex-basis: 100%; flex: 1; padding: 10px; }\n",
              "    </style>\n",
              "<div class=\"wandb-row\"><div class=\"wandb-col\"><h3>Run history:</h3><br/><table class=\"wandb\"><tr><td>train_accuracy</td><td>▁▂▃▄▅▆▆▇██</td></tr><tr><td>train_loss</td><td>█▇▆▅▄▃▂▂▁▁</td></tr><tr><td>val_accuracy</td><td>▁▂▃▄▅▆▇▇██</td></tr><tr><td>val_loss</td><td>█▇▅▄▃▃▂▁▁▁</td></tr></table><br/></div><div class=\"wandb-col\"><h3>Run summary:</h3><br/><table class=\"wandb\"><tr><td>train_accuracy</td><td>0.6157</td></tr><tr><td>train_loss</td><td>0.49432</td></tr><tr><td>val_accuracy</td><td>0.5555</td></tr><tr><td>val_loss</td><td>0.54452</td></tr></table><br/></div></div>"
            ],
            "text/plain": [
              "<IPython.core.display.HTML object>"
            ]
          },
          "metadata": {},
          "output_type": "display_data"
        },
        {
          "data": {
            "text/html": [
              " View run <strong style=\"color:#cdcd00\">treasured-sweep-4</strong> at: <a href='https://wandb.ai/shreyashgadgil007/CS6910-Assignment3/runs/9apz8ryn' target=\"_blank\">https://wandb.ai/shreyashgadgil007/CS6910-Assignment3/runs/9apz8ryn</a><br/>Synced 5 W&B file(s), 0 media file(s), 0 artifact file(s) and 0 other file(s)"
            ],
            "text/plain": [
              "<IPython.core.display.HTML object>"
            ]
          },
          "metadata": {},
          "output_type": "display_data"
        },
        {
          "data": {
            "text/html": [
              "Find logs at: <code>./wandb/run-20230516_143633-9apz8ryn/logs</code>"
            ],
            "text/plain": [
              "<IPython.core.display.HTML object>"
            ]
          },
          "metadata": {},
          "output_type": "display_data"
        },
        {
          "name": "stderr",
          "output_type": "stream",
          "text": [
            "\u001b[34m\u001b[1mwandb\u001b[0m: Sweep Agent: Waiting for job.\n",
            "\u001b[34m\u001b[1mwandb\u001b[0m: Job received.\n",
            "\u001b[34m\u001b[1mwandb\u001b[0m: Agent Starting Run: z37xno1r with config:\n",
            "\u001b[34m\u001b[1mwandb\u001b[0m: \tcell_type: gru\n",
            "\u001b[34m\u001b[1mwandb\u001b[0m: \tdropout: 0.6\n",
            "\u001b[34m\u001b[1mwandb\u001b[0m: \thidden_layers: 256\n",
            "\u001b[34m\u001b[1mwandb\u001b[0m: \tlayer_size: 4\n",
            "\u001b[34m\u001b[1mwandb\u001b[0m: \tlr: 0.0001\n",
            "\u001b[34m\u001b[1mwandb\u001b[0m: \u001b[33mWARNING\u001b[0m Ignored wandb.init() arg project when running a sweep.\n",
            "\u001b[34m\u001b[1mwandb\u001b[0m: \u001b[33mWARNING\u001b[0m Ignored wandb.init() arg entity when running a sweep.\n"
          ]
        },
        {
          "data": {
            "text/html": [
              "Tracking run with wandb version 0.15.2"
            ],
            "text/plain": [
              "<IPython.core.display.HTML object>"
            ]
          },
          "metadata": {},
          "output_type": "display_data"
        },
        {
          "data": {
            "text/html": [
              "Run data is saved locally in <code>/content/wandb/run-20230516_150033-z37xno1r</code>"
            ],
            "text/plain": [
              "<IPython.core.display.HTML object>"
            ]
          },
          "metadata": {},
          "output_type": "display_data"
        },
        {
          "data": {
            "text/html": [
              "Syncing run <strong><a href='https://wandb.ai/shreyashgadgil007/CS6910-Assignment3/runs/z37xno1r' target=\"_blank\">lucky-sweep-5</a></strong> to <a href='https://wandb.ai/shreyashgadgil007/CS6910-Assignment3' target=\"_blank\">Weights & Biases</a> (<a href='https://wandb.me/run' target=\"_blank\">docs</a>)<br/>Sweep page: <a href='https://wandb.ai/shreyashgadgil007/CS6910-Assignment3/sweeps/t1x3tqqp' target=\"_blank\">https://wandb.ai/shreyashgadgil007/CS6910-Assignment3/sweeps/t1x3tqqp</a>"
            ],
            "text/plain": [
              "<IPython.core.display.HTML object>"
            ]
          },
          "metadata": {},
          "output_type": "display_data"
        },
        {
          "data": {
            "text/html": [
              " View project at <a href='https://wandb.ai/shreyashgadgil007/CS6910-Assignment3' target=\"_blank\">https://wandb.ai/shreyashgadgil007/CS6910-Assignment3</a>"
            ],
            "text/plain": [
              "<IPython.core.display.HTML object>"
            ]
          },
          "metadata": {},
          "output_type": "display_data"
        },
        {
          "data": {
            "text/html": [
              " View sweep at <a href='https://wandb.ai/shreyashgadgil007/CS6910-Assignment3/sweeps/t1x3tqqp' target=\"_blank\">https://wandb.ai/shreyashgadgil007/CS6910-Assignment3/sweeps/t1x3tqqp</a>"
            ],
            "text/plain": [
              "<IPython.core.display.HTML object>"
            ]
          },
          "metadata": {},
          "output_type": "display_data"
        },
        {
          "data": {
            "text/html": [
              " View run at <a href='https://wandb.ai/shreyashgadgil007/CS6910-Assignment3/runs/z37xno1r' target=\"_blank\">https://wandb.ai/shreyashgadgil007/CS6910-Assignment3/runs/z37xno1r</a>"
            ],
            "text/plain": [
              "<IPython.core.display.HTML object>"
            ]
          },
          "metadata": {},
          "output_type": "display_data"
        },
        {
          "name": "stdout",
          "output_type": "stream",
          "text": [
            "Epoch: 01 |Train Loss: 1.240 | Train accuracy: 0.156|Val. Loss: 0.969 | Val accuracy: 0.162\n",
            "Epoch: 02 |Train Loss: 1.093 | Train accuracy: 0.226|Val. Loss: 0.915 | Val accuracy: 0.235\n",
            "Epoch: 03 |Train Loss: 0.981 | Train accuracy: 0.292|Val. Loss: 0.826 | Val accuracy: 0.309\n",
            "Epoch: 04 |Train Loss: 0.864 | Train accuracy: 0.367|Val. Loss: 0.750 | Val accuracy: 0.370\n",
            "Epoch: 05 |Train Loss: 0.762 | Train accuracy: 0.432|Val. Loss: 0.688 | Val accuracy: 0.419\n",
            "Epoch: 06 |Train Loss: 0.681 | Train accuracy: 0.484|Val. Loss: 0.672 | Val accuracy: 0.455\n",
            "Epoch: 07 |Train Loss: 0.617 | Train accuracy: 0.528|Val. Loss: 0.624 | Val accuracy: 0.487\n",
            "Epoch: 08 |Train Loss: 0.563 | Train accuracy: 0.566|Val. Loss: 0.607 | Val accuracy: 0.507\n",
            "Epoch: 09 |Train Loss: 0.519 | Train accuracy: 0.597|Val. Loss: 0.570 | Val accuracy: 0.530\n",
            "Epoch: 10 |Train Loss: 0.486 | Train accuracy: 0.621|Val. Loss: 0.571 | Val accuracy: 0.544\n"
          ]
        },
        {
          "data": {
            "text/html": [
              "Waiting for W&B process to finish... <strong style=\"color:green\">(success).</strong>"
            ],
            "text/plain": [
              "<IPython.core.display.HTML object>"
            ]
          },
          "metadata": {},
          "output_type": "display_data"
        },
        {
          "data": {
            "text/html": [
              "<style>\n",
              "    table.wandb td:nth-child(1) { padding: 0 10px; text-align: left ; width: auto;} td:nth-child(2) {text-align: left ; width: 100%}\n",
              "    .wandb-row { display: flex; flex-direction: row; flex-wrap: wrap; justify-content: flex-start; width: 100% }\n",
              "    .wandb-col { display: flex; flex-direction: column; flex-basis: 100%; flex: 1; padding: 10px; }\n",
              "    </style>\n",
              "<div class=\"wandb-row\"><div class=\"wandb-col\"><h3>Run history:</h3><br/><table class=\"wandb\"><tr><td>train_accuracy</td><td>▁▂▃▄▅▆▇▇██</td></tr><tr><td>train_loss</td><td>█▇▆▅▄▃▂▂▁▁</td></tr><tr><td>val_accuracy</td><td>▁▂▄▅▆▆▇▇██</td></tr><tr><td>val_loss</td><td>█▇▅▄▃▃▂▂▁▁</td></tr></table><br/></div><div class=\"wandb-col\"><h3>Run summary:</h3><br/><table class=\"wandb\"><tr><td>train_accuracy</td><td>0.62129</td></tr><tr><td>train_loss</td><td>0.48576</td></tr><tr><td>val_accuracy</td><td>0.54377</td></tr><tr><td>val_loss</td><td>0.57073</td></tr></table><br/></div></div>"
            ],
            "text/plain": [
              "<IPython.core.display.HTML object>"
            ]
          },
          "metadata": {},
          "output_type": "display_data"
        },
        {
          "data": {
            "text/html": [
              " View run <strong style=\"color:#cdcd00\">lucky-sweep-5</strong> at: <a href='https://wandb.ai/shreyashgadgil007/CS6910-Assignment3/runs/z37xno1r' target=\"_blank\">https://wandb.ai/shreyashgadgil007/CS6910-Assignment3/runs/z37xno1r</a><br/>Synced 5 W&B file(s), 0 media file(s), 0 artifact file(s) and 0 other file(s)"
            ],
            "text/plain": [
              "<IPython.core.display.HTML object>"
            ]
          },
          "metadata": {},
          "output_type": "display_data"
        },
        {
          "data": {
            "text/html": [
              "Find logs at: <code>./wandb/run-20230516_150033-z37xno1r/logs</code>"
            ],
            "text/plain": [
              "<IPython.core.display.HTML object>"
            ]
          },
          "metadata": {},
          "output_type": "display_data"
        },
        {
          "name": "stderr",
          "output_type": "stream",
          "text": [
            "\u001b[34m\u001b[1mwandb\u001b[0m: Sweep Agent: Waiting for job.\n",
            "\u001b[34m\u001b[1mwandb\u001b[0m: Job received.\n",
            "\u001b[34m\u001b[1mwandb\u001b[0m: Agent Starting Run: i8us8s8z with config:\n",
            "\u001b[34m\u001b[1mwandb\u001b[0m: \tcell_type: gru\n",
            "\u001b[34m\u001b[1mwandb\u001b[0m: \tdropout: 0.6\n",
            "\u001b[34m\u001b[1mwandb\u001b[0m: \thidden_layers: 256\n",
            "\u001b[34m\u001b[1mwandb\u001b[0m: \tlayer_size: 4\n",
            "\u001b[34m\u001b[1mwandb\u001b[0m: \tlr: 0.001\n",
            "\u001b[34m\u001b[1mwandb\u001b[0m: \u001b[33mWARNING\u001b[0m Ignored wandb.init() arg project when running a sweep.\n",
            "\u001b[34m\u001b[1mwandb\u001b[0m: \u001b[33mWARNING\u001b[0m Ignored wandb.init() arg entity when running a sweep.\n"
          ]
        },
        {
          "data": {
            "text/html": [
              "Tracking run with wandb version 0.15.2"
            ],
            "text/plain": [
              "<IPython.core.display.HTML object>"
            ]
          },
          "metadata": {},
          "output_type": "display_data"
        },
        {
          "data": {
            "text/html": [
              "Run data is saved locally in <code>/content/wandb/run-20230516_152435-i8us8s8z</code>"
            ],
            "text/plain": [
              "<IPython.core.display.HTML object>"
            ]
          },
          "metadata": {},
          "output_type": "display_data"
        },
        {
          "data": {
            "text/html": [
              "Syncing run <strong><a href='https://wandb.ai/shreyashgadgil007/CS6910-Assignment3/runs/i8us8s8z' target=\"_blank\">curious-sweep-6</a></strong> to <a href='https://wandb.ai/shreyashgadgil007/CS6910-Assignment3' target=\"_blank\">Weights & Biases</a> (<a href='https://wandb.me/run' target=\"_blank\">docs</a>)<br/>Sweep page: <a href='https://wandb.ai/shreyashgadgil007/CS6910-Assignment3/sweeps/t1x3tqqp' target=\"_blank\">https://wandb.ai/shreyashgadgil007/CS6910-Assignment3/sweeps/t1x3tqqp</a>"
            ],
            "text/plain": [
              "<IPython.core.display.HTML object>"
            ]
          },
          "metadata": {},
          "output_type": "display_data"
        },
        {
          "data": {
            "text/html": [
              " View project at <a href='https://wandb.ai/shreyashgadgil007/CS6910-Assignment3' target=\"_blank\">https://wandb.ai/shreyashgadgil007/CS6910-Assignment3</a>"
            ],
            "text/plain": [
              "<IPython.core.display.HTML object>"
            ]
          },
          "metadata": {},
          "output_type": "display_data"
        },
        {
          "data": {
            "text/html": [
              " View sweep at <a href='https://wandb.ai/shreyashgadgil007/CS6910-Assignment3/sweeps/t1x3tqqp' target=\"_blank\">https://wandb.ai/shreyashgadgil007/CS6910-Assignment3/sweeps/t1x3tqqp</a>"
            ],
            "text/plain": [
              "<IPython.core.display.HTML object>"
            ]
          },
          "metadata": {},
          "output_type": "display_data"
        },
        {
          "data": {
            "text/html": [
              " View run at <a href='https://wandb.ai/shreyashgadgil007/CS6910-Assignment3/runs/i8us8s8z' target=\"_blank\">https://wandb.ai/shreyashgadgil007/CS6910-Assignment3/runs/i8us8s8z</a>"
            ],
            "text/plain": [
              "<IPython.core.display.HTML object>"
            ]
          },
          "metadata": {},
          "output_type": "display_data"
        },
        {
          "name": "stdout",
          "output_type": "stream",
          "text": [
            "Epoch: 01 |Train Loss: 0.894 | Train accuracy: 0.360|Val. Loss: 0.610 | Val accuracy: 0.470\n",
            "Epoch: 02 |Train Loss: 0.524 | Train accuracy: 0.599|Val. Loss: 0.528 | Val accuracy: 0.558\n",
            "Epoch: 03 |Train Loss: 0.436 | Train accuracy: 0.663|Val. Loss: 0.500 | Val accuracy: 0.592\n",
            "Epoch: 04 |Train Loss: 0.395 | Train accuracy: 0.694|Val. Loss: 0.486 | Val accuracy: 0.611\n"
          ]
        },
        {
          "name": "stderr",
          "output_type": "stream",
          "text": [
            "\u001b[34m\u001b[1mwandb\u001b[0m: Ctrl + C detected. Stopping sweep.\n"
          ]
        },
        {
          "name": "stdout",
          "output_type": "stream",
          "text": [
            "Error in callback <function _WandbInit._pause_backend at 0x7ffaa8348280> (for post_run_cell):\n"
          ]
        },
        {
          "ename": "BrokenPipeError",
          "evalue": "ignored",
          "output_type": "error",
          "traceback": [
            "\u001b[0;31m---------------------------------------------------------------------------\u001b[0m",
            "\u001b[0;31mBrokenPipeError\u001b[0m                           Traceback (most recent call last)",
            "\u001b[0;32m/usr/local/lib/python3.10/dist-packages/backcall/backcall.py\u001b[0m in \u001b[0;36madapted\u001b[0;34m(*args, **kwargs)\u001b[0m\n\u001b[1;32m    102\u001b[0m                 \u001b[0mkwargs\u001b[0m\u001b[0;34m.\u001b[0m\u001b[0mpop\u001b[0m\u001b[0;34m(\u001b[0m\u001b[0mname\u001b[0m\u001b[0;34m)\u001b[0m\u001b[0;34m\u001b[0m\u001b[0;34m\u001b[0m\u001b[0m\n\u001b[1;32m    103\u001b[0m \u001b[0;31m#            print(args, kwargs, unmatched_pos, cut_positional, unmatched_kw)\u001b[0m\u001b[0;34m\u001b[0m\u001b[0;34m\u001b[0m\u001b[0m\n\u001b[0;32m--> 104\u001b[0;31m             \u001b[0;32mreturn\u001b[0m \u001b[0mcallback\u001b[0m\u001b[0;34m(\u001b[0m\u001b[0;34m*\u001b[0m\u001b[0margs\u001b[0m\u001b[0;34m,\u001b[0m \u001b[0;34m**\u001b[0m\u001b[0mkwargs\u001b[0m\u001b[0;34m)\u001b[0m\u001b[0;34m\u001b[0m\u001b[0;34m\u001b[0m\u001b[0m\n\u001b[0m\u001b[1;32m    105\u001b[0m \u001b[0;34m\u001b[0m\u001b[0m\n\u001b[1;32m    106\u001b[0m         \u001b[0;32mreturn\u001b[0m \u001b[0madapted\u001b[0m\u001b[0;34m\u001b[0m\u001b[0;34m\u001b[0m\u001b[0m\n",
            "\u001b[0;32m/usr/local/lib/python3.10/dist-packages/wandb/sdk/wandb_init.py\u001b[0m in \u001b[0;36m_pause_backend\u001b[0;34m(self)\u001b[0m\n\u001b[1;32m    417\u001b[0m         \u001b[0;32mif\u001b[0m \u001b[0mself\u001b[0m\u001b[0;34m.\u001b[0m\u001b[0mbackend\u001b[0m\u001b[0;34m.\u001b[0m\u001b[0minterface\u001b[0m \u001b[0;32mis\u001b[0m \u001b[0;32mnot\u001b[0m \u001b[0;32mNone\u001b[0m\u001b[0;34m:\u001b[0m\u001b[0;34m\u001b[0m\u001b[0;34m\u001b[0m\u001b[0m\n\u001b[1;32m    418\u001b[0m             \u001b[0mlogger\u001b[0m\u001b[0;34m.\u001b[0m\u001b[0minfo\u001b[0m\u001b[0;34m(\u001b[0m\u001b[0;34m\"pausing backend\"\u001b[0m\u001b[0;34m)\u001b[0m  \u001b[0;31m# type: ignore\u001b[0m\u001b[0;34m\u001b[0m\u001b[0;34m\u001b[0m\u001b[0m\n\u001b[0;32m--> 419\u001b[0;31m             \u001b[0mself\u001b[0m\u001b[0;34m.\u001b[0m\u001b[0mbackend\u001b[0m\u001b[0;34m.\u001b[0m\u001b[0minterface\u001b[0m\u001b[0;34m.\u001b[0m\u001b[0mpublish_pause\u001b[0m\u001b[0;34m(\u001b[0m\u001b[0;34m)\u001b[0m\u001b[0;34m\u001b[0m\u001b[0;34m\u001b[0m\u001b[0m\n\u001b[0m\u001b[1;32m    420\u001b[0m \u001b[0;34m\u001b[0m\u001b[0m\n\u001b[1;32m    421\u001b[0m     \u001b[0;32mdef\u001b[0m \u001b[0m_resume_backend\u001b[0m\u001b[0;34m(\u001b[0m\u001b[0mself\u001b[0m\u001b[0;34m)\u001b[0m \u001b[0;34m->\u001b[0m \u001b[0;32mNone\u001b[0m\u001b[0;34m:\u001b[0m\u001b[0;34m\u001b[0m\u001b[0;34m\u001b[0m\u001b[0m\n",
            "\u001b[0;32m/usr/local/lib/python3.10/dist-packages/wandb/sdk/interface/interface.py\u001b[0m in \u001b[0;36mpublish_pause\u001b[0;34m(self)\u001b[0m\n\u001b[1;32m    663\u001b[0m     \u001b[0;32mdef\u001b[0m \u001b[0mpublish_pause\u001b[0m\u001b[0;34m(\u001b[0m\u001b[0mself\u001b[0m\u001b[0;34m)\u001b[0m \u001b[0;34m->\u001b[0m \u001b[0;32mNone\u001b[0m\u001b[0;34m:\u001b[0m\u001b[0;34m\u001b[0m\u001b[0;34m\u001b[0m\u001b[0m\n\u001b[1;32m    664\u001b[0m         \u001b[0mpause\u001b[0m \u001b[0;34m=\u001b[0m \u001b[0mpb\u001b[0m\u001b[0;34m.\u001b[0m\u001b[0mPauseRequest\u001b[0m\u001b[0;34m(\u001b[0m\u001b[0;34m)\u001b[0m\u001b[0;34m\u001b[0m\u001b[0;34m\u001b[0m\u001b[0m\n\u001b[0;32m--> 665\u001b[0;31m         \u001b[0mself\u001b[0m\u001b[0;34m.\u001b[0m\u001b[0m_publish_pause\u001b[0m\u001b[0;34m(\u001b[0m\u001b[0mpause\u001b[0m\u001b[0;34m)\u001b[0m\u001b[0;34m\u001b[0m\u001b[0;34m\u001b[0m\u001b[0m\n\u001b[0m\u001b[1;32m    666\u001b[0m \u001b[0;34m\u001b[0m\u001b[0m\n\u001b[1;32m    667\u001b[0m     \u001b[0;34m@\u001b[0m\u001b[0mabstractmethod\u001b[0m\u001b[0;34m\u001b[0m\u001b[0;34m\u001b[0m\u001b[0m\n",
            "\u001b[0;32m/usr/local/lib/python3.10/dist-packages/wandb/sdk/interface/interface_shared.py\u001b[0m in \u001b[0;36m_publish_pause\u001b[0;34m(self, pause)\u001b[0m\n\u001b[1;32m    338\u001b[0m     \u001b[0;32mdef\u001b[0m \u001b[0m_publish_pause\u001b[0m\u001b[0;34m(\u001b[0m\u001b[0mself\u001b[0m\u001b[0;34m,\u001b[0m \u001b[0mpause\u001b[0m\u001b[0;34m:\u001b[0m \u001b[0mpb\u001b[0m\u001b[0;34m.\u001b[0m\u001b[0mPauseRequest\u001b[0m\u001b[0;34m)\u001b[0m \u001b[0;34m->\u001b[0m \u001b[0;32mNone\u001b[0m\u001b[0;34m:\u001b[0m\u001b[0;34m\u001b[0m\u001b[0;34m\u001b[0m\u001b[0m\n\u001b[1;32m    339\u001b[0m         \u001b[0mrec\u001b[0m \u001b[0;34m=\u001b[0m \u001b[0mself\u001b[0m\u001b[0;34m.\u001b[0m\u001b[0m_make_request\u001b[0m\u001b[0;34m(\u001b[0m\u001b[0mpause\u001b[0m\u001b[0;34m=\u001b[0m\u001b[0mpause\u001b[0m\u001b[0;34m)\u001b[0m\u001b[0;34m\u001b[0m\u001b[0;34m\u001b[0m\u001b[0m\n\u001b[0;32m--> 340\u001b[0;31m         \u001b[0mself\u001b[0m\u001b[0;34m.\u001b[0m\u001b[0m_publish\u001b[0m\u001b[0;34m(\u001b[0m\u001b[0mrec\u001b[0m\u001b[0;34m)\u001b[0m\u001b[0;34m\u001b[0m\u001b[0;34m\u001b[0m\u001b[0m\n\u001b[0m\u001b[1;32m    341\u001b[0m \u001b[0;34m\u001b[0m\u001b[0m\n\u001b[1;32m    342\u001b[0m     \u001b[0;32mdef\u001b[0m \u001b[0m_publish_resume\u001b[0m\u001b[0;34m(\u001b[0m\u001b[0mself\u001b[0m\u001b[0;34m,\u001b[0m \u001b[0mresume\u001b[0m\u001b[0;34m:\u001b[0m \u001b[0mpb\u001b[0m\u001b[0;34m.\u001b[0m\u001b[0mResumeRequest\u001b[0m\u001b[0;34m)\u001b[0m \u001b[0;34m->\u001b[0m \u001b[0;32mNone\u001b[0m\u001b[0;34m:\u001b[0m\u001b[0;34m\u001b[0m\u001b[0;34m\u001b[0m\u001b[0m\n",
            "\u001b[0;32m/usr/local/lib/python3.10/dist-packages/wandb/sdk/interface/interface_sock.py\u001b[0m in \u001b[0;36m_publish\u001b[0;34m(self, record, local)\u001b[0m\n\u001b[1;32m     49\u001b[0m     \u001b[0;32mdef\u001b[0m \u001b[0m_publish\u001b[0m\u001b[0;34m(\u001b[0m\u001b[0mself\u001b[0m\u001b[0;34m,\u001b[0m \u001b[0mrecord\u001b[0m\u001b[0;34m:\u001b[0m \u001b[0;34m\"pb.Record\"\u001b[0m\u001b[0;34m,\u001b[0m \u001b[0mlocal\u001b[0m\u001b[0;34m:\u001b[0m \u001b[0mOptional\u001b[0m\u001b[0;34m[\u001b[0m\u001b[0mbool\u001b[0m\u001b[0;34m]\u001b[0m \u001b[0;34m=\u001b[0m \u001b[0;32mNone\u001b[0m\u001b[0;34m)\u001b[0m \u001b[0;34m->\u001b[0m \u001b[0;32mNone\u001b[0m\u001b[0;34m:\u001b[0m\u001b[0;34m\u001b[0m\u001b[0;34m\u001b[0m\u001b[0m\n\u001b[1;32m     50\u001b[0m         \u001b[0mself\u001b[0m\u001b[0;34m.\u001b[0m\u001b[0m_assign\u001b[0m\u001b[0;34m(\u001b[0m\u001b[0mrecord\u001b[0m\u001b[0;34m)\u001b[0m\u001b[0;34m\u001b[0m\u001b[0;34m\u001b[0m\u001b[0m\n\u001b[0;32m---> 51\u001b[0;31m         \u001b[0mself\u001b[0m\u001b[0;34m.\u001b[0m\u001b[0m_sock_client\u001b[0m\u001b[0;34m.\u001b[0m\u001b[0msend_record_publish\u001b[0m\u001b[0;34m(\u001b[0m\u001b[0mrecord\u001b[0m\u001b[0;34m)\u001b[0m\u001b[0;34m\u001b[0m\u001b[0;34m\u001b[0m\u001b[0m\n\u001b[0m\u001b[1;32m     52\u001b[0m \u001b[0;34m\u001b[0m\u001b[0m\n\u001b[1;32m     53\u001b[0m     def _communicate_async(\n",
            "\u001b[0;32m/usr/local/lib/python3.10/dist-packages/wandb/sdk/lib/sock_client.py\u001b[0m in \u001b[0;36msend_record_publish\u001b[0;34m(self, record)\u001b[0m\n\u001b[1;32m    219\u001b[0m         \u001b[0mserver_req\u001b[0m \u001b[0;34m=\u001b[0m \u001b[0mspb\u001b[0m\u001b[0;34m.\u001b[0m\u001b[0mServerRequest\u001b[0m\u001b[0;34m(\u001b[0m\u001b[0;34m)\u001b[0m\u001b[0;34m\u001b[0m\u001b[0;34m\u001b[0m\u001b[0m\n\u001b[1;32m    220\u001b[0m         \u001b[0mserver_req\u001b[0m\u001b[0;34m.\u001b[0m\u001b[0mrecord_publish\u001b[0m\u001b[0;34m.\u001b[0m\u001b[0mCopyFrom\u001b[0m\u001b[0;34m(\u001b[0m\u001b[0mrecord\u001b[0m\u001b[0;34m)\u001b[0m\u001b[0;34m\u001b[0m\u001b[0;34m\u001b[0m\u001b[0m\n\u001b[0;32m--> 221\u001b[0;31m         \u001b[0mself\u001b[0m\u001b[0;34m.\u001b[0m\u001b[0msend_server_request\u001b[0m\u001b[0;34m(\u001b[0m\u001b[0mserver_req\u001b[0m\u001b[0;34m)\u001b[0m\u001b[0;34m\u001b[0m\u001b[0;34m\u001b[0m\u001b[0m\n\u001b[0m\u001b[1;32m    222\u001b[0m \u001b[0;34m\u001b[0m\u001b[0m\n\u001b[1;32m    223\u001b[0m     \u001b[0;32mdef\u001b[0m \u001b[0m_extract_packet_bytes\u001b[0m\u001b[0;34m(\u001b[0m\u001b[0mself\u001b[0m\u001b[0;34m)\u001b[0m \u001b[0;34m->\u001b[0m \u001b[0mOptional\u001b[0m\u001b[0;34m[\u001b[0m\u001b[0mbytes\u001b[0m\u001b[0;34m]\u001b[0m\u001b[0;34m:\u001b[0m\u001b[0;34m\u001b[0m\u001b[0;34m\u001b[0m\u001b[0m\n",
            "\u001b[0;32m/usr/local/lib/python3.10/dist-packages/wandb/sdk/lib/sock_client.py\u001b[0m in \u001b[0;36msend_server_request\u001b[0;34m(self, msg)\u001b[0m\n\u001b[1;32m    153\u001b[0m \u001b[0;34m\u001b[0m\u001b[0m\n\u001b[1;32m    154\u001b[0m     \u001b[0;32mdef\u001b[0m \u001b[0msend_server_request\u001b[0m\u001b[0;34m(\u001b[0m\u001b[0mself\u001b[0m\u001b[0;34m,\u001b[0m \u001b[0mmsg\u001b[0m\u001b[0;34m:\u001b[0m \u001b[0mAny\u001b[0m\u001b[0;34m)\u001b[0m \u001b[0;34m->\u001b[0m \u001b[0;32mNone\u001b[0m\u001b[0;34m:\u001b[0m\u001b[0;34m\u001b[0m\u001b[0;34m\u001b[0m\u001b[0m\n\u001b[0;32m--> 155\u001b[0;31m         \u001b[0mself\u001b[0m\u001b[0;34m.\u001b[0m\u001b[0m_send_message\u001b[0m\u001b[0;34m(\u001b[0m\u001b[0mmsg\u001b[0m\u001b[0;34m)\u001b[0m\u001b[0;34m\u001b[0m\u001b[0;34m\u001b[0m\u001b[0m\n\u001b[0m\u001b[1;32m    156\u001b[0m \u001b[0;34m\u001b[0m\u001b[0m\n\u001b[1;32m    157\u001b[0m     \u001b[0;32mdef\u001b[0m \u001b[0msend_server_response\u001b[0m\u001b[0;34m(\u001b[0m\u001b[0mself\u001b[0m\u001b[0;34m,\u001b[0m \u001b[0mmsg\u001b[0m\u001b[0;34m:\u001b[0m \u001b[0mAny\u001b[0m\u001b[0;34m)\u001b[0m \u001b[0;34m->\u001b[0m \u001b[0;32mNone\u001b[0m\u001b[0;34m:\u001b[0m\u001b[0;34m\u001b[0m\u001b[0;34m\u001b[0m\u001b[0m\n",
            "\u001b[0;32m/usr/local/lib/python3.10/dist-packages/wandb/sdk/lib/sock_client.py\u001b[0m in \u001b[0;36m_send_message\u001b[0;34m(self, msg)\u001b[0m\n\u001b[1;32m    150\u001b[0m         \u001b[0mheader\u001b[0m \u001b[0;34m=\u001b[0m \u001b[0mstruct\u001b[0m\u001b[0;34m.\u001b[0m\u001b[0mpack\u001b[0m\u001b[0;34m(\u001b[0m\u001b[0;34m\"<BI\"\u001b[0m\u001b[0;34m,\u001b[0m \u001b[0mord\u001b[0m\u001b[0;34m(\u001b[0m\u001b[0;34m\"W\"\u001b[0m\u001b[0;34m)\u001b[0m\u001b[0;34m,\u001b[0m \u001b[0mraw_size\u001b[0m\u001b[0;34m)\u001b[0m\u001b[0;34m\u001b[0m\u001b[0;34m\u001b[0m\u001b[0m\n\u001b[1;32m    151\u001b[0m         \u001b[0;32mwith\u001b[0m \u001b[0mself\u001b[0m\u001b[0;34m.\u001b[0m\u001b[0m_lock\u001b[0m\u001b[0;34m:\u001b[0m\u001b[0;34m\u001b[0m\u001b[0;34m\u001b[0m\u001b[0m\n\u001b[0;32m--> 152\u001b[0;31m             \u001b[0mself\u001b[0m\u001b[0;34m.\u001b[0m\u001b[0m_sendall_with_error_handle\u001b[0m\u001b[0;34m(\u001b[0m\u001b[0mheader\u001b[0m \u001b[0;34m+\u001b[0m \u001b[0mdata\u001b[0m\u001b[0;34m)\u001b[0m\u001b[0;34m\u001b[0m\u001b[0;34m\u001b[0m\u001b[0m\n\u001b[0m\u001b[1;32m    153\u001b[0m \u001b[0;34m\u001b[0m\u001b[0m\n\u001b[1;32m    154\u001b[0m     \u001b[0;32mdef\u001b[0m \u001b[0msend_server_request\u001b[0m\u001b[0;34m(\u001b[0m\u001b[0mself\u001b[0m\u001b[0;34m,\u001b[0m \u001b[0mmsg\u001b[0m\u001b[0;34m:\u001b[0m \u001b[0mAny\u001b[0m\u001b[0;34m)\u001b[0m \u001b[0;34m->\u001b[0m \u001b[0;32mNone\u001b[0m\u001b[0;34m:\u001b[0m\u001b[0;34m\u001b[0m\u001b[0;34m\u001b[0m\u001b[0m\n",
            "\u001b[0;32m/usr/local/lib/python3.10/dist-packages/wandb/sdk/lib/sock_client.py\u001b[0m in \u001b[0;36m_sendall_with_error_handle\u001b[0;34m(self, data)\u001b[0m\n\u001b[1;32m    128\u001b[0m             \u001b[0mstart_time\u001b[0m \u001b[0;34m=\u001b[0m \u001b[0mtime\u001b[0m\u001b[0;34m.\u001b[0m\u001b[0mmonotonic\u001b[0m\u001b[0;34m(\u001b[0m\u001b[0;34m)\u001b[0m\u001b[0;34m\u001b[0m\u001b[0;34m\u001b[0m\u001b[0m\n\u001b[1;32m    129\u001b[0m             \u001b[0;32mtry\u001b[0m\u001b[0;34m:\u001b[0m\u001b[0;34m\u001b[0m\u001b[0;34m\u001b[0m\u001b[0m\n\u001b[0;32m--> 130\u001b[0;31m                 \u001b[0msent\u001b[0m \u001b[0;34m=\u001b[0m \u001b[0mself\u001b[0m\u001b[0;34m.\u001b[0m\u001b[0m_sock\u001b[0m\u001b[0;34m.\u001b[0m\u001b[0msend\u001b[0m\u001b[0;34m(\u001b[0m\u001b[0mdata\u001b[0m\u001b[0;34m)\u001b[0m\u001b[0;34m\u001b[0m\u001b[0;34m\u001b[0m\u001b[0m\n\u001b[0m\u001b[1;32m    131\u001b[0m                 \u001b[0;31m# sent equal to 0 indicates a closed socket\u001b[0m\u001b[0;34m\u001b[0m\u001b[0;34m\u001b[0m\u001b[0m\n\u001b[1;32m    132\u001b[0m                 \u001b[0;32mif\u001b[0m \u001b[0msent\u001b[0m \u001b[0;34m==\u001b[0m \u001b[0;36m0\u001b[0m\u001b[0;34m:\u001b[0m\u001b[0;34m\u001b[0m\u001b[0;34m\u001b[0m\u001b[0m\n",
            "\u001b[0;31mBrokenPipeError\u001b[0m: [Errno 32] Broken pipe"
          ]
        }
      ],
      "source": [
        "sweep_config = {\n",
        "    'method': 'bayes', #grid, random,bayes\n",
        "    'metric': {\n",
        "      'name': 'val_accuracy',\n",
        "      'goal': 'maximize'  \n",
        "    },\n",
        "    'parameters': {\n",
        "        'lr': {\n",
        "            'values': [0.001,0.0001]\n",
        "        },\n",
        "        'layer_size': {\n",
        "            'values': [1,2,3,4]\n",
        "        },        \n",
        "        'cell_type':{\n",
        "            'values':['rnn','lstm','gru']\n",
        "        },\n",
        "        'dropout':{\n",
        "            'values':[0,0.2,0.4,0.6]\n",
        "        },\n",
        "        'hidden_layers':{\n",
        "            'values':[64,128,256]\n",
        "        },\n",
        "        \n",
        "    }\n",
        "}\n",
        "\n",
        "sweep_id = wandb.sweep(sweep_config, entity='shreyashgadgil007', project=\"CS6910-Assignment3\")\n",
        "\n",
        "def sweep_train():\n",
        "  # Default values for hyper-parameters we're going to sweep over\n",
        "  config_defaults = {\n",
        "      'lr':0.0001,\n",
        "      'layer_size':4,\n",
        "      'cell_type':'lstm',\n",
        "      'dropout':0.4,\n",
        "      'hidden_layers':128,\n",
        "  }\n",
        "\n",
        "  # Initialize a new wandb run\n",
        "  wandb.init(project='CS6910-Assignment3', entity='shreyashgadgil007',config=config_defaults)\n",
        "  wandb.run.name = 'cell:'+ str(wandb.config.cell_type)+' ;lr:'+str(wandb.config.lr)+ ' ;layer_size:'+str(wandb.config.layer_size)+ ' ;dropout:'+str(wandb.config.dropout)+' ;hidden:'+str(wandb.config.hidden_layers)\n",
        "  config = wandb.config\n",
        "  lr = config.lr\n",
        "  layer_size = config.layer_size\n",
        "  cell_type = config.cell_type\n",
        "  hidden_layers = config.hidden_layers  \n",
        "  dropout = config.dropout\n",
        "  # Model training here\n",
        "\n",
        "  input_size_encoder = len(eng_token_map)\n",
        "  output_size=input_size_decoder=len(mar_token_map)\n",
        "\n",
        "  encoder_embedding_size=29\n",
        "  decoder_embedding_size=67\n",
        "  encoder_net=Encoder(input_size_encoder,encoder_embedding_size,hidden_layers,layer_size,cell_type,p=dropout).to(device)\n",
        "  decoder_net=Decoder(input_size_decoder,decoder_embedding_size,hidden_layers,output_size,layer_size,cell_type,p=dropout).to(device)\n",
        "  model=Seq2Seq(encoder_net,decoder_net,cell_type).to(device)\n",
        "  criterion = nn.CrossEntropyLoss()\n",
        "  import math\n",
        "  import time\n",
        " \n",
        "  optimizer = optim.Adam(model.parameters(),lr=lr)\n",
        "  model.train()\n",
        "\n",
        "  train_epoch_loss = 0\n",
        "  train_epoch_acc = 0\n",
        "  val_epoch_loss = 0\n",
        "  val_epoch_acc = 0\n",
        "  \n",
        "  N_EPOCHS = 10\n",
        "  CLIP = 1\n",
        "\n",
        "  for epoch in range(N_EPOCHS):\n",
        "\n",
        "  #TRAINING BLOCK\n",
        "    model.train()\n",
        "    for _, (src, trg) in enumerate(train_iter):\n",
        "        src, trg = src.to(device), trg.to(device)\n",
        "        \n",
        "        optimizer.zero_grad()\n",
        "\n",
        "        output = model(src, trg)\n",
        "        output = output[1:].view(-1, output.shape[-1])\n",
        "        trg = trg.permute(1,0)\n",
        "        trg = torch.reshape(trg[1:], (-1,))\n",
        "        loss = criterion(output, trg)\n",
        "        \n",
        "        # calculate accuracy\n",
        "        preds = torch.argmax(output, dim=1)\n",
        "        non_pad_elements = (trg != 0).nonzero(as_tuple=True)[0]\n",
        "        train_correct = preds[non_pad_elements] == trg[non_pad_elements]\n",
        "        train_epoch_acc += train_correct.sum().item() / len(non_pad_elements)\n",
        "        loss.backward()\n",
        "\n",
        "        #READ IF WE CAN PASS CLIP AS A HYPERPARAMETER \n",
        "        torch.nn.utils.clip_grad_norm_(model.parameters(), CLIP)\n",
        "\n",
        "        optimizer.step()\n",
        "\n",
        "        train_epoch_loss += loss.item()\n",
        "\n",
        "\n",
        "    train_epoch_loss = train_epoch_loss / len(train_iter)\n",
        "    train_epoch_acc = train_epoch_acc / len(train_iter)\n",
        "\n",
        "\n",
        "    #EVALUATION MODE\n",
        "    model.eval()\n",
        "    \n",
        "    with torch.no_grad():\n",
        "\n",
        "        for _, (src, trg) in enumerate(valid_iter):\n",
        "            src, trg = src.to(device), trg.to(device)\n",
        "\n",
        "            output = model(src, trg, 0) #turn off teacher forcing\n",
        "\n",
        "            output = output[1:].view(-1, output.shape[-1])\n",
        "            trg = trg.permute(1,0)\n",
        "            trg = torch.reshape(trg[1:], (-1,))\n",
        "\n",
        "            loss = criterion(output, trg)\n",
        "\n",
        "            val_epoch_loss += loss.item()\n",
        "            # calculate accuracy\n",
        "            preds = torch.argmax(output, dim=1)\n",
        "            non_pad_elements = (trg != 0).nonzero(as_tuple=True)[0]\n",
        "            val_correct = preds[non_pad_elements] == trg[non_pad_elements]\n",
        "            val_epoch_acc += val_correct.sum().item() / len(non_pad_elements)\n",
        "\n",
        "    val_epoch_loss = val_epoch_loss / len(valid_iter)\n",
        "    val_epoch_acc = val_epoch_acc / len(valid_iter)\n",
        "\n",
        "    print(f'Epoch: {epoch+1:02} |Train Loss: {train_epoch_loss:.3f} | Train accuracy: {train_epoch_acc:.3f}|Val. Loss: {val_epoch_loss:.3f} | Val accuracy: {val_epoch_acc:.3f}')\n",
        "    wandb.log({\"train_loss\":train_epoch_loss,\"train_accuracy\": train_epoch_acc,\"val_loss\":val_epoch_loss,\"val_accuracy\":val_epoch_acc},)\n",
        "    #emptying the cache after one complete run\n",
        "    if epoch==N_EPOCHS-1:\n",
        "            torch.cuda.empty_cache()\n",
        "\n",
        "\n",
        "#RUNNING THE SWEEP\n",
        "wandb.agent(sweep_id, function=sweep_train, count=120)\n"
      ]
    },
    {
      "cell_type": "markdown",
      "source": [
        "# SAVING OUTPUT IN CSV FILES AND WORD LEVEL ACCURACY CALCULATION"
      ],
      "metadata": {
        "id": "4acZIA2zUmAV"
      }
    },
    {
      "cell_type": "code",
      "source": [
        "#removing end of sentence token\n",
        "solution_test_att = [word.replace('.', '') for word in solution_test_att]\n",
        "solution_test = [word.replace('.', '') for word in solution_test]\n",
        "def calculate_accuracy(list1, list2):\n",
        "    total_words = len(list1)\n",
        "    correct_words = 0\n",
        "\n",
        "    for word1, word2 in zip(list1, list2):\n",
        "        if word1 == word2:\n",
        "            correct_words += 1\n",
        "\n",
        "    accuracy = correct_words / total_words * 100\n",
        "    return accuracy\n",
        "\n",
        "vanilla_seq2seq_accuracy=calculate_accuracy(test_ma,solution_test)\n",
        "attention_seq2seq_accuracy=calculate_accuracy(test_ma,solution_test_att)\n",
        "print('vanilla_seq2seq_Acc.:',vanilla_seq2seq_accuracy)\n",
        "print('attention_seq2seq_Acc.:',attention_seq2seq_accuracy)"
      ],
      "metadata": {
        "colab": {
          "base_uri": "https://localhost:8080/"
        },
        "id": "Vhc-w20id7NW",
        "outputId": "ccc67f99-5f88-44df-883c-f937d4f7dfb6"
      },
      "execution_count": 24,
      "outputs": [
        {
          "output_type": "stream",
          "name": "stdout",
          "text": [
            "vanilla_seq2seq_Acc.: 29.98046875\n",
            "attention_seq2seq_Acc.: 32.3486328125\n"
          ]
        }
      ]
    },
    {
      "cell_type": "code",
      "execution_count": 25,
      "metadata": {
        "id": "EPQBda8BrPP3"
      },
      "outputs": [],
      "source": [
        "import csv\n",
        "\n",
        "file_path = '/content/drive/MyDrive/Predictions_attention.csv'\n",
        "with open(file_path, 'w', newline='') as file:\n",
        "    writer = csv.writer(file)\n",
        "\n",
        "    # Write the column headers\n",
        "    writer.writerow(['English', 'Marathi_translation', 'Attention_seq2seq_pred'])\n",
        "\n",
        "    # Write the data rows\n",
        "    for row in zip(test_en, test_ma, solution_test_att):\n",
        "        writer.writerow(row)"
      ]
    },
    {
      "cell_type": "code",
      "execution_count": 26,
      "metadata": {
        "id": "njN2lGUV2ptd"
      },
      "outputs": [],
      "source": [
        "import csv\n",
        "file_path = '/content/drive/MyDrive/Predictions_vanilla.csv'\n",
        "with open(file_path, 'w', newline='') as file:\n",
        "    writer = csv.writer(file)\n",
        "\n",
        "    # Write the column headers\n",
        "    writer.writerow(['English', 'Marathi_translation', 'Vanilla_seq2seq_pred'])\n",
        "\n",
        "    # Write the data rows\n",
        "    for row in zip(test_en, test_ma, solution_test):\n",
        "        writer.writerow(row)\n"
      ]
    }
  ],
  "metadata": {
    "accelerator": "GPU",
    "colab": {
      "provenance": [],
      "authorship_tag": "ABX9TyMlSM3338XVrlFZNj53xXST",
      "include_colab_link": true
    },
    "gpuClass": "standard",
    "kernelspec": {
      "display_name": "Python 3",
      "name": "python3"
    },
    "language_info": {
      "name": "python"
    },
    "widgets": {
      "application/vnd.jupyter.widget-state+json": {
        "0029bd3ca1c94350a4ed311349e040bf": {
          "model_module": "@jupyter-widgets/base",
          "model_module_version": "1.2.0",
          "model_name": "LayoutModel",
          "state": {
            "_model_module": "@jupyter-widgets/base",
            "_model_module_version": "1.2.0",
            "_model_name": "LayoutModel",
            "_view_count": null,
            "_view_module": "@jupyter-widgets/base",
            "_view_module_version": "1.2.0",
            "_view_name": "LayoutView",
            "align_content": null,
            "align_items": null,
            "align_self": null,
            "border": null,
            "bottom": null,
            "display": null,
            "flex": null,
            "flex_flow": null,
            "grid_area": null,
            "grid_auto_columns": null,
            "grid_auto_flow": null,
            "grid_auto_rows": null,
            "grid_column": null,
            "grid_gap": null,
            "grid_row": null,
            "grid_template_areas": null,
            "grid_template_columns": null,
            "grid_template_rows": null,
            "height": null,
            "justify_content": null,
            "justify_items": null,
            "left": null,
            "margin": null,
            "max_height": null,
            "max_width": null,
            "min_height": null,
            "min_width": null,
            "object_fit": null,
            "object_position": null,
            "order": null,
            "overflow": null,
            "overflow_x": null,
            "overflow_y": null,
            "padding": null,
            "right": null,
            "top": null,
            "visibility": null,
            "width": null
          }
        },
        "009d917192ac45f8b9a5cb3e88b3be67": {
          "model_module": "@jupyter-widgets/base",
          "model_module_version": "1.2.0",
          "model_name": "LayoutModel",
          "state": {
            "_model_module": "@jupyter-widgets/base",
            "_model_module_version": "1.2.0",
            "_model_name": "LayoutModel",
            "_view_count": null,
            "_view_module": "@jupyter-widgets/base",
            "_view_module_version": "1.2.0",
            "_view_name": "LayoutView",
            "align_content": null,
            "align_items": null,
            "align_self": null,
            "border": null,
            "bottom": null,
            "display": null,
            "flex": null,
            "flex_flow": null,
            "grid_area": null,
            "grid_auto_columns": null,
            "grid_auto_flow": null,
            "grid_auto_rows": null,
            "grid_column": null,
            "grid_gap": null,
            "grid_row": null,
            "grid_template_areas": null,
            "grid_template_columns": null,
            "grid_template_rows": null,
            "height": null,
            "justify_content": null,
            "justify_items": null,
            "left": null,
            "margin": null,
            "max_height": null,
            "max_width": null,
            "min_height": null,
            "min_width": null,
            "object_fit": null,
            "object_position": null,
            "order": null,
            "overflow": null,
            "overflow_x": null,
            "overflow_y": null,
            "padding": null,
            "right": null,
            "top": null,
            "visibility": null,
            "width": null
          }
        },
        "09dc089336be4b8a9fb06ebd4e27b92e": {
          "model_module": "@jupyter-widgets/base",
          "model_module_version": "1.2.0",
          "model_name": "LayoutModel",
          "state": {
            "_model_module": "@jupyter-widgets/base",
            "_model_module_version": "1.2.0",
            "_model_name": "LayoutModel",
            "_view_count": null,
            "_view_module": "@jupyter-widgets/base",
            "_view_module_version": "1.2.0",
            "_view_name": "LayoutView",
            "align_content": null,
            "align_items": null,
            "align_self": null,
            "border": null,
            "bottom": null,
            "display": null,
            "flex": null,
            "flex_flow": null,
            "grid_area": null,
            "grid_auto_columns": null,
            "grid_auto_flow": null,
            "grid_auto_rows": null,
            "grid_column": null,
            "grid_gap": null,
            "grid_row": null,
            "grid_template_areas": null,
            "grid_template_columns": null,
            "grid_template_rows": null,
            "height": null,
            "justify_content": null,
            "justify_items": null,
            "left": null,
            "margin": null,
            "max_height": null,
            "max_width": null,
            "min_height": null,
            "min_width": null,
            "object_fit": null,
            "object_position": null,
            "order": null,
            "overflow": null,
            "overflow_x": null,
            "overflow_y": null,
            "padding": null,
            "right": null,
            "top": null,
            "visibility": null,
            "width": null
          }
        },
        "1c4c5300439a47fca5d0dc2bbb00c7c5": {
          "model_module": "@jupyter-widgets/controls",
          "model_module_version": "1.5.0",
          "model_name": "DescriptionStyleModel",
          "state": {
            "_model_module": "@jupyter-widgets/controls",
            "_model_module_version": "1.5.0",
            "_model_name": "DescriptionStyleModel",
            "_view_count": null,
            "_view_module": "@jupyter-widgets/base",
            "_view_module_version": "1.2.0",
            "_view_name": "StyleView",
            "description_width": ""
          }
        },
        "1e20596ffc514c82b89c308c78e60097": {
          "model_module": "@jupyter-widgets/controls",
          "model_module_version": "1.5.0",
          "model_name": "FloatProgressModel",
          "state": {
            "_dom_classes": [],
            "_model_module": "@jupyter-widgets/controls",
            "_model_module_version": "1.5.0",
            "_model_name": "FloatProgressModel",
            "_view_count": null,
            "_view_module": "@jupyter-widgets/controls",
            "_view_module_version": "1.5.0",
            "_view_name": "ProgressView",
            "bar_style": "",
            "description": "",
            "description_tooltip": null,
            "layout": "IPY_MODEL_009d917192ac45f8b9a5cb3e88b3be67",
            "max": 1,
            "min": 0,
            "orientation": "horizontal",
            "style": "IPY_MODEL_99445299e74d4e7db3951662a977c21a",
            "value": 0.11012801204819277
          }
        },
        "2de8fbf1431348c0b375c2bea37bc58a": {
          "model_module": "@jupyter-widgets/controls",
          "model_module_version": "1.5.0",
          "model_name": "DescriptionStyleModel",
          "state": {
            "_model_module": "@jupyter-widgets/controls",
            "_model_module_version": "1.5.0",
            "_model_name": "DescriptionStyleModel",
            "_view_count": null,
            "_view_module": "@jupyter-widgets/base",
            "_view_module_version": "1.2.0",
            "_view_name": "StyleView",
            "description_width": ""
          }
        },
        "2f6b8df6ebb44ab1b38f5aebd30225d5": {
          "model_module": "@jupyter-widgets/base",
          "model_module_version": "1.2.0",
          "model_name": "LayoutModel",
          "state": {
            "_model_module": "@jupyter-widgets/base",
            "_model_module_version": "1.2.0",
            "_model_name": "LayoutModel",
            "_view_count": null,
            "_view_module": "@jupyter-widgets/base",
            "_view_module_version": "1.2.0",
            "_view_name": "LayoutView",
            "align_content": null,
            "align_items": null,
            "align_self": null,
            "border": null,
            "bottom": null,
            "display": null,
            "flex": null,
            "flex_flow": null,
            "grid_area": null,
            "grid_auto_columns": null,
            "grid_auto_flow": null,
            "grid_auto_rows": null,
            "grid_column": null,
            "grid_gap": null,
            "grid_row": null,
            "grid_template_areas": null,
            "grid_template_columns": null,
            "grid_template_rows": null,
            "height": null,
            "justify_content": null,
            "justify_items": null,
            "left": null,
            "margin": null,
            "max_height": null,
            "max_width": null,
            "min_height": null,
            "min_width": null,
            "object_fit": null,
            "object_position": null,
            "order": null,
            "overflow": null,
            "overflow_x": null,
            "overflow_y": null,
            "padding": null,
            "right": null,
            "top": null,
            "visibility": null,
            "width": null
          }
        },
        "2fb0c0dc7f564ad5849f01201a2349dc": {
          "model_module": "@jupyter-widgets/controls",
          "model_module_version": "1.5.0",
          "model_name": "FloatProgressModel",
          "state": {
            "_dom_classes": [],
            "_model_module": "@jupyter-widgets/controls",
            "_model_module_version": "1.5.0",
            "_model_name": "FloatProgressModel",
            "_view_count": null,
            "_view_module": "@jupyter-widgets/controls",
            "_view_module_version": "1.5.0",
            "_view_name": "ProgressView",
            "bar_style": "",
            "description": "",
            "description_tooltip": null,
            "layout": "IPY_MODEL_fafea03cb3874a209280303fd0ac44e5",
            "max": 1,
            "min": 0,
            "orientation": "horizontal",
            "style": "IPY_MODEL_66c1662f065e4171803abdb4210d4df0",
            "value": 1
          }
        },
        "3726b5cd9ab240f198b0abf2bd0ee999": {
          "model_module": "@jupyter-widgets/base",
          "model_module_version": "1.2.0",
          "model_name": "LayoutModel",
          "state": {
            "_model_module": "@jupyter-widgets/base",
            "_model_module_version": "1.2.0",
            "_model_name": "LayoutModel",
            "_view_count": null,
            "_view_module": "@jupyter-widgets/base",
            "_view_module_version": "1.2.0",
            "_view_name": "LayoutView",
            "align_content": null,
            "align_items": null,
            "align_self": null,
            "border": null,
            "bottom": null,
            "display": null,
            "flex": null,
            "flex_flow": null,
            "grid_area": null,
            "grid_auto_columns": null,
            "grid_auto_flow": null,
            "grid_auto_rows": null,
            "grid_column": null,
            "grid_gap": null,
            "grid_row": null,
            "grid_template_areas": null,
            "grid_template_columns": null,
            "grid_template_rows": null,
            "height": null,
            "justify_content": null,
            "justify_items": null,
            "left": null,
            "margin": null,
            "max_height": null,
            "max_width": null,
            "min_height": null,
            "min_width": null,
            "object_fit": null,
            "object_position": null,
            "order": null,
            "overflow": null,
            "overflow_x": null,
            "overflow_y": null,
            "padding": null,
            "right": null,
            "top": null,
            "visibility": null,
            "width": null
          }
        },
        "3cb5d0076b4e4ce8bf8943a44895bdc6": {
          "model_module": "@jupyter-widgets/controls",
          "model_module_version": "1.5.0",
          "model_name": "VBoxModel",
          "state": {
            "_dom_classes": [],
            "_model_module": "@jupyter-widgets/controls",
            "_model_module_version": "1.5.0",
            "_model_name": "VBoxModel",
            "_view_count": null,
            "_view_module": "@jupyter-widgets/controls",
            "_view_module_version": "1.5.0",
            "_view_name": "VBoxView",
            "box_style": "",
            "children": [
              "IPY_MODEL_ee966b1121cd45c28893b2cc3a0f36ef",
              "IPY_MODEL_1e20596ffc514c82b89c308c78e60097"
            ],
            "layout": "IPY_MODEL_09dc089336be4b8a9fb06ebd4e27b92e"
          }
        },
        "3f8878c3e01f4dfe954752b6a726974c": {
          "model_module": "@jupyter-widgets/controls",
          "model_module_version": "1.5.0",
          "model_name": "LabelModel",
          "state": {
            "_dom_classes": [],
            "_model_module": "@jupyter-widgets/controls",
            "_model_module_version": "1.5.0",
            "_model_name": "LabelModel",
            "_view_count": null,
            "_view_module": "@jupyter-widgets/controls",
            "_view_module_version": "1.5.0",
            "_view_name": "LabelView",
            "description": "",
            "description_tooltip": null,
            "layout": "IPY_MODEL_5cffdb42030b4aaaa4adf32ed67a4bd0",
            "placeholder": "​",
            "style": "IPY_MODEL_d490c128677e486981c7ed932e7a8e4a",
            "value": "Waiting for wandb.init()...\r"
          }
        },
        "3fa2e79d8bf645fd925b2ca74b33ace1": {
          "model_module": "@jupyter-widgets/base",
          "model_module_version": "1.2.0",
          "model_name": "LayoutModel",
          "state": {
            "_model_module": "@jupyter-widgets/base",
            "_model_module_version": "1.2.0",
            "_model_name": "LayoutModel",
            "_view_count": null,
            "_view_module": "@jupyter-widgets/base",
            "_view_module_version": "1.2.0",
            "_view_name": "LayoutView",
            "align_content": null,
            "align_items": null,
            "align_self": null,
            "border": null,
            "bottom": null,
            "display": null,
            "flex": null,
            "flex_flow": null,
            "grid_area": null,
            "grid_auto_columns": null,
            "grid_auto_flow": null,
            "grid_auto_rows": null,
            "grid_column": null,
            "grid_gap": null,
            "grid_row": null,
            "grid_template_areas": null,
            "grid_template_columns": null,
            "grid_template_rows": null,
            "height": null,
            "justify_content": null,
            "justify_items": null,
            "left": null,
            "margin": null,
            "max_height": null,
            "max_width": null,
            "min_height": null,
            "min_width": null,
            "object_fit": null,
            "object_position": null,
            "order": null,
            "overflow": null,
            "overflow_x": null,
            "overflow_y": null,
            "padding": null,
            "right": null,
            "top": null,
            "visibility": null,
            "width": null
          }
        },
        "4149a4c78e664d71a256e6deaab7716d": {
          "model_module": "@jupyter-widgets/controls",
          "model_module_version": "1.5.0",
          "model_name": "VBoxModel",
          "state": {
            "_dom_classes": [],
            "_model_module": "@jupyter-widgets/controls",
            "_model_module_version": "1.5.0",
            "_model_name": "VBoxModel",
            "_view_count": null,
            "_view_module": "@jupyter-widgets/controls",
            "_view_module_version": "1.5.0",
            "_view_name": "VBoxView",
            "box_style": "",
            "children": [
              "IPY_MODEL_3f8878c3e01f4dfe954752b6a726974c",
              "IPY_MODEL_2fb0c0dc7f564ad5849f01201a2349dc"
            ],
            "layout": "IPY_MODEL_3726b5cd9ab240f198b0abf2bd0ee999"
          }
        },
        "4562bbd5ab014f7084a5b74100662d6c": {
          "model_module": "@jupyter-widgets/base",
          "model_module_version": "1.2.0",
          "model_name": "LayoutModel",
          "state": {
            "_model_module": "@jupyter-widgets/base",
            "_model_module_version": "1.2.0",
            "_model_name": "LayoutModel",
            "_view_count": null,
            "_view_module": "@jupyter-widgets/base",
            "_view_module_version": "1.2.0",
            "_view_name": "LayoutView",
            "align_content": null,
            "align_items": null,
            "align_self": null,
            "border": null,
            "bottom": null,
            "display": null,
            "flex": null,
            "flex_flow": null,
            "grid_area": null,
            "grid_auto_columns": null,
            "grid_auto_flow": null,
            "grid_auto_rows": null,
            "grid_column": null,
            "grid_gap": null,
            "grid_row": null,
            "grid_template_areas": null,
            "grid_template_columns": null,
            "grid_template_rows": null,
            "height": null,
            "justify_content": null,
            "justify_items": null,
            "left": null,
            "margin": null,
            "max_height": null,
            "max_width": null,
            "min_height": null,
            "min_width": null,
            "object_fit": null,
            "object_position": null,
            "order": null,
            "overflow": null,
            "overflow_x": null,
            "overflow_y": null,
            "padding": null,
            "right": null,
            "top": null,
            "visibility": null,
            "width": null
          }
        },
        "4db95218bd8c45fd8638e73b17655541": {
          "model_module": "@jupyter-widgets/base",
          "model_module_version": "1.2.0",
          "model_name": "LayoutModel",
          "state": {
            "_model_module": "@jupyter-widgets/base",
            "_model_module_version": "1.2.0",
            "_model_name": "LayoutModel",
            "_view_count": null,
            "_view_module": "@jupyter-widgets/base",
            "_view_module_version": "1.2.0",
            "_view_name": "LayoutView",
            "align_content": null,
            "align_items": null,
            "align_self": null,
            "border": null,
            "bottom": null,
            "display": null,
            "flex": null,
            "flex_flow": null,
            "grid_area": null,
            "grid_auto_columns": null,
            "grid_auto_flow": null,
            "grid_auto_rows": null,
            "grid_column": null,
            "grid_gap": null,
            "grid_row": null,
            "grid_template_areas": null,
            "grid_template_columns": null,
            "grid_template_rows": null,
            "height": null,
            "justify_content": null,
            "justify_items": null,
            "left": null,
            "margin": null,
            "max_height": null,
            "max_width": null,
            "min_height": null,
            "min_width": null,
            "object_fit": null,
            "object_position": null,
            "order": null,
            "overflow": null,
            "overflow_x": null,
            "overflow_y": null,
            "padding": null,
            "right": null,
            "top": null,
            "visibility": null,
            "width": null
          }
        },
        "4e3528158aaf4a6687bdeb93fd7164d3": {
          "model_module": "@jupyter-widgets/controls",
          "model_module_version": "1.5.0",
          "model_name": "ProgressStyleModel",
          "state": {
            "_model_module": "@jupyter-widgets/controls",
            "_model_module_version": "1.5.0",
            "_model_name": "ProgressStyleModel",
            "_view_count": null,
            "_view_module": "@jupyter-widgets/base",
            "_view_module_version": "1.2.0",
            "_view_name": "StyleView",
            "bar_color": null,
            "description_width": ""
          }
        },
        "5cffdb42030b4aaaa4adf32ed67a4bd0": {
          "model_module": "@jupyter-widgets/base",
          "model_module_version": "1.2.0",
          "model_name": "LayoutModel",
          "state": {
            "_model_module": "@jupyter-widgets/base",
            "_model_module_version": "1.2.0",
            "_model_name": "LayoutModel",
            "_view_count": null,
            "_view_module": "@jupyter-widgets/base",
            "_view_module_version": "1.2.0",
            "_view_name": "LayoutView",
            "align_content": null,
            "align_items": null,
            "align_self": null,
            "border": null,
            "bottom": null,
            "display": null,
            "flex": null,
            "flex_flow": null,
            "grid_area": null,
            "grid_auto_columns": null,
            "grid_auto_flow": null,
            "grid_auto_rows": null,
            "grid_column": null,
            "grid_gap": null,
            "grid_row": null,
            "grid_template_areas": null,
            "grid_template_columns": null,
            "grid_template_rows": null,
            "height": null,
            "justify_content": null,
            "justify_items": null,
            "left": null,
            "margin": null,
            "max_height": null,
            "max_width": null,
            "min_height": null,
            "min_width": null,
            "object_fit": null,
            "object_position": null,
            "order": null,
            "overflow": null,
            "overflow_x": null,
            "overflow_y": null,
            "padding": null,
            "right": null,
            "top": null,
            "visibility": null,
            "width": null
          }
        },
        "62351b579cad492bafe79bec945e8327": {
          "model_module": "@jupyter-widgets/controls",
          "model_module_version": "1.5.0",
          "model_name": "LabelModel",
          "state": {
            "_dom_classes": [],
            "_model_module": "@jupyter-widgets/controls",
            "_model_module_version": "1.5.0",
            "_model_name": "LabelModel",
            "_view_count": null,
            "_view_module": "@jupyter-widgets/controls",
            "_view_module_version": "1.5.0",
            "_view_name": "LabelView",
            "description": "",
            "description_tooltip": null,
            "layout": "IPY_MODEL_3fa2e79d8bf645fd925b2ca74b33ace1",
            "placeholder": "​",
            "style": "IPY_MODEL_2de8fbf1431348c0b375c2bea37bc58a",
            "value": "0.010 MB of 0.010 MB uploaded (0.000 MB deduped)\r"
          }
        },
        "62cdf5406f4f4ae0bfef029acc8b25ac": {
          "model_module": "@jupyter-widgets/controls",
          "model_module_version": "1.5.0",
          "model_name": "FloatProgressModel",
          "state": {
            "_dom_classes": [],
            "_model_module": "@jupyter-widgets/controls",
            "_model_module_version": "1.5.0",
            "_model_name": "FloatProgressModel",
            "_view_count": null,
            "_view_module": "@jupyter-widgets/controls",
            "_view_module_version": "1.5.0",
            "_view_name": "ProgressView",
            "bar_style": "",
            "description": "",
            "description_tooltip": null,
            "layout": "IPY_MODEL_0029bd3ca1c94350a4ed311349e040bf",
            "max": 1,
            "min": 0,
            "orientation": "horizontal",
            "style": "IPY_MODEL_99b20e257eb94f7c9ea138b138b8b92a",
            "value": 1
          }
        },
        "66c1662f065e4171803abdb4210d4df0": {
          "model_module": "@jupyter-widgets/controls",
          "model_module_version": "1.5.0",
          "model_name": "ProgressStyleModel",
          "state": {
            "_model_module": "@jupyter-widgets/controls",
            "_model_module_version": "1.5.0",
            "_model_name": "ProgressStyleModel",
            "_view_count": null,
            "_view_module": "@jupyter-widgets/base",
            "_view_module_version": "1.2.0",
            "_view_name": "StyleView",
            "bar_color": null,
            "description_width": ""
          }
        },
        "770c3cb14d53452296ae96b6d12acb2b": {
          "model_module": "@jupyter-widgets/base",
          "model_module_version": "1.2.0",
          "model_name": "LayoutModel",
          "state": {
            "_model_module": "@jupyter-widgets/base",
            "_model_module_version": "1.2.0",
            "_model_name": "LayoutModel",
            "_view_count": null,
            "_view_module": "@jupyter-widgets/base",
            "_view_module_version": "1.2.0",
            "_view_name": "LayoutView",
            "align_content": null,
            "align_items": null,
            "align_self": null,
            "border": null,
            "bottom": null,
            "display": null,
            "flex": null,
            "flex_flow": null,
            "grid_area": null,
            "grid_auto_columns": null,
            "grid_auto_flow": null,
            "grid_auto_rows": null,
            "grid_column": null,
            "grid_gap": null,
            "grid_row": null,
            "grid_template_areas": null,
            "grid_template_columns": null,
            "grid_template_rows": null,
            "height": null,
            "justify_content": null,
            "justify_items": null,
            "left": null,
            "margin": null,
            "max_height": null,
            "max_width": null,
            "min_height": null,
            "min_width": null,
            "object_fit": null,
            "object_position": null,
            "order": null,
            "overflow": null,
            "overflow_x": null,
            "overflow_y": null,
            "padding": null,
            "right": null,
            "top": null,
            "visibility": null,
            "width": null
          }
        },
        "99445299e74d4e7db3951662a977c21a": {
          "model_module": "@jupyter-widgets/controls",
          "model_module_version": "1.5.0",
          "model_name": "ProgressStyleModel",
          "state": {
            "_model_module": "@jupyter-widgets/controls",
            "_model_module_version": "1.5.0",
            "_model_name": "ProgressStyleModel",
            "_view_count": null,
            "_view_module": "@jupyter-widgets/base",
            "_view_module_version": "1.2.0",
            "_view_name": "StyleView",
            "bar_color": null,
            "description_width": ""
          }
        },
        "99b20e257eb94f7c9ea138b138b8b92a": {
          "model_module": "@jupyter-widgets/controls",
          "model_module_version": "1.5.0",
          "model_name": "ProgressStyleModel",
          "state": {
            "_model_module": "@jupyter-widgets/controls",
            "_model_module_version": "1.5.0",
            "_model_name": "ProgressStyleModel",
            "_view_count": null,
            "_view_module": "@jupyter-widgets/base",
            "_view_module_version": "1.2.0",
            "_view_name": "StyleView",
            "bar_color": null,
            "description_width": ""
          }
        },
        "c269d71a857e408aa28d91b2efd35eff": {
          "model_module": "@jupyter-widgets/base",
          "model_module_version": "1.2.0",
          "model_name": "LayoutModel",
          "state": {
            "_model_module": "@jupyter-widgets/base",
            "_model_module_version": "1.2.0",
            "_model_name": "LayoutModel",
            "_view_count": null,
            "_view_module": "@jupyter-widgets/base",
            "_view_module_version": "1.2.0",
            "_view_name": "LayoutView",
            "align_content": null,
            "align_items": null,
            "align_self": null,
            "border": null,
            "bottom": null,
            "display": null,
            "flex": null,
            "flex_flow": null,
            "grid_area": null,
            "grid_auto_columns": null,
            "grid_auto_flow": null,
            "grid_auto_rows": null,
            "grid_column": null,
            "grid_gap": null,
            "grid_row": null,
            "grid_template_areas": null,
            "grid_template_columns": null,
            "grid_template_rows": null,
            "height": null,
            "justify_content": null,
            "justify_items": null,
            "left": null,
            "margin": null,
            "max_height": null,
            "max_width": null,
            "min_height": null,
            "min_width": null,
            "object_fit": null,
            "object_position": null,
            "order": null,
            "overflow": null,
            "overflow_x": null,
            "overflow_y": null,
            "padding": null,
            "right": null,
            "top": null,
            "visibility": null,
            "width": null
          }
        },
        "c4204db901f44e57a468b949be7a9cc5": {
          "model_module": "@jupyter-widgets/controls",
          "model_module_version": "1.5.0",
          "model_name": "DescriptionStyleModel",
          "state": {
            "_model_module": "@jupyter-widgets/controls",
            "_model_module_version": "1.5.0",
            "_model_name": "DescriptionStyleModel",
            "_view_count": null,
            "_view_module": "@jupyter-widgets/base",
            "_view_module_version": "1.2.0",
            "_view_name": "StyleView",
            "description_width": ""
          }
        },
        "d0e13e633f6c46749d354d038df3dfff": {
          "model_module": "@jupyter-widgets/controls",
          "model_module_version": "1.5.0",
          "model_name": "FloatProgressModel",
          "state": {
            "_dom_classes": [],
            "_model_module": "@jupyter-widgets/controls",
            "_model_module_version": "1.5.0",
            "_model_name": "FloatProgressModel",
            "_view_count": null,
            "_view_module": "@jupyter-widgets/controls",
            "_view_module_version": "1.5.0",
            "_view_name": "ProgressView",
            "bar_style": "",
            "description": "",
            "description_tooltip": null,
            "layout": "IPY_MODEL_4562bbd5ab014f7084a5b74100662d6c",
            "max": 1,
            "min": 0,
            "orientation": "horizontal",
            "style": "IPY_MODEL_4e3528158aaf4a6687bdeb93fd7164d3",
            "value": 1
          }
        },
        "d2c4d6f23f594ef3b9bb9514eb986abb": {
          "model_module": "@jupyter-widgets/controls",
          "model_module_version": "1.5.0",
          "model_name": "VBoxModel",
          "state": {
            "_dom_classes": [],
            "_model_module": "@jupyter-widgets/controls",
            "_model_module_version": "1.5.0",
            "_model_name": "VBoxModel",
            "_view_count": null,
            "_view_module": "@jupyter-widgets/controls",
            "_view_module_version": "1.5.0",
            "_view_name": "VBoxView",
            "box_style": "",
            "children": [
              "IPY_MODEL_62351b579cad492bafe79bec945e8327",
              "IPY_MODEL_62cdf5406f4f4ae0bfef029acc8b25ac"
            ],
            "layout": "IPY_MODEL_770c3cb14d53452296ae96b6d12acb2b"
          }
        },
        "d490c128677e486981c7ed932e7a8e4a": {
          "model_module": "@jupyter-widgets/controls",
          "model_module_version": "1.5.0",
          "model_name": "DescriptionStyleModel",
          "state": {
            "_model_module": "@jupyter-widgets/controls",
            "_model_module_version": "1.5.0",
            "_model_name": "DescriptionStyleModel",
            "_view_count": null,
            "_view_module": "@jupyter-widgets/base",
            "_view_module_version": "1.2.0",
            "_view_name": "StyleView",
            "description_width": ""
          }
        },
        "e8e252f6d5d141bba53ec2757bbb498f": {
          "model_module": "@jupyter-widgets/controls",
          "model_module_version": "1.5.0",
          "model_name": "VBoxModel",
          "state": {
            "_dom_classes": [],
            "_model_module": "@jupyter-widgets/controls",
            "_model_module_version": "1.5.0",
            "_model_name": "VBoxModel",
            "_view_count": null,
            "_view_module": "@jupyter-widgets/controls",
            "_view_module_version": "1.5.0",
            "_view_name": "VBoxView",
            "box_style": "",
            "children": [
              "IPY_MODEL_ed6fb297d7cb4188953724e8fd678c56",
              "IPY_MODEL_d0e13e633f6c46749d354d038df3dfff"
            ],
            "layout": "IPY_MODEL_2f6b8df6ebb44ab1b38f5aebd30225d5"
          }
        },
        "ed6fb297d7cb4188953724e8fd678c56": {
          "model_module": "@jupyter-widgets/controls",
          "model_module_version": "1.5.0",
          "model_name": "LabelModel",
          "state": {
            "_dom_classes": [],
            "_model_module": "@jupyter-widgets/controls",
            "_model_module_version": "1.5.0",
            "_model_name": "LabelModel",
            "_view_count": null,
            "_view_module": "@jupyter-widgets/controls",
            "_view_module_version": "1.5.0",
            "_view_name": "LabelView",
            "description": "",
            "description_tooltip": null,
            "layout": "IPY_MODEL_4db95218bd8c45fd8638e73b17655541",
            "placeholder": "​",
            "style": "IPY_MODEL_c4204db901f44e57a468b949be7a9cc5",
            "value": "0.010 MB of 0.010 MB uploaded (0.000 MB deduped)\r"
          }
        },
        "ee966b1121cd45c28893b2cc3a0f36ef": {
          "model_module": "@jupyter-widgets/controls",
          "model_module_version": "1.5.0",
          "model_name": "LabelModel",
          "state": {
            "_dom_classes": [],
            "_model_module": "@jupyter-widgets/controls",
            "_model_module_version": "1.5.0",
            "_model_name": "LabelModel",
            "_view_count": null,
            "_view_module": "@jupyter-widgets/controls",
            "_view_module_version": "1.5.0",
            "_view_name": "LabelView",
            "description": "",
            "description_tooltip": null,
            "layout": "IPY_MODEL_c269d71a857e408aa28d91b2efd35eff",
            "placeholder": "​",
            "style": "IPY_MODEL_1c4c5300439a47fca5d0dc2bbb00c7c5",
            "value": "0.001 MB of 0.010 MB uploaded (0.000 MB deduped)\r"
          }
        },
        "fafea03cb3874a209280303fd0ac44e5": {
          "model_module": "@jupyter-widgets/base",
          "model_module_version": "1.2.0",
          "model_name": "LayoutModel",
          "state": {
            "_model_module": "@jupyter-widgets/base",
            "_model_module_version": "1.2.0",
            "_model_name": "LayoutModel",
            "_view_count": null,
            "_view_module": "@jupyter-widgets/base",
            "_view_module_version": "1.2.0",
            "_view_name": "LayoutView",
            "align_content": null,
            "align_items": null,
            "align_self": null,
            "border": null,
            "bottom": null,
            "display": null,
            "flex": null,
            "flex_flow": null,
            "grid_area": null,
            "grid_auto_columns": null,
            "grid_auto_flow": null,
            "grid_auto_rows": null,
            "grid_column": null,
            "grid_gap": null,
            "grid_row": null,
            "grid_template_areas": null,
            "grid_template_columns": null,
            "grid_template_rows": null,
            "height": null,
            "justify_content": null,
            "justify_items": null,
            "left": null,
            "margin": null,
            "max_height": null,
            "max_width": null,
            "min_height": null,
            "min_width": null,
            "object_fit": null,
            "object_position": null,
            "order": null,
            "overflow": null,
            "overflow_x": null,
            "overflow_y": null,
            "padding": null,
            "right": null,
            "top": null,
            "visibility": null,
            "width": null
          }
        }
      }
    }
  },
  "nbformat": 4,
  "nbformat_minor": 0
}